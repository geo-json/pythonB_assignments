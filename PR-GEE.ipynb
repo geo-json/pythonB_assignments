{
 "cells": [
  {
   "cell_type": "code",
   "execution_count": 2,
   "metadata": {},
   "outputs": [],
   "source": [
    "# Installs geemap package\n",
    "import subprocess\n",
    "\n",
    "try:\n",
    "    import geemap\n",
    "except ImportError:\n",
    "    print('geemap package not installed. Installing ...')\n",
    "    subprocess.check_call([\"python\", '-m', 'pip', 'install', 'geemap'])\n",
    "\n",
    "# Checks whether this notebook is running on Google Colab\n",
    "try:\n",
    "    import google.colab\n",
    "    import geemap.eefolium as emap\n",
    "except:\n",
    "    import geemap as emap\n",
    "\n",
    "# Authenticates and initializes Earth Engine\n",
    "import ee\n",
    "\n",
    "try:\n",
    "    ee.Initialize()\n",
    "except Exception as e:\n",
    "    ee.Authenticate()\n",
    "    ee.Initialize()  \n",
    "import json\n",
    "import os\n",
    "import requests\n",
    "from geemap import geojson_to_ee, ee_to_geojson\n",
    "from ipyleaflet import GeoJSON"
   ]
  },
  {
   "cell_type": "code",
   "execution_count": 3,
   "metadata": {
    "scrolled": true
   },
   "outputs": [
    {
     "data": {
      "application/vnd.jupyter.widget-view+json": {
       "model_id": "636710df761347f191384694938f8783",
       "version_major": 2,
       "version_minor": 0
      },
      "text/plain": [
       "Map(center=[18, -66], controls=(ZoomControl(options=['position', 'zoom_in_text', 'zoom_in_title', 'zoom_out_te…"
      ]
     },
     "metadata": {},
     "output_type": "display_data"
    }
   ],
   "source": [
    "Map = emap.Map(center=[18,-66], zoom=9)\n",
    "Map.add_basemap('SATELLITE') # Add Google Map\n",
    "Map"
   ]
  },
  {
   "cell_type": "code",
   "execution_count": 5,
   "metadata": {},
   "outputs": [],
   "source": [
    "# setting Puerto Rico boundary\n",
    "PR_polygon = ee.Geometry.Polygon([[[-66.97540283203125, 18.04403274297545],\\\n",
    "                                 [-65.93170166015625, 18.04403274297545],\\\n",
    "                                 [-65.93170166015625, 18.41447273166262],\\\n",
    "                                 [-66.97540283203125, 18.41447273166262],\\\n",
    "                                 [-66.97540283203125, 18.04403274297545]]])\n"
   ]
  },
  {
   "cell_type": "code",
   "execution_count": 6,
   "metadata": {},
   "outputs": [],
   "source": [
    "# cloud mask function\n",
    "def maskS2clouds(image):\n",
    "#     bits 10 and 11 are cloud and cirrus \n",
    "    qa = image.select('QA60')\n",
    "    cloudBitMask = 1 << 10\n",
    "    cirrusBitMask = 1 << 11\n",
    "#     both needs to be set to zero - clear condition\n",
    "    mask = qa.bitwiseAnd(cloudBitMask).eq(0).And(\n",
    "    qa.bitwiseAnd(cirrusBitMask).eq(0))\n",
    "#     return the masked and scaled data without the QA bands\n",
    "    return image.updateMask(mask).divide(10000)\\\n",
    "        .select(\"B.*\")\\\n",
    "        .copyProperties(image, ['system:time_start'])"
   ]
  },
  {
   "cell_type": "code",
   "execution_count": 7,
   "metadata": {},
   "outputs": [],
   "source": [
    "# get level 2 sen2 image \n",
    "\n",
    "Start1 = ee.Date('2017-03-28')\n",
    "End1 = ee.Date('2017-6-30')\n",
    "img = ee.ImageCollection('COPERNICUS/S2')\\\n",
    "    .filterDate(Start1, End1)\\\n",
    "    .filterBounds(PR_polygon)\\\n",
    "    .filter(ee.Filter.lt('CLOUDY_PIXEL_PERCENTAGE', 20))\\\n",
    "    .map(maskS2clouds)\n",
    "composite1 = img.median()\n"
   ]
  },
  {
   "cell_type": "code",
   "execution_count": null,
   "metadata": {},
   "outputs": [],
   "source": []
  },
  {
   "cell_type": "code",
   "execution_count": 8,
   "metadata": {},
   "outputs": [],
   "source": [
    "Map.addLayer(composite1, {'bands':['B8', 'B4', 'B3'], 'min': 0, 'max':0.3}, 'False IR Composite April - June 2017')"
   ]
  },
  {
   "cell_type": "code",
   "execution_count": null,
   "metadata": {},
   "outputs": [],
   "source": []
  },
  {
   "cell_type": "code",
   "execution_count": 9,
   "metadata": {},
   "outputs": [],
   "source": [
    "Start2 = ee.Date('2017-07-01')\n",
    "End2 = ee.Date('2017-09-30')\n",
    "img = ee.ImageCollection('COPERNICUS/S2')\\\n",
    "    .filterDate(Start2, End2)\\\n",
    "    .filterBounds(PR_polygon)\\\n",
    "    .filter(ee.Filter.lt('CLOUDY_PIXEL_PERCENTAGE', 20))\\\n",
    "    .map(maskS2clouds)\n",
    "composite2 = img.median()"
   ]
  },
  {
   "cell_type": "code",
   "execution_count": 10,
   "metadata": {},
   "outputs": [],
   "source": [
    "Map.addLayer(composite2, {'bands':['B8', 'B4', 'B3'], 'min': 0, 'max':0.3}, 'False IR Composite July - Septeber 2017')"
   ]
  },
  {
   "cell_type": "code",
   "execution_count": 11,
   "metadata": {},
   "outputs": [],
   "source": [
    "Start3 = ee.Date('2017-10-01')\n",
    "End3 = ee.Date('2018-12-31')\n",
    "img = ee.ImageCollection('COPERNICUS/S2')\\\n",
    "    .filterDate(Start3, End3)\\\n",
    "    .filterBounds(PR_polygon)\\\n",
    "    .filter(ee.Filter.lt('CLOUDY_PIXEL_PERCENTAGE', 20))\\\n",
    "    .map(maskS2clouds)\n",
    "composite3 = img.median()"
   ]
  },
  {
   "cell_type": "code",
   "execution_count": 12,
   "metadata": {},
   "outputs": [],
   "source": [
    "Map.addLayer(composite3, {'bands':['B8', 'B4', 'B3'], 'min': 0, 'max':0.3}, 'False IR Composite Oct - Dec 2017')"
   ]
  },
  {
   "cell_type": "code",
   "execution_count": 13,
   "metadata": {},
   "outputs": [],
   "source": [
    "Start4 = ee.Date('2018-01-01')\n",
    "End4 = ee.Date('2018-03-31')\n",
    "img = ee.ImageCollection('COPERNICUS/S2')\\\n",
    "    .filterDate(Start4, End4)\\\n",
    "    .filterBounds(PR_polygon)\\\n",
    "    .filter(ee.Filter.lt('CLOUDY_PIXEL_PERCENTAGE', 20))\\\n",
    "    .map(maskS2clouds)\n",
    "composite4 = img.median()"
   ]
  },
  {
   "cell_type": "code",
   "execution_count": 14,
   "metadata": {},
   "outputs": [],
   "source": [
    "Map.addLayer(composite4, {'bands':['B8', 'B4', 'B3'], 'min': 0, 'max':0.3}, 'False IR Composite Jan - Mar 2018')"
   ]
  },
  {
   "cell_type": "code",
   "execution_count": 17,
   "metadata": {},
   "outputs": [],
   "source": [
    "Start5 = ee.Date('2018-04-01')\n",
    "End5 = ee.Date('2018-06-30')\n",
    "img = ee.ImageCollection('COPERNICUS/S2')\\\n",
    "    .filterDate(Start5, End5)\\\n",
    "    .filterBounds(PR_polygon)\\\n",
    "    .filter(ee.Filter.lt('CLOUDY_PIXEL_PERCENTAGE', 20))\\\n",
    "    .map(maskS2clouds)\n",
    "composite5 = img.median()"
   ]
  },
  {
   "cell_type": "code",
   "execution_count": 18,
   "metadata": {},
   "outputs": [],
   "source": [
    "Map.addLayer(composite5, {'bands':['B8', 'B4', 'B3'], 'min': 0, 'max':0.3}, 'False IR Composite April - June 2018')"
   ]
  },
  {
   "cell_type": "code",
   "execution_count": 19,
   "metadata": {},
   "outputs": [],
   "source": [
    "Start6 = ee.Date('2018-07-01')\n",
    "End6 = ee.Date('2018-09-30')\n",
    "img = ee.ImageCollection('COPERNICUS/S2')\\\n",
    "    .filterDate(Start6, End6)\\\n",
    "    .filterBounds(PR_polygon)\\\n",
    "    .filter(ee.Filter.lt('CLOUDY_PIXEL_PERCENTAGE', 20))\\\n",
    "    .map(maskS2clouds)\n",
    "composite6 = img.median()"
   ]
  },
  {
   "cell_type": "code",
   "execution_count": 20,
   "metadata": {},
   "outputs": [],
   "source": [
    "Map.addLayer(composite6, {'bands':['B8', 'B4', 'B3'], 'min': 0, 'max':0.3}, 'False IR Composite July - Septemer 2018')"
   ]
  },
  {
   "cell_type": "code",
   "execution_count": 33,
   "metadata": {},
   "outputs": [],
   "source": [
    "Start7 = ee.Date('2018-10-01')\n",
    "End7 = ee.Date('2018-12-31')\n",
    "img = ee.ImageCollection('COPERNICUS/S2')\\\n",
    "    .filterDate(Start7, End7)\\\n",
    "    .filterBounds(PR_polygon)\\\n",
    "    .filter(ee.Filter.lt('CLOUDY_PIXEL_PERCENTAGE', 20))\\\n",
    "    .map(maskS2clouds)\n",
    "composite7 = img.median()"
   ]
  },
  {
   "cell_type": "code",
   "execution_count": 34,
   "metadata": {},
   "outputs": [],
   "source": [
    "Map.addLayer(composite7, {'bands':['B8', 'B4', 'B3'], 'min': 0, 'max':0.3}, 'False IR Composite July - Septemer 2018')"
   ]
  },
  {
   "cell_type": "code",
   "execution_count": 26,
   "metadata": {},
   "outputs": [],
   "source": [
    "Start8 = ee.Date('2019-1-01')\n",
    "End8 = ee.Date('2019-3-31')\n",
    "img = ee.ImageCollection('COPERNICUS/S2')\\\n",
    "    .filterDate(Start8, End8)\\\n",
    "    .filterBounds(PR_polygon)\\\n",
    "    .filter(ee.Filter.lt('CLOUDY_PIXEL_PERCENTAGE', 20))\\\n",
    "    .map(maskS2clouds)\n",
    "composite8 = img.median()"
   ]
  },
  {
   "cell_type": "code",
   "execution_count": 27,
   "metadata": {},
   "outputs": [],
   "source": [
    "Map.addLayer(composite8, {'bands':['B8', 'B4', 'B3'], 'min': 0, 'max':0.3}, 'False IR Composite January - March 2019')"
   ]
  },
  {
   "cell_type": "code",
   "execution_count": 31,
   "metadata": {},
   "outputs": [],
   "source": [
    "Start9 = ee.Date('2019-4-01')\n",
    "End9 = ee.Date('2019-6-30')\n",
    "img = ee.ImageCollection('COPERNICUS/S2')\\\n",
    "    .filterDate(Start9, End9)\\\n",
    "    .filterBounds(PR_polygon)\\\n",
    "    .filter(ee.Filter.lt('CLOUDY_PIXEL_PERCENTAGE', 20))\\\n",
    "    .map(maskS2clouds)\n",
    "composite9 = img.median()"
   ]
  },
  {
   "cell_type": "code",
   "execution_count": 32,
   "metadata": {},
   "outputs": [],
   "source": [
    "Map.addLayer(composite9, {'bands':['B8', 'B4', 'B3'], 'min': 0, 'max':0.3}, 'False IR Composite March- June 2019')"
   ]
  },
  {
   "cell_type": "code",
   "execution_count": 35,
   "metadata": {},
   "outputs": [],
   "source": [
    "Start10 = ee.Date('2019-07-01')\n",
    "End10 = ee.Date('2019-09-30')\n",
    "img = ee.ImageCollection('COPERNICUS/S2')\\\n",
    "    .filterDate(Start10, End10)\\\n",
    "    .filterBounds(PR_polygon)\\\n",
    "    .filter(ee.Filter.lt('CLOUDY_PIXEL_PERCENTAGE', 20))\\\n",
    "    .map(maskS2clouds)\n",
    "composite10 = img.median()"
   ]
  },
  {
   "cell_type": "code",
   "execution_count": 36,
   "metadata": {},
   "outputs": [],
   "source": [
    "Map.addLayer(composite10, {'bands':['B8', 'B4', 'B3'], 'min': 0, 'max':0.3}, 'False IR Composite July - September 2019')"
   ]
  },
  {
   "cell_type": "code",
   "execution_count": 37,
   "metadata": {},
   "outputs": [],
   "source": [
    "Start11 = ee.Date('2019-10-01')\n",
    "End11 = ee.Date('2019-12-31')\n",
    "img = ee.ImageCollection('COPERNICUS/S2')\\\n",
    "    .filterDate(Start11, End11)\\\n",
    "    .filterBounds(PR_polygon)\\\n",
    "    .filter(ee.Filter.lt('CLOUDY_PIXEL_PERCENTAGE', 20))\\\n",
    "    .map(maskS2clouds)\n",
    "composite11 = img.median()"
   ]
  },
  {
   "cell_type": "code",
   "execution_count": 39,
   "metadata": {},
   "outputs": [],
   "source": [
    "Map.addLayer(composite11, {'bands':['B8', 'B4', 'B3'], 'min': 0, 'max':0.3}, 'False IR Composite October - December 2019')"
   ]
  },
  {
   "cell_type": "markdown",
   "metadata": {},
   "source": []
  },
  {
   "cell_type": "code",
   "execution_count": 40,
   "metadata": {},
   "outputs": [],
   "source": [
    "# input farm data\n",
    "file_path = 'PR_farms.json'\n",
    "with open(file_path) as f:\n",
    "    json_data = json.load(f)"
   ]
  },
  {
   "cell_type": "code",
   "execution_count": 41,
   "metadata": {},
   "outputs": [],
   "source": [
    "json_layer = GeoJSON(data = json_data, name = 'Small Holder Farmers JSON', hover_styler ={'red'})\n",
    "Map.add_layer(json_layer)"
   ]
  },
  {
   "cell_type": "code",
   "execution_count": 42,
   "metadata": {},
   "outputs": [],
   "source": [
    "# converted geojson data into ee layer\n",
    "ee_data = geojson_to_ee(json_data)\n",
    "Map.addLayer(ee_data, {}, \"Small Holder Farms EE\")"
   ]
  },
  {
   "cell_type": "code",
   "execution_count": 43,
   "metadata": {},
   "outputs": [],
   "source": [
    "# add buffer\n",
    "buffered = ee_data.map(lambda f: f.buffer(600))\n",
    "unioned = buffered.union()\n",
    "Map.addLayer(unioned, {'color': '800080'}, 'Small Holder Farms Buffer')"
   ]
  },
  {
   "cell_type": "code",
   "execution_count": null,
   "metadata": {},
   "outputs": [],
   "source": [
    "def addNDVI(img):\n",
    "    ndvi = img.normalizedDifference([])"
   ]
  },
  {
   "cell_type": "code",
   "execution_count": 57,
   "metadata": {},
   "outputs": [
    {
     "name": "stdout",
     "output_type": "stream",
     "text": [
      "Generating URL ...\n",
      "Downloading data from https://earthengine.googleapis.com/v1alpha/projects/earthengine-legacy/thumbnails/7540fb6279f498c7fbec56e7d39fa7ab-689c9991c7f1b847737b32fff9367865:getPixels\n",
      "Please wait ...\n",
      "[WinError 32] The process cannot access the file because it is being used by another process: 'C:\\\\Users\\\\inigo\\\\Downloads\\\\sen2oct.zip'\n"
     ]
    }
   ],
   "source": [
    "out_dir = os.path.join(os.path.expanduser('~'), 'Downloads')\n",
    "filename = os.path.join(out_dir, 'sen2oct.tif')\n",
    "\n",
    "geemap.ee_export_image(composite11, filename=filename, scale=100, region=PR_polygon, file_per_band=False)"
   ]
  },
  {
   "cell_type": "code",
   "execution_count": null,
   "metadata": {},
   "outputs": [],
   "source": []
  }
 ],
 "metadata": {
  "kernelspec": {
   "display_name": "Python 3",
   "language": "python",
   "name": "python3"
  },
  "language_info": {
   "codemirror_mode": {
    "name": "ipython",
    "version": 3
   },
   "file_extension": ".py",
   "mimetype": "text/x-python",
   "name": "python",
   "nbconvert_exporter": "python",
   "pygments_lexer": "ipython3",
   "version": "3.7.4"
  }
 },
 "nbformat": 4,
 "nbformat_minor": 2
}
