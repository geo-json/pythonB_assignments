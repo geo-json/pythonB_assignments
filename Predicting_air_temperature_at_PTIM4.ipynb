{
 "cells": [
  {
   "cell_type": "markdown",
   "metadata": {},
   "source": [
    "# Predicting Air temperature\n",
    "\n",
    "We are using data from years 2011 to 2019 for weather station PTIM4\n",
    "\n",
    "\n",
    "### Importing Libraries"
   ]
  },
  {
   "cell_type": "code",
   "execution_count": 1,
   "metadata": {},
   "outputs": [],
   "source": [
    "import pandas as pd\n",
    "import numpy as np\n",
    "import matplotlib.pyplot as plt\n",
    "from glob import glob\n",
    "from datetime import datetime"
   ]
  },
  {
   "cell_type": "markdown",
   "metadata": {},
   "source": [
    "### Using glob to read multiple files at once. The output is a list of dataframes"
   ]
  },
  {
   "cell_type": "code",
   "execution_count": 2,
   "metadata": {},
   "outputs": [],
   "source": [
    "filenames = glob('/Users/shrav/Downloads/Ice Cover/PTIM4/ptim4*.txt')\n",
    "dataframes = [pd.read_csv(f, delim_whitespace = True, header = 0, skiprows = 1, \n",
    "                          dtype={'#yr': object, 'mo': object, 'dy': object, 'hr': object, 'mn': object}) \n",
    "              for f in filenames]"
   ]
  },
  {
   "cell_type": "markdown",
   "metadata": {},
   "source": [
    "### Concatenating the list of dataframes to form a single dataframe"
   ]
  },
  {
   "cell_type": "code",
   "execution_count": 3,
   "metadata": {},
   "outputs": [],
   "source": [
    "df_ice_cover = pd.concat(dataframes, sort = False)"
   ]
  },
  {
   "cell_type": "code",
   "execution_count": 4,
   "metadata": {},
   "outputs": [
    {
     "data": {
      "text/plain": [
       "(769386, 18)"
      ]
     },
     "execution_count": 4,
     "metadata": {},
     "output_type": "execute_result"
    }
   ],
   "source": [
    "##### Checking the dimensions of the dataframe #########\n",
    "df_ice_cover.shape"
   ]
  },
  {
   "cell_type": "code",
   "execution_count": 5,
   "metadata": {},
   "outputs": [
    {
     "data": {
      "text/plain": [
       "Index(['#yr', 'mo', 'dy', 'hr', 'mn', 'degT', 'm/s', 'm/s.1', 'm', 'sec',\n",
       "       'sec.1', 'degT.1', 'hPa', 'degC', 'degC.1', 'degC.2', 'mi', 'ft'],\n",
       "      dtype='object')"
      ]
     },
     "execution_count": 5,
     "metadata": {},
     "output_type": "execute_result"
    }
   ],
   "source": [
    "############### Displaying the columns #################\n",
    "df_ice_cover.columns"
   ]
  },
  {
   "cell_type": "code",
   "execution_count": 6,
   "metadata": {},
   "outputs": [],
   "source": [
    "columns = [\"YYYY\",\"MM\",\"DD\",\"hh\",\"mm\",\"WDIR\",\"WSPD\",\"GST\",\"WVHT\",\"DPD\",\"APD\",\"MWD\",\"BAR\",\"ATMP\",\"WTMP\",\"DEWP\",\"VIS\",\"TIDE\"]"
   ]
  },
  {
   "cell_type": "code",
   "execution_count": 7,
   "metadata": {},
   "outputs": [],
   "source": [
    "############## Assigning new column names ##############\n",
    "df_ice_cover.columns = columns"
   ]
  },
  {
   "cell_type": "code",
   "execution_count": 8,
   "metadata": {},
   "outputs": [
    {
     "data": {
      "text/plain": [
       "YYYY     object\n",
       "MM       object\n",
       "DD       object\n",
       "hh       object\n",
       "mm       object\n",
       "WDIR      int64\n",
       "WSPD    float64\n",
       "GST     float64\n",
       "WVHT    float64\n",
       "DPD     float64\n",
       "APD     float64\n",
       "MWD       int64\n",
       "BAR     float64\n",
       "ATMP    float64\n",
       "WTMP    float64\n",
       "DEWP    float64\n",
       "VIS     float64\n",
       "TIDE    float64\n",
       "dtype: object"
      ]
     },
     "execution_count": 8,
     "metadata": {},
     "output_type": "execute_result"
    }
   ],
   "source": [
    "########### Checking the datatypes of features #########\n",
    "df_ice_cover.dtypes"
   ]
  },
  {
   "cell_type": "markdown",
   "metadata": {},
   "source": [
    "### Converting Year, Month, Day, Hour and Minutes columns into DateTime feature"
   ]
  },
  {
   "cell_type": "code",
   "execution_count": 9,
   "metadata": {},
   "outputs": [],
   "source": [
    "df_ice_cover[\"dateTime\"] = df_ice_cover[\"YYYY\"].astype(str) + df_ice_cover[\"MM\"].astype(str) + df_ice_cover[\"DD\"].astype(str) + df_ice_cover[\"hh\"].astype(str) + df_ice_cover[\"mm\"].astype(str)\n",
    "\n",
    "# convert the datetime to a list\n",
    "dfList = df_ice_cover['dateTime'].tolist()\n",
    "# create a new empty list to hold true datetime values\n",
    "dateList = []\n",
    "# run datetime function\n",
    "for d in dfList:\n",
    "    dates = datetime.strptime(d, '%Y%m%d%H%M')\n",
    "    dateList.append(dates)\n",
    "\n",
    "#a = [\"YYYYMMDDhhmm\"]\n",
    "#dateListnew = a + dateList\n",
    "# add the list as a new column to the dataframe\n",
    "df_ice_cover[\"DateTime\"] = dateList"
   ]
  },
  {
   "cell_type": "markdown",
   "metadata": {},
   "source": [
    "### Checking the head"
   ]
  },
  {
   "cell_type": "code",
   "execution_count": 11,
   "metadata": {},
   "outputs": [
    {
     "data": {
      "text/html": [
       "<div>\n",
       "<style scoped>\n",
       "    .dataframe tbody tr th:only-of-type {\n",
       "        vertical-align: middle;\n",
       "    }\n",
       "\n",
       "    .dataframe tbody tr th {\n",
       "        vertical-align: top;\n",
       "    }\n",
       "\n",
       "    .dataframe thead th {\n",
       "        text-align: right;\n",
       "    }\n",
       "</style>\n",
       "<table border=\"1\" class=\"dataframe\">\n",
       "  <thead>\n",
       "    <tr style=\"text-align: right;\">\n",
       "      <th></th>\n",
       "      <th>YYYY</th>\n",
       "      <th>MM</th>\n",
       "      <th>DD</th>\n",
       "      <th>hh</th>\n",
       "      <th>mm</th>\n",
       "      <th>WDIR</th>\n",
       "      <th>WSPD</th>\n",
       "      <th>GST</th>\n",
       "      <th>WVHT</th>\n",
       "      <th>DPD</th>\n",
       "      <th>APD</th>\n",
       "      <th>MWD</th>\n",
       "      <th>BAR</th>\n",
       "      <th>ATMP</th>\n",
       "      <th>WTMP</th>\n",
       "      <th>DEWP</th>\n",
       "      <th>VIS</th>\n",
       "      <th>TIDE</th>\n",
       "      <th>dateTime</th>\n",
       "      <th>DateTime</th>\n",
       "    </tr>\n",
       "  </thead>\n",
       "  <tbody>\n",
       "    <tr>\n",
       "      <th>0</th>\n",
       "      <td>2011</td>\n",
       "      <td>01</td>\n",
       "      <td>01</td>\n",
       "      <td>00</td>\n",
       "      <td>00</td>\n",
       "      <td>311</td>\n",
       "      <td>1.6</td>\n",
       "      <td>2.0</td>\n",
       "      <td>99.0</td>\n",
       "      <td>99.0</td>\n",
       "      <td>99.0</td>\n",
       "      <td>999</td>\n",
       "      <td>1007.6</td>\n",
       "      <td>3.3</td>\n",
       "      <td>999.0</td>\n",
       "      <td>999.0</td>\n",
       "      <td>99.0</td>\n",
       "      <td>99.0</td>\n",
       "      <td>201101010000</td>\n",
       "      <td>2011-01-01 00:00:00</td>\n",
       "    </tr>\n",
       "    <tr>\n",
       "      <th>1</th>\n",
       "      <td>2011</td>\n",
       "      <td>01</td>\n",
       "      <td>01</td>\n",
       "      <td>00</td>\n",
       "      <td>06</td>\n",
       "      <td>266</td>\n",
       "      <td>1.2</td>\n",
       "      <td>1.7</td>\n",
       "      <td>99.0</td>\n",
       "      <td>99.0</td>\n",
       "      <td>99.0</td>\n",
       "      <td>999</td>\n",
       "      <td>1007.9</td>\n",
       "      <td>3.1</td>\n",
       "      <td>999.0</td>\n",
       "      <td>999.0</td>\n",
       "      <td>99.0</td>\n",
       "      <td>99.0</td>\n",
       "      <td>201101010006</td>\n",
       "      <td>2011-01-01 00:06:00</td>\n",
       "    </tr>\n",
       "    <tr>\n",
       "      <th>2</th>\n",
       "      <td>2011</td>\n",
       "      <td>01</td>\n",
       "      <td>01</td>\n",
       "      <td>00</td>\n",
       "      <td>12</td>\n",
       "      <td>242</td>\n",
       "      <td>1.5</td>\n",
       "      <td>2.0</td>\n",
       "      <td>99.0</td>\n",
       "      <td>99.0</td>\n",
       "      <td>99.0</td>\n",
       "      <td>999</td>\n",
       "      <td>1008.0</td>\n",
       "      <td>3.1</td>\n",
       "      <td>999.0</td>\n",
       "      <td>999.0</td>\n",
       "      <td>99.0</td>\n",
       "      <td>99.0</td>\n",
       "      <td>201101010012</td>\n",
       "      <td>2011-01-01 00:12:00</td>\n",
       "    </tr>\n",
       "    <tr>\n",
       "      <th>3</th>\n",
       "      <td>2011</td>\n",
       "      <td>01</td>\n",
       "      <td>01</td>\n",
       "      <td>00</td>\n",
       "      <td>18</td>\n",
       "      <td>265</td>\n",
       "      <td>1.6</td>\n",
       "      <td>2.4</td>\n",
       "      <td>99.0</td>\n",
       "      <td>99.0</td>\n",
       "      <td>99.0</td>\n",
       "      <td>999</td>\n",
       "      <td>1008.2</td>\n",
       "      <td>3.2</td>\n",
       "      <td>999.0</td>\n",
       "      <td>999.0</td>\n",
       "      <td>99.0</td>\n",
       "      <td>99.0</td>\n",
       "      <td>201101010018</td>\n",
       "      <td>2011-01-01 00:18:00</td>\n",
       "    </tr>\n",
       "    <tr>\n",
       "      <th>4</th>\n",
       "      <td>2011</td>\n",
       "      <td>01</td>\n",
       "      <td>01</td>\n",
       "      <td>00</td>\n",
       "      <td>24</td>\n",
       "      <td>272</td>\n",
       "      <td>1.8</td>\n",
       "      <td>2.7</td>\n",
       "      <td>99.0</td>\n",
       "      <td>99.0</td>\n",
       "      <td>99.0</td>\n",
       "      <td>999</td>\n",
       "      <td>1008.2</td>\n",
       "      <td>3.2</td>\n",
       "      <td>999.0</td>\n",
       "      <td>999.0</td>\n",
       "      <td>99.0</td>\n",
       "      <td>99.0</td>\n",
       "      <td>201101010024</td>\n",
       "      <td>2011-01-01 00:24:00</td>\n",
       "    </tr>\n",
       "  </tbody>\n",
       "</table>\n",
       "</div>"
      ],
      "text/plain": [
       "   YYYY  MM  DD  hh  mm  WDIR  WSPD  GST  WVHT   DPD   APD  MWD     BAR  ATMP  \\\n",
       "0  2011  01  01  00  00   311   1.6  2.0  99.0  99.0  99.0  999  1007.6   3.3   \n",
       "1  2011  01  01  00  06   266   1.2  1.7  99.0  99.0  99.0  999  1007.9   3.1   \n",
       "2  2011  01  01  00  12   242   1.5  2.0  99.0  99.0  99.0  999  1008.0   3.1   \n",
       "3  2011  01  01  00  18   265   1.6  2.4  99.0  99.0  99.0  999  1008.2   3.2   \n",
       "4  2011  01  01  00  24   272   1.8  2.7  99.0  99.0  99.0  999  1008.2   3.2   \n",
       "\n",
       "    WTMP   DEWP   VIS  TIDE      dateTime            DateTime  \n",
       "0  999.0  999.0  99.0  99.0  201101010000 2011-01-01 00:00:00  \n",
       "1  999.0  999.0  99.0  99.0  201101010006 2011-01-01 00:06:00  \n",
       "2  999.0  999.0  99.0  99.0  201101010012 2011-01-01 00:12:00  \n",
       "3  999.0  999.0  99.0  99.0  201101010018 2011-01-01 00:18:00  \n",
       "4  999.0  999.0  99.0  99.0  201101010024 2011-01-01 00:24:00  "
      ]
     },
     "execution_count": 11,
     "metadata": {},
     "output_type": "execute_result"
    }
   ],
   "source": [
    "df_ice_cover.head()"
   ]
  },
  {
   "cell_type": "code",
   "execution_count": 12,
   "metadata": {},
   "outputs": [
    {
     "data": {
      "text/html": [
       "<div>\n",
       "<style scoped>\n",
       "    .dataframe tbody tr th:only-of-type {\n",
       "        vertical-align: middle;\n",
       "    }\n",
       "\n",
       "    .dataframe tbody tr th {\n",
       "        vertical-align: top;\n",
       "    }\n",
       "\n",
       "    .dataframe thead th {\n",
       "        text-align: right;\n",
       "    }\n",
       "</style>\n",
       "<table border=\"1\" class=\"dataframe\">\n",
       "  <thead>\n",
       "    <tr style=\"text-align: right;\">\n",
       "      <th></th>\n",
       "      <th>WDIR</th>\n",
       "      <th>WSPD</th>\n",
       "      <th>GST</th>\n",
       "      <th>WVHT</th>\n",
       "      <th>DPD</th>\n",
       "      <th>APD</th>\n",
       "      <th>MWD</th>\n",
       "      <th>BAR</th>\n",
       "      <th>ATMP</th>\n",
       "      <th>WTMP</th>\n",
       "      <th>DEWP</th>\n",
       "      <th>VIS</th>\n",
       "      <th>TIDE</th>\n",
       "      <th>DateTime</th>\n",
       "    </tr>\n",
       "  </thead>\n",
       "  <tbody>\n",
       "    <tr>\n",
       "      <th>0</th>\n",
       "      <td>311</td>\n",
       "      <td>1.6</td>\n",
       "      <td>2.0</td>\n",
       "      <td>99.0</td>\n",
       "      <td>99.0</td>\n",
       "      <td>99.0</td>\n",
       "      <td>999</td>\n",
       "      <td>1007.6</td>\n",
       "      <td>3.3</td>\n",
       "      <td>999.0</td>\n",
       "      <td>999.0</td>\n",
       "      <td>99.0</td>\n",
       "      <td>99.0</td>\n",
       "      <td>2011-01-01 00:00:00</td>\n",
       "    </tr>\n",
       "    <tr>\n",
       "      <th>1</th>\n",
       "      <td>266</td>\n",
       "      <td>1.2</td>\n",
       "      <td>1.7</td>\n",
       "      <td>99.0</td>\n",
       "      <td>99.0</td>\n",
       "      <td>99.0</td>\n",
       "      <td>999</td>\n",
       "      <td>1007.9</td>\n",
       "      <td>3.1</td>\n",
       "      <td>999.0</td>\n",
       "      <td>999.0</td>\n",
       "      <td>99.0</td>\n",
       "      <td>99.0</td>\n",
       "      <td>2011-01-01 00:06:00</td>\n",
       "    </tr>\n",
       "    <tr>\n",
       "      <th>2</th>\n",
       "      <td>242</td>\n",
       "      <td>1.5</td>\n",
       "      <td>2.0</td>\n",
       "      <td>99.0</td>\n",
       "      <td>99.0</td>\n",
       "      <td>99.0</td>\n",
       "      <td>999</td>\n",
       "      <td>1008.0</td>\n",
       "      <td>3.1</td>\n",
       "      <td>999.0</td>\n",
       "      <td>999.0</td>\n",
       "      <td>99.0</td>\n",
       "      <td>99.0</td>\n",
       "      <td>2011-01-01 00:12:00</td>\n",
       "    </tr>\n",
       "    <tr>\n",
       "      <th>3</th>\n",
       "      <td>265</td>\n",
       "      <td>1.6</td>\n",
       "      <td>2.4</td>\n",
       "      <td>99.0</td>\n",
       "      <td>99.0</td>\n",
       "      <td>99.0</td>\n",
       "      <td>999</td>\n",
       "      <td>1008.2</td>\n",
       "      <td>3.2</td>\n",
       "      <td>999.0</td>\n",
       "      <td>999.0</td>\n",
       "      <td>99.0</td>\n",
       "      <td>99.0</td>\n",
       "      <td>2011-01-01 00:18:00</td>\n",
       "    </tr>\n",
       "    <tr>\n",
       "      <th>4</th>\n",
       "      <td>272</td>\n",
       "      <td>1.8</td>\n",
       "      <td>2.7</td>\n",
       "      <td>99.0</td>\n",
       "      <td>99.0</td>\n",
       "      <td>99.0</td>\n",
       "      <td>999</td>\n",
       "      <td>1008.2</td>\n",
       "      <td>3.2</td>\n",
       "      <td>999.0</td>\n",
       "      <td>999.0</td>\n",
       "      <td>99.0</td>\n",
       "      <td>99.0</td>\n",
       "      <td>2011-01-01 00:24:00</td>\n",
       "    </tr>\n",
       "  </tbody>\n",
       "</table>\n",
       "</div>"
      ],
      "text/plain": [
       "   WDIR  WSPD  GST  WVHT   DPD   APD  MWD     BAR  ATMP   WTMP   DEWP   VIS  \\\n",
       "0   311   1.6  2.0  99.0  99.0  99.0  999  1007.6   3.3  999.0  999.0  99.0   \n",
       "1   266   1.2  1.7  99.0  99.0  99.0  999  1007.9   3.1  999.0  999.0  99.0   \n",
       "2   242   1.5  2.0  99.0  99.0  99.0  999  1008.0   3.1  999.0  999.0  99.0   \n",
       "3   265   1.6  2.4  99.0  99.0  99.0  999  1008.2   3.2  999.0  999.0  99.0   \n",
       "4   272   1.8  2.7  99.0  99.0  99.0  999  1008.2   3.2  999.0  999.0  99.0   \n",
       "\n",
       "   TIDE            DateTime  \n",
       "0  99.0 2011-01-01 00:00:00  \n",
       "1  99.0 2011-01-01 00:06:00  \n",
       "2  99.0 2011-01-01 00:12:00  \n",
       "3  99.0 2011-01-01 00:18:00  \n",
       "4  99.0 2011-01-01 00:24:00  "
      ]
     },
     "execution_count": 12,
     "metadata": {},
     "output_type": "execute_result"
    }
   ],
   "source": [
    "df_ice_cover = df_ice_cover.drop(['YYYY', 'MM', 'DD', 'hh', 'mm', 'dateTime'], axis = 1)\n",
    "df_ice_cover.head()"
   ]
  },
  {
   "cell_type": "code",
   "execution_count": 13,
   "metadata": {},
   "outputs": [
    {
     "data": {
      "text/plain": [
       "count    769386.000000\n",
       "mean         46.339769\n",
       "std         198.289327\n",
       "min         -33.000000\n",
       "25%          -1.700000\n",
       "50%           6.000000\n",
       "75%          15.100000\n",
       "max         999.000000\n",
       "Name: ATMP, dtype: float64"
      ]
     },
     "execution_count": 13,
     "metadata": {},
     "output_type": "execute_result"
    }
   ],
   "source": [
    "############ Analyzing the distribution of Air Temperature ##############\n",
    "df_ice_cover['ATMP'].describe()"
   ]
  },
  {
   "cell_type": "markdown",
   "metadata": {},
   "source": [
    "### The objective is to predict ATMP. The value 999.0 is akin to a missing value. We are replacing it with NANs"
   ]
  },
  {
   "cell_type": "code",
   "execution_count": 14,
   "metadata": {},
   "outputs": [],
   "source": [
    "df_ice_cover = df_ice_cover.replace(df_ice_cover['ATMP'].max(), np.nan)"
   ]
  },
  {
   "cell_type": "code",
   "execution_count": 15,
   "metadata": {},
   "outputs": [
    {
     "data": {
      "text/plain": [
       "32.6"
      ]
     },
     "execution_count": 15,
     "metadata": {},
     "output_type": "execute_result"
    }
   ],
   "source": [
    "df_ice_cover['ATMP'].max()"
   ]
  },
  {
   "cell_type": "code",
   "execution_count": 16,
   "metadata": {},
   "outputs": [
    {
     "data": {
      "text/plain": [
       "31862"
      ]
     },
     "execution_count": 16,
     "metadata": {},
     "output_type": "execute_result"
    }
   ],
   "source": [
    "############ Checking the number of missing values in ATMP ##############\n",
    "df_ice_cover['ATMP'].isna().sum()"
   ]
  },
  {
   "cell_type": "markdown",
   "metadata": {},
   "source": [
    "### Plotting the Air temperatures across all years"
   ]
  },
  {
   "cell_type": "code",
   "execution_count": 17,
   "metadata": {},
   "outputs": [
    {
     "data": {
      "text/plain": [
       "<matplotlib.axes._subplots.AxesSubplot at 0x1523ddc7ef0>"
      ]
     },
     "execution_count": 17,
     "metadata": {},
     "output_type": "execute_result"
    },
    {
     "data": {
      "image/png": "[encoded data removed]",
      "text/plain": [
       "<Figure size 432x288 with 1 Axes>"
      ]
     },
     "metadata": {
      "needs_background": "light"
     },
     "output_type": "display_data"
    }
   ],
   "source": [
    "%matplotlib inline\n",
    "df_ice_cover.plot(x = 'DateTime', y='ATMP')"
   ]
  },
  {
   "cell_type": "code",
   "execution_count": 18,
   "metadata": {},
   "outputs": [],
   "source": [
    "df_ice_cover = df_ice_cover.set_index(['DateTime'])"
   ]
  },
  {
   "cell_type": "markdown",
   "metadata": {},
   "source": [
    "### Interpolating ATMP to eliminate missing values"
   ]
  },
  {
   "cell_type": "code",
   "execution_count": 19,
   "metadata": {
    "scrolled": true
   },
   "outputs": [],
   "source": [
    "df_ice_cover['ATMP'] = df_ice_cover['ATMP'].interpolate(inplace=False)"
   ]
  },
  {
   "cell_type": "code",
   "execution_count": 20,
   "metadata": {},
   "outputs": [
    {
     "data": {
      "text/plain": [
       "<matplotlib.axes._subplots.AxesSubplot at 0x1524d0ccd30>"
      ]
     },
     "execution_count": 20,
     "metadata": {},
     "output_type": "execute_result"
    },
    {
     "data": {
      "image/png": "[encoded data removed]",
      "text/plain": [
       "<Figure size 432x288 with 1 Axes>"
      ]
     },
     "metadata": {
      "needs_background": "light"
     },
     "output_type": "display_data"
    }
   ],
   "source": [
    "%matplotlib inline\n",
    "df_ice_cover['ATMP'].plot()"
   ]
  },
  {
   "cell_type": "code",
   "execution_count": 22,
   "metadata": {},
   "outputs": [
    {
     "data": {
      "text/html": [
       "<div>\n",
       "<style scoped>\n",
       "    .dataframe tbody tr th:only-of-type {\n",
       "        vertical-align: middle;\n",
       "    }\n",
       "\n",
       "    .dataframe tbody tr th {\n",
       "        vertical-align: top;\n",
       "    }\n",
       "\n",
       "    .dataframe thead th {\n",
       "        text-align: right;\n",
       "    }\n",
       "</style>\n",
       "<table border=\"1\" class=\"dataframe\">\n",
       "  <thead>\n",
       "    <tr style=\"text-align: right;\">\n",
       "      <th></th>\n",
       "      <th>WDIR</th>\n",
       "      <th>WSPD</th>\n",
       "      <th>GST</th>\n",
       "      <th>WVHT</th>\n",
       "      <th>DPD</th>\n",
       "      <th>APD</th>\n",
       "      <th>MWD</th>\n",
       "      <th>BAR</th>\n",
       "      <th>ATMP</th>\n",
       "      <th>WTMP</th>\n",
       "      <th>DEWP</th>\n",
       "      <th>VIS</th>\n",
       "      <th>TIDE</th>\n",
       "    </tr>\n",
       "    <tr>\n",
       "      <th>DateTime</th>\n",
       "      <th></th>\n",
       "      <th></th>\n",
       "      <th></th>\n",
       "      <th></th>\n",
       "      <th></th>\n",
       "      <th></th>\n",
       "      <th></th>\n",
       "      <th></th>\n",
       "      <th></th>\n",
       "      <th></th>\n",
       "      <th></th>\n",
       "      <th></th>\n",
       "      <th></th>\n",
       "    </tr>\n",
       "  </thead>\n",
       "  <tbody>\n",
       "    <tr>\n",
       "      <th>2011-01-01 00:00:00</th>\n",
       "      <td>311.0</td>\n",
       "      <td>1.6</td>\n",
       "      <td>2.0</td>\n",
       "      <td>99.0</td>\n",
       "      <td>99.0</td>\n",
       "      <td>99.0</td>\n",
       "      <td>NaN</td>\n",
       "      <td>1007.6</td>\n",
       "      <td>3.3</td>\n",
       "      <td>NaN</td>\n",
       "      <td>NaN</td>\n",
       "      <td>99.0</td>\n",
       "      <td>99.0</td>\n",
       "    </tr>\n",
       "    <tr>\n",
       "      <th>2011-01-01 00:06:00</th>\n",
       "      <td>266.0</td>\n",
       "      <td>1.2</td>\n",
       "      <td>1.7</td>\n",
       "      <td>99.0</td>\n",
       "      <td>99.0</td>\n",
       "      <td>99.0</td>\n",
       "      <td>NaN</td>\n",
       "      <td>1007.9</td>\n",
       "      <td>3.1</td>\n",
       "      <td>NaN</td>\n",
       "      <td>NaN</td>\n",
       "      <td>99.0</td>\n",
       "      <td>99.0</td>\n",
       "    </tr>\n",
       "    <tr>\n",
       "      <th>2011-01-01 00:12:00</th>\n",
       "      <td>242.0</td>\n",
       "      <td>1.5</td>\n",
       "      <td>2.0</td>\n",
       "      <td>99.0</td>\n",
       "      <td>99.0</td>\n",
       "      <td>99.0</td>\n",
       "      <td>NaN</td>\n",
       "      <td>1008.0</td>\n",
       "      <td>3.1</td>\n",
       "      <td>NaN</td>\n",
       "      <td>NaN</td>\n",
       "      <td>99.0</td>\n",
       "      <td>99.0</td>\n",
       "    </tr>\n",
       "    <tr>\n",
       "      <th>2011-01-01 00:18:00</th>\n",
       "      <td>265.0</td>\n",
       "      <td>1.6</td>\n",
       "      <td>2.4</td>\n",
       "      <td>99.0</td>\n",
       "      <td>99.0</td>\n",
       "      <td>99.0</td>\n",
       "      <td>NaN</td>\n",
       "      <td>1008.2</td>\n",
       "      <td>3.2</td>\n",
       "      <td>NaN</td>\n",
       "      <td>NaN</td>\n",
       "      <td>99.0</td>\n",
       "      <td>99.0</td>\n",
       "    </tr>\n",
       "    <tr>\n",
       "      <th>2011-01-01 00:24:00</th>\n",
       "      <td>272.0</td>\n",
       "      <td>1.8</td>\n",
       "      <td>2.7</td>\n",
       "      <td>99.0</td>\n",
       "      <td>99.0</td>\n",
       "      <td>99.0</td>\n",
       "      <td>NaN</td>\n",
       "      <td>1008.2</td>\n",
       "      <td>3.2</td>\n",
       "      <td>NaN</td>\n",
       "      <td>NaN</td>\n",
       "      <td>99.0</td>\n",
       "      <td>99.0</td>\n",
       "    </tr>\n",
       "  </tbody>\n",
       "</table>\n",
       "</div>"
      ],
      "text/plain": [
       "                      WDIR  WSPD  GST  WVHT   DPD   APD  MWD     BAR  ATMP  \\\n",
       "DateTime                                                                     \n",
       "2011-01-01 00:00:00  311.0   1.6  2.0  99.0  99.0  99.0  NaN  1007.6   3.3   \n",
       "2011-01-01 00:06:00  266.0   1.2  1.7  99.0  99.0  99.0  NaN  1007.9   3.1   \n",
       "2011-01-01 00:12:00  242.0   1.5  2.0  99.0  99.0  99.0  NaN  1008.0   3.1   \n",
       "2011-01-01 00:18:00  265.0   1.6  2.4  99.0  99.0  99.0  NaN  1008.2   3.2   \n",
       "2011-01-01 00:24:00  272.0   1.8  2.7  99.0  99.0  99.0  NaN  1008.2   3.2   \n",
       "\n",
       "                     WTMP  DEWP   VIS  TIDE  \n",
       "DateTime                                     \n",
       "2011-01-01 00:00:00   NaN   NaN  99.0  99.0  \n",
       "2011-01-01 00:06:00   NaN   NaN  99.0  99.0  \n",
       "2011-01-01 00:12:00   NaN   NaN  99.0  99.0  \n",
       "2011-01-01 00:18:00   NaN   NaN  99.0  99.0  \n",
       "2011-01-01 00:24:00   NaN   NaN  99.0  99.0  "
      ]
     },
     "execution_count": 22,
     "metadata": {},
     "output_type": "execute_result"
    }
   ],
   "source": [
    "df_ice_cover.head()"
   ]
  },
  {
   "cell_type": "markdown",
   "metadata": {},
   "source": [
    "### Analysing the number of missing values in each column"
   ]
  },
  {
   "cell_type": "code",
   "execution_count": 23,
   "metadata": {},
   "outputs": [
    {
     "data": {
      "text/plain": [
       "WDIR     18268\n",
       "WSPD         0\n",
       "GST          0\n",
       "WVHT         0\n",
       "DPD          0\n",
       "APD          0\n",
       "MWD     769386\n",
       "BAR        618\n",
       "ATMP         0\n",
       "WTMP    769386\n",
       "DEWP    335162\n",
       "VIS          0\n",
       "TIDE         0\n",
       "dtype: int64"
      ]
     },
     "execution_count": 23,
     "metadata": {},
     "output_type": "execute_result"
    }
   ],
   "source": [
    "df_ice_cover.isna().sum()"
   ]
  },
  {
   "cell_type": "markdown",
   "metadata": {},
   "source": [
    "### Dropping columns where more than 30% are missing values"
   ]
  },
  {
   "cell_type": "code",
   "execution_count": 25,
   "metadata": {},
   "outputs": [],
   "source": [
    "df_ice_cover = df_ice_cover.drop(['MWD', 'WTMP', 'DEWP'], axis = 1)"
   ]
  },
  {
   "cell_type": "markdown",
   "metadata": {},
   "source": [
    "### Modelling Routine\n",
    "\n",
    "### Creating Training and Validation Data sets"
   ]
  },
  {
   "cell_type": "code",
   "execution_count": 26,
   "metadata": {},
   "outputs": [],
   "source": [
    "X = df_ice_cover.drop(['ATMP'], axis = 1)\n",
    "Y = df_ice_cover['ATMP']"
   ]
  },
  {
   "cell_type": "code",
   "execution_count": 28,
   "metadata": {},
   "outputs": [
    {
     "name": "stdout",
     "output_type": "stream",
     "text": [
      "(615508, 9) (615508,)\n",
      "(153878, 9) (153878,)\n"
     ]
    }
   ],
   "source": [
    "from sklearn.model_selection import train_test_split\n",
    "X_train, X_test, y_train, y_test = train_test_split(X, Y, test_size=0.2)\n",
    "print(X_train.shape, y_train.shape)\n",
    "print(X_test.shape, y_test.shape)"
   ]
  },
  {
   "cell_type": "markdown",
   "metadata": {},
   "source": [
    "### Training XGBoost Model"
   ]
  },
  {
   "cell_type": "code",
   "execution_count": 48,
   "metadata": {},
   "outputs": [],
   "source": [
    "from xgboost import XGBRegressor as XGB\n",
    "\n",
    "# fit model no training data\n",
    "model = XGB(n_estimators = 200, max_depth = 3, learning_rate = 0.3, objective = 'reg:squarederror', \n",
    "            njobs = -1, verbose = True)\n",
    "model.fit(X_train, y_train)"
   ]
  },
  {
   "cell_type": "markdown",
   "metadata": {},
   "source": [
    "### Using the trained model to predict on training data"
   ]
  },
  {
   "cell_type": "code",
   "execution_count": 65,
   "metadata": {},
   "outputs": [
    {
     "data": {
      "text/plain": [
       "array([9.839522 , 8.532481 , 9.575581 , ..., 4.4623594, 4.0450144,\n",
       "       6.3578963], dtype=float32)"
      ]
     },
     "execution_count": 65,
     "metadata": {},
     "output_type": "execute_result"
    }
   ],
   "source": [
    "y_train_pred = model.predict(X_train)\n",
    "y_train_pred"
   ]
  },
  {
   "cell_type": "markdown",
   "metadata": {},
   "source": [
    "### Predicting on test data"
   ]
  },
  {
   "cell_type": "code",
   "execution_count": 66,
   "metadata": {},
   "outputs": [
    {
     "data": {
      "text/plain": [
       "array([ 7.5869246, -4.943844 ,  4.421274 , ...,  5.371752 ,  6.586959 ,\n",
       "       -5.75581  ], dtype=float32)"
      ]
     },
     "execution_count": 66,
     "metadata": {},
     "output_type": "execute_result"
    }
   ],
   "source": [
    "y_test_pred = model.predict(X_test)\n",
    "y_test_pred"
   ]
  },
  {
   "cell_type": "markdown",
   "metadata": {},
   "source": [
    "### Using Root Mean Squared Error to evaluate the model on training data"
   ]
  },
  {
   "cell_type": "code",
   "execution_count": 67,
   "metadata": {},
   "outputs": [
    {
     "data": {
      "text/plain": [
       "9.397676929708075"
      ]
     },
     "execution_count": 67,
     "metadata": {},
     "output_type": "execute_result"
    }
   ],
   "source": [
    "from sklearn.metrics import mean_squared_error\n",
    "import math\n",
    "math.sqrt(mean_squared_error(y_train, y_train_pred))"
   ]
  },
  {
   "cell_type": "markdown",
   "metadata": {},
   "source": [
    "### Evaluating the model on test data"
   ]
  },
  {
   "cell_type": "code",
   "execution_count": 68,
   "metadata": {},
   "outputs": [
    {
     "data": {
      "text/plain": [
       "9.404506717039526"
      ]
     },
     "execution_count": 68,
     "metadata": {},
     "output_type": "execute_result"
    }
   ],
   "source": [
    "math.sqrt(mean_squared_error(y_test, y_test_pred))"
   ]
  },
  {
   "cell_type": "code",
   "execution_count": null,
   "metadata": {},
   "outputs": [],
   "source": []
  }
 ],
 "metadata": {
  "kernelspec": {
   "display_name": "Python 3",
   "language": "python",
   "name": "python3"
  },
  "language_info": {
   "codemirror_mode": {
    "name": "ipython",
    "version": 3
   },
   "file_extension": ".py",
   "mimetype": "text/x-python",
   "name": "python",
   "nbconvert_exporter": "python",
   "pygments_lexer": "ipython3",
   "version": "3.7.3"
  }
 },
 "nbformat": 4,
 "nbformat_minor": 2
}
