{
 "cells": [
  {
   "cell_type": "markdown",
   "metadata": {},
   "source": [
    "#Investigating The Effect of Hurricane Maria On Smallholder Farms In Puerto Rico \n",
    "(Santhi Davedu, Inigo Peng, Vineeth Jason Putti, Yunfan Zhou)\n",
    "\n",
    "##Background\n",
    "2017’s Hurricane Maria struck the United States unincorporated territory of Puerto Rico as a category 4 hurricane, causing 2,975 deaths. The archipelago’s agriculture, which was experiencing production improvement during Puerto Rico’s financial crisis, was decimated. Damages to production were estimated to reach approximately 200 million dollars, and 80% of its crop value was devastated. Hurricanes in the Atlantic are likely to become more intense and persistent in the upcoming years due to climate change, which will have profound impacts in island countries and territories, especially in their agricultural systems and food security. Thus, understanding how smallholder farmers are affected by hurricanes is critical for their future adaptation, like what strategies they may use to increase their resiliency in the future.\n",
    "\n",
    "##Problem Statement\n",
    "We aim to conduct landcover change anaylsis through measurement of measurement of normalized vegetation index. We are interested to see if there is a significant change in landcover change before and after Hurricane Maria. This is part of a larger investigation in combining different data to identify what tools, inputs and management strategies could most effectively contribute to an increase in the resiliance of a given farming operation. \n",
    "\n",
    "##Methodology\n",
    "This is the second part of the project, where moderate spatial resolution satellite image taken by Sentinel-2 of European Space Agency (ES) is used to analyze smallholder farm data provided by the Environmental Spatial Analysis (ESA) Lab at SEAS. This part of the project is conducted through Google Earth Engine (GEE) Python API. We first conducted some exploratory mapping by creating tri-month false colour composits of Sentinel 2 Level 2A images from June of 2017 to December of 2019. We then proceeded to visualize the NDVI for the composites. To investigate the landcover changes of the individual farms, we first prepared the farm data. The excel coordinates was converted into json file for easy access of geometry (point, coordinates) and properties (farm number, owner of the farm). We overlayed the farm points onto the map and created 1km buffers around all of them. Lastly, we parsed the json file and calculated the NDVI mean and standard deviation of farm. This could be done for all of the composites if needed. \n",
    "\n",
    "##Python Script"
   ]
  },
  {
   "cell_type": "code",
   "execution_count": 1,
   "metadata": {},
   "outputs": [
    {
     "name": "stderr",
     "output_type": "stream",
     "text": [
      "C:\\Python\\lib\\site-packages\\xarray\\core\\merge.py:10: FutureWarning: The Panel class is removed from pandas. Accessing it from the top-level namespace will also be removed in the next version\n",
      "  PANDAS_TYPES = (pd.Series, pd.DataFrame, pd.Panel)\n"
     ]
    }
   ],
   "source": [
    "# Installs geemap package\n",
    "import subprocess\n",
    "\n",
    "try:\n",
    "    import geemap\n",
    "except ImportError:\n",
    "    print('geemap package not installed. Installing ...')\n",
    "    subprocess.check_call([\"python\", '-m', 'pip', 'install', 'geemap'])\n",
    "\n",
    "# Checks whether this notebook is running on Google Colab\n",
    "try:\n",
    "    import google.colab\n",
    "    import geemap.eefolium as emap\n",
    "except:\n",
    "    import geemap as emap\n",
    "\n",
    "# Authenticates and initializes Earth Engine\n",
    "import ee\n",
    "\n",
    "try:\n",
    "    ee.Initialize()\n",
    "except Exception as e:\n",
    "    ee.Authenticate()\n",
    "    ee.Initialize()  \n",
    "import json\n",
    "import os\n",
    "import requests\n",
    "from geemap import geojson_to_ee, ee_to_geojson\n",
    "from ipyleaflet import GeoJSON"
   ]
  },
  {
   "cell_type": "code",
   "execution_count": 2,
   "metadata": {},
   "outputs": [
    {
     "data": {
      "application/vnd.jupyter.widget-view+json": {
       "model_id": "8dcacbe21af943c58bed02b86e678dc4",
       "version_major": 2,
       "version_minor": 0
      },
      "text/plain": [
       "Map(center=[18, -66], controls=(ZoomControl(options=['position', 'zoom_in_text', 'zoom_in_title', 'zoom_out_te…"
      ]
     },
     "metadata": {},
     "output_type": "display_data"
    }
   ],
   "source": [
    "# Add Google Map\n",
    "Map = emap.Map(center=[18,-66], zoom=9)\n",
    "Map.addLayerControl()\n",
    "Map"
   ]
  },
  {
   "cell_type": "code",
   "execution_count": 3,
   "metadata": {},
   "outputs": [],
   "source": [
    "#Import farm json file\n",
    "file_path = 'PR_farms.json'\n",
    "with open(file_path) as f:\n",
    "    json_data = json.load(f)\n"
   ]
  },
  {
   "cell_type": "code",
   "execution_count": 4,
   "metadata": {},
   "outputs": [],
   "source": [
    "# Exploratory work with the farm data \n",
    "farms = json_data\n",
    "properties = farms['features'][0]['properties']\n",
    "geometry = farms['features'][0]['geometry']\n",
    "farm_data = farms['features']\n",
    "#Convert json data into Google Earth Engine Features\n",
    "farm_data_features_list = [ee.Feature(farms['features'][i]['geometry'],farms['features'][i]['properties']) for i in range(len(farm_data))]\n"
   ]
  },
  {
   "cell_type": "code",
   "execution_count": 5,
   "metadata": {},
   "outputs": [],
   "source": [
    "#Append farm points and buffer onto the map\n",
    "for item in farm_data_features_list:\n",
    "    Map.addLayer(item, {}, 'Small Holder Farms Research Location Feature')\n",
    "\n",
    "for item in farm_data_features_list:\n",
    "    new_geometry = item.buffer(1000)\n",
    "    Map.addLayer(new_geometry, {'color': 'red'},'buffer')\n",
    "    "
   ]
  },
  {
   "cell_type": "code",
   "execution_count": 6,
   "metadata": {},
   "outputs": [],
   "source": [
    "# cloud mask function\n",
    "def maskS2clouds(image):\n",
    "#     bits 10 and 11 are cloud and cirrus \n",
    "    qa = image.select('QA60')\n",
    "    cloudBitMask = 1 << 10\n",
    "    cirrusBitMask = 1 << 11\n",
    "#     both needs to be set to zero - clear condition\n",
    "    mask = qa.bitwiseAnd(cloudBitMask).eq(0).And(\n",
    "    qa.bitwiseAnd(cirrusBitMask).eq(0))\n",
    "#     return the masked and scaled data without the QA bands\n",
    "    return image.updateMask(mask).divide(10000)\\\n",
    "        .select(\"B.*\")\\\n",
    "        .copyProperties(image, ['system:time_start'])"
   ]
  },
  {
   "cell_type": "code",
   "execution_count": 7,
   "metadata": {},
   "outputs": [],
   "source": [
    "#calculating NDVI\n",
    "def addNDVI(img):\n",
    "  ndvi = img.normalizedDifference(['B8', 'B4']).rename('ndvi')\n",
    "  return img.addBands([ndvi])"
   ]
  },
  {
   "cell_type": "code",
   "execution_count": 8,
   "metadata": {},
   "outputs": [],
   "source": [
    "# Setting query boundary\n",
    "PR_polygon = ee.Geometry.Polygon([[[-66.97540283203125, 18.04403274297545],\\\n",
    "                                 [-65.93170166015625, 18.04403274297545],\\\n",
    "                                 [-65.93170166015625, 18.41447273166262],\\\n",
    "                                 [-66.97540283203125, 18.41447273166262],\\\n",
    "                                 [-66.97540283203125, 18.04403274297545]]])"
   ]
  },
  {
   "cell_type": "code",
   "execution_count": 10,
   "metadata": {},
   "outputs": [],
   "source": [
    "#Creating composites - composite between March and June had missing pixels due to cloud mask\n",
    "Start0 = ee.Date('2017-03-28')\n",
    "End0 = ee.Date('2017-6-30')\n",
    "img = ee.ImageCollection('COPERNICUS/S2')\\\n",
    "    .filterDate(Start0, End0)\\\n",
    "    .filterBounds(PR_polygon)\\\n",
    "    .filter(ee.Filter.lt('CLOUDY_PIXEL_PERCENTAGE', 20))\\\n",
    "    .map(maskS2clouds)\n",
    "composite0 = img.median()"
   ]
  },
  {
   "cell_type": "code",
   "execution_count": 100,
   "metadata": {},
   "outputs": [],
   "source": [
    "Map.addLayer(composite0, {'bands':['B8', 'B4', 'B3'], 'min': 0, 'max':0.3}, 'False IR Composite April - June 2017')"
   ]
  },
  {
   "cell_type": "code",
   "execution_count": 11,
   "metadata": {},
   "outputs": [],
   "source": [
    "Start1 = ee.Date('2017-07-01')\n",
    "End1 = ee.Date('2017-09-30')\n",
    "img = ee.ImageCollection('COPERNICUS/S2')\\\n",
    "    .filterDate(Start1, End1)\\\n",
    "    .filterBounds(PR_polygon)\\\n",
    "    .filter(ee.Filter.lt('CLOUDY_PIXEL_PERCENTAGE', 20))\\\n",
    "    .map(maskS2clouds)\n",
    "composite1 = img.median()"
   ]
  },
  {
   "cell_type": "code",
   "execution_count": 102,
   "metadata": {},
   "outputs": [],
   "source": [
    "Map.addLayer(composite1, {'bands':['B8', 'B4', 'B3'], 'min': 0, 'max':0.3}, 'False IR Composite July - Septeber 2017')"
   ]
  },
  {
   "cell_type": "code",
   "execution_count": 12,
   "metadata": {},
   "outputs": [],
   "source": [
    "Start2 = ee.Date('2017-10-01')\n",
    "End2 = ee.Date('2018-12-31')\n",
    "img = ee.ImageCollection('COPERNICUS/S2')\\\n",
    "    .filterDate(Start2, End2)\\\n",
    "    .filterBounds(PR_polygon)\\\n",
    "    .filter(ee.Filter.lt('CLOUDY_PIXEL_PERCENTAGE', 20))\\\n",
    "    .map(maskS2clouds)\n",
    "composite2 = img.median()"
   ]
  },
  {
   "cell_type": "code",
   "execution_count": null,
   "metadata": {},
   "outputs": [],
   "source": [
    "Map.addLayer(composite2, {'bands':['B8', 'B4', 'B3'], 'min': 0, 'max':0.3}, 'False IR Composite Oct - Dec 2017')"
   ]
  },
  {
   "cell_type": "code",
   "execution_count": 22,
   "metadata": {},
   "outputs": [],
   "source": [
    "Start3 = ee.Date('2018-01-01')\n",
    "End3 = ee.Date('2018-03-31')\n",
    "img = ee.ImageCollection('COPERNICUS/S2')\\\n",
    "    .filterDate(Start3, End3)\\\n",
    "    .filterBounds(PR_polygon)\\\n",
    "    .filter(ee.Filter.lt('CLOUDY_PIXEL_PERCENTAGE', 20))\\\n",
    "    .map(maskS2clouds)\n",
    "composite3 = img.median()"
   ]
  },
  {
   "cell_type": "code",
   "execution_count": null,
   "metadata": {},
   "outputs": [],
   "source": [
    "Map.addLayer(composite3, {'bands':['B8', 'B4', 'B3'], 'min': 0, 'max':0.3}, 'False IR Composite Jan - Mar 2018')"
   ]
  },
  {
   "cell_type": "code",
   "execution_count": 23,
   "metadata": {},
   "outputs": [],
   "source": [
    "Start4 = ee.Date('2018-04-01')\n",
    "End4 = ee.Date('2018-06-30')\n",
    "img = ee.ImageCollection('COPERNICUS/S2')\\\n",
    "    .filterDate(Start4, End4)\\\n",
    "    .filterBounds(PR_polygon)\\\n",
    "    .filter(ee.Filter.lt('CLOUDY_PIXEL_PERCENTAGE', 20))\\\n",
    "    .map(maskS2clouds)\n",
    "composite4 = img.median()"
   ]
  },
  {
   "cell_type": "code",
   "execution_count": null,
   "metadata": {},
   "outputs": [],
   "source": [
    "Map.addLayer(composite4, {'bands':['B8', 'B4', 'B3'], 'min': 0, 'max':0.3}, 'False IR Composite April - June 2018')"
   ]
  },
  {
   "cell_type": "code",
   "execution_count": 15,
   "metadata": {},
   "outputs": [],
   "source": [
    "Start5 = ee.Date('2018-07-01')\n",
    "End5 = ee.Date('2018-09-30')\n",
    "img = ee.ImageCollection('COPERNICUS/S2')\\\n",
    "    .filterDate(Start5, End5)\\\n",
    "    .filterBounds(PR_polygon)\\\n",
    "    .filter(ee.Filter.lt('CLOUDY_PIXEL_PERCENTAGE', 20))\\\n",
    "    .map(maskS2clouds)\n",
    "composite5 = img.median()"
   ]
  },
  {
   "cell_type": "code",
   "execution_count": null,
   "metadata": {},
   "outputs": [],
   "source": [
    "Map.addLayer(composite5, {'bands':['B8', 'B4', 'B3'], 'min': 0, 'max':0.3}, 'False IR Composite July - Septemer 2018')"
   ]
  },
  {
   "cell_type": "code",
   "execution_count": 16,
   "metadata": {},
   "outputs": [],
   "source": [
    "Start6 = ee.Date('2018-10-01')\n",
    "End6 = ee.Date('2018-12-31')\n",
    "img = ee.ImageCollection('COPERNICUS/S2')\\\n",
    "    .filterDate(Start6, End6)\\\n",
    "    .filterBounds(PR_polygon)\\\n",
    "    .filter(ee.Filter.lt('CLOUDY_PIXEL_PERCENTAGE', 20))\\\n",
    "    .map(maskS2clouds)\n",
    "composite6 = img.median()"
   ]
  },
  {
   "cell_type": "code",
   "execution_count": null,
   "metadata": {},
   "outputs": [],
   "source": [
    "Map.addLayer(composite6, {'bands':['B8', 'B4', 'B3'], 'min': 0, 'max':0.3}, 'False IR Composite October - December 2018')"
   ]
  },
  {
   "cell_type": "code",
   "execution_count": 17,
   "metadata": {},
   "outputs": [],
   "source": [
    "Start7 = ee.Date('2019-1-01')\n",
    "End7 = ee.Date('2019-3-31')\n",
    "img = ee.ImageCollection('COPERNICUS/S2')\\\n",
    "    .filterDate(Start7, End7)\\\n",
    "    .filterBounds(PR_polygon)\\\n",
    "    .filter(ee.Filter.lt('CLOUDY_PIXEL_PERCENTAGE', 20))\\\n",
    "    .map(maskS2clouds)\n",
    "composite7 = img.median()"
   ]
  },
  {
   "cell_type": "code",
   "execution_count": null,
   "metadata": {},
   "outputs": [],
   "source": [
    "Map.addLayer(composite7, {'bands':['B8', 'B4', 'B3'], 'min': 0, 'max':0.3}, 'False IR Composite January - March 2019')"
   ]
  },
  {
   "cell_type": "code",
   "execution_count": 18,
   "metadata": {},
   "outputs": [],
   "source": [
    "Start8 = ee.Date('2019-4-01')\n",
    "End8 = ee.Date('2019-6-30')\n",
    "img = ee.ImageCollection('COPERNICUS/S2')\\\n",
    "    .filterDate(Start8, End8)\\\n",
    "    .filterBounds(PR_polygon)\\\n",
    "    .filter(ee.Filter.lt('CLOUDY_PIXEL_PERCENTAGE', 20))\\\n",
    "    .map(maskS2clouds)\n",
    "composite8 = img.median()"
   ]
  },
  {
   "cell_type": "code",
   "execution_count": null,
   "metadata": {},
   "outputs": [],
   "source": [
    "Map.addLayer(composite8, {'bands':['B8', 'B4', 'B3'], 'min': 0, 'max':0.3}, 'False IR Composite March- June 2019')"
   ]
  },
  {
   "cell_type": "code",
   "execution_count": 19,
   "metadata": {},
   "outputs": [],
   "source": [
    "Start9 = ee.Date('2019-07-01')\n",
    "End9 = ee.Date('2019-09-30')\n",
    "img = ee.ImageCollection('COPERNICUS/S2')\\\n",
    "    .filterDate(Start9, End9)\\\n",
    "    .filterBounds(PR_polygon)\\\n",
    "    .filter(ee.Filter.lt('CLOUDY_PIXEL_PERCENTAGE', 20))\\\n",
    "    .map(maskS2clouds)\n",
    "composite9 = img.median()"
   ]
  },
  {
   "cell_type": "code",
   "execution_count": null,
   "metadata": {},
   "outputs": [],
   "source": [
    "Map.addLayer(composite9, {'bands':['B8', 'B4', 'B3'], 'min': 0, 'max':0.3}, 'False IR Composite July - September 2019')"
   ]
  },
  {
   "cell_type": "code",
   "execution_count": 20,
   "metadata": {},
   "outputs": [],
   "source": [
    "Start10 = ee.Date('2019-10-01')\n",
    "End10 = ee.Date('2019-12-31')\n",
    "img = ee.ImageCollection('COPERNICUS/S2')\\\n",
    "    .filterDate(Start10, End10)\\\n",
    "    .filterBounds(PR_polygon)\\\n",
    "    .filter(ee.Filter.lt('CLOUDY_PIXEL_PERCENTAGE', 20))\\\n",
    "    .map(maskS2clouds)\n",
    "composite10 = img.median()"
   ]
  },
  {
   "cell_type": "code",
   "execution_count": null,
   "metadata": {},
   "outputs": [],
   "source": [
    "Map.addLayer(composite10, {'bands':['B8', 'B4', 'B3'], 'min': 0, 'max':0.3}, 'False IR Composite October - December 2019')"
   ]
  },
  {
   "cell_type": "code",
   "execution_count": 24,
   "metadata": {},
   "outputs": [],
   "source": [
    "composite_list = [composite0, composite1, composite2, composite3, composite4, composite5, composite6, composite7, composite8, composite9,\n",
    "                 composite10]"
   ]
  },
  {
   "cell_type": "code",
   "execution_count": 25,
   "metadata": {},
   "outputs": [],
   "source": [
    "#Single image ndvi calculation\n",
    "composite1_ndvi = addNDVI(composite1)\n",
    "ndvi1 = composite1_ndvi.select(['ndvi'])"
   ]
  },
  {
   "cell_type": "code",
   "execution_count": 26,
   "metadata": {},
   "outputs": [],
   "source": [
    "# Exploratory NDVI visualization\n",
    "# Green = High NDVI value, Yellow = Low NDVI value\n",
    "visParams_ndvi = {'bands': ['ndvi'], 'min': -0.2, 'max': 0.8, 'palette': 'FFFFFF, CE7E45, DF923D, F1B555, FCD163, 99B718, 74A901, 66A000, 529400,' + \\\n",
    "    '3E8601, 207401, 056201, 004C00, 023B01, 012E01, 011D01, 011301'}\n",
    "Map.addLayer(ndvi1,visParams_ndvi,'Sentinel-2 NDVI Oct - Dec 2019(sample image)')"
   ]
  },
  {
   "cell_type": "code",
   "execution_count": 75,
   "metadata": {},
   "outputs": [],
   "source": [
    "# Adding NDVI bands to all composites\n",
    "ndvi_dict = {}\n",
    "for i in range(len(composite_list)):\n",
    "    ndvi_dict['ndvi %s' %(i)] = composite_list[i]\n",
    "for k,v in ndvi_dict.items():\n",
    "    ndvi_dict[k] = addNDVI(v).select(['ndvi'])"
   ]
  },
  {
   "cell_type": "code",
   "execution_count": 84,
   "metadata": {},
   "outputs": [
    {
     "name": "stdout",
     "output_type": "stream",
     "text": [
      "farm 0, composite 0\n",
      "{'ndvi_mean': 0.6332507061786319, 'ndvi_stdDev': 0.1739024063953939}\n",
      "farm 0, composite 1\n",
      "{'ndvi_mean': 0.7165135398897369, 'ndvi_stdDev': 0.07219930376415218}\n",
      "farm 0, composite 2\n",
      "{'ndvi_mean': 0.7061207345285844, 'ndvi_stdDev': 0.08638071503480232}\n",
      "farm 0, composite 3\n",
      "{'ndvi_mean': 0.7140707999320582, 'ndvi_stdDev': 0.09180558884781748}\n",
      "farm 0, composite 4\n",
      "{'ndvi_mean': 0.6538867289390089, 'ndvi_stdDev': 0.10589986302941512}\n",
      "farm 0, composite 5\n",
      "{'ndvi_mean': 0.7005527891924914, 'ndvi_stdDev': 0.08898002282654198}\n",
      "farm 0, composite 6\n",
      "{'ndvi_mean': 0.7321340374920733, 'ndvi_stdDev': 0.09690954102155408}\n",
      "farm 0, composite 7\n",
      "{'ndvi_mean': 0.6913389697796902, 'ndvi_stdDev': 0.1055597940932304}\n",
      "farm 0, composite 8\n",
      "{'ndvi_mean': 0.6977948366848092, 'ndvi_stdDev': 0.10233561979674659}\n",
      "farm 0, composite 9\n",
      "{'ndvi_mean': 0.7230934880356888, 'ndvi_stdDev': 0.09510156893935746}\n",
      "farm 0, composite 10\n",
      "{'ndvi_mean': 0.7297479548400456, 'ndvi_stdDev': 0.09479368530918128}\n",
      "farm 1, composite 0\n",
      "{'ndvi_mean': 0.4811111765692349, 'ndvi_stdDev': 0.20386546659241436}\n",
      "farm 1, composite 1\n",
      "{'ndvi_mean': 0.6198967108793073, 'ndvi_stdDev': 0.1325386739390898}\n",
      "farm 1, composite 2\n",
      "{'ndvi_mean': 0.6680448207232086, 'ndvi_stdDev': 0.06999820197282595}\n",
      "farm 1, composite 3\n",
      "{'ndvi_mean': 0.6817114124369603, 'ndvi_stdDev': 0.08848027261353426}\n",
      "farm 1, composite 4\n",
      "{'ndvi_mean': 0.5834582991071565, 'ndvi_stdDev': 0.13378118802944478}\n",
      "farm 1, composite 5\n",
      "{'ndvi_mean': 0.5749811244961964, 'ndvi_stdDev': 0.13069479193467104}\n",
      "farm 1, composite 6\n",
      "{'ndvi_mean': 0.7143361170219599, 'ndvi_stdDev': 0.07053159736060721}\n",
      "farm 1, composite 7\n",
      "{'ndvi_mean': 0.688761067591772, 'ndvi_stdDev': 0.07706047737647441}\n",
      "farm 1, composite 8\n",
      "{'ndvi_mean': 0.6060790547315118, 'ndvi_stdDev': 0.12296491612579426}\n",
      "farm 1, composite 9\n",
      "{'ndvi_mean': 0.6406439727016413, 'ndvi_stdDev': 0.08573134593859173}\n",
      "farm 1, composite 10\n",
      "{'ndvi_mean': 0.6981309705597221, 'ndvi_stdDev': 0.07276668604253927}\n",
      "farm 2, composite 0\n",
      "{'ndvi_mean': None, 'ndvi_stdDev': None}\n",
      "farm 2, composite 1\n",
      "{'ndvi_mean': 0.5858630558138829, 'ndvi_stdDev': 0.14199167573830523}\n",
      "farm 2, composite 2\n",
      "{'ndvi_mean': 0.6525347815883972, 'ndvi_stdDev': 0.0795717133014391}\n",
      "farm 2, composite 3\n",
      "{'ndvi_mean': 0.6884116851041684, 'ndvi_stdDev': 0.0876573284828278}\n",
      "farm 2, composite 4\n",
      "{'ndvi_mean': 0.5965765598792175, 'ndvi_stdDev': 0.10479006931154455}\n",
      "farm 2, composite 5\n",
      "{'ndvi_mean': 0.5387749310328431, 'ndvi_stdDev': 0.10931392058452336}\n",
      "farm 2, composite 6\n",
      "{'ndvi_mean': 0.6899993977376263, 'ndvi_stdDev': 0.09611161646219757}\n",
      "farm 2, composite 7\n",
      "{'ndvi_mean': 0.5988154796051841, 'ndvi_stdDev': 0.125522403893541}\n",
      "farm 2, composite 8\n",
      "{'ndvi_mean': 0.6222495576776688, 'ndvi_stdDev': 0.09998454145919602}\n",
      "farm 2, composite 9\n",
      "{'ndvi_mean': 0.6429703390747487, 'ndvi_stdDev': 0.08573288172068756}\n",
      "farm 2, composite 10\n",
      "{'ndvi_mean': 0.6364471889578426, 'ndvi_stdDev': 0.11546534142912075}\n",
      "farm 3, composite 0\n",
      "{'ndvi_mean': None, 'ndvi_stdDev': None}\n",
      "farm 3, composite 1\n",
      "{'ndvi_mean': 0.6329701578212906, 'ndvi_stdDev': 0.13740242039293488}\n",
      "farm 3, composite 2\n",
      "{'ndvi_mean': 0.7123316422278013, 'ndvi_stdDev': 0.05968657308807382}\n",
      "farm 3, composite 3\n",
      "{'ndvi_mean': 0.7130522491327267, 'ndvi_stdDev': 0.07016491121087629}\n",
      "farm 3, composite 4\n",
      "{'ndvi_mean': 0.451850084208698, 'ndvi_stdDev': 0.16114928699174808}\n",
      "farm 3, composite 5\n",
      "{'ndvi_mean': 0.6657660950975863, 'ndvi_stdDev': 0.0780378081926615}\n",
      "farm 3, composite 6\n",
      "{'ndvi_mean': 0.7620907947336127, 'ndvi_stdDev': 0.06314003006133102}\n",
      "farm 3, composite 7\n",
      "{'ndvi_mean': 0.7185954111710094, 'ndvi_stdDev': 0.07033167975730871}\n",
      "farm 3, composite 8\n",
      "{'ndvi_mean': 0.6569674023921327, 'ndvi_stdDev': 0.13050770984343815}\n",
      "farm 3, composite 9\n",
      "{'ndvi_mean': 0.7571938202530896, 'ndvi_stdDev': 0.04937986212847863}\n",
      "farm 3, composite 10\n",
      "{'ndvi_mean': 0.7553520160477489, 'ndvi_stdDev': 0.06781880111845706}\n",
      "farm 4, composite 0\n",
      "{'ndvi_mean': 0.7463863540115185, 'ndvi_stdDev': 0.07249544284000714}\n",
      "farm 4, composite 1\n",
      "{'ndvi_mean': 0.7328141582623316, 'ndvi_stdDev': 0.056620193786274614}\n",
      "farm 4, composite 2\n",
      "{'ndvi_mean': 0.7197873294770235, 'ndvi_stdDev': 0.06584488891224999}\n",
      "farm 4, composite 3\n",
      "{'ndvi_mean': 0.7140564657046642, 'ndvi_stdDev': 0.07970043834433586}\n",
      "farm 4, composite 4\n",
      "{'ndvi_mean': 0.6715747854109562, 'ndvi_stdDev': 0.07189320546839767}\n",
      "farm 4, composite 5\n",
      "{'ndvi_mean': 0.6995657274932906, 'ndvi_stdDev': 0.056567936583565695}\n",
      "farm 4, composite 6\n",
      "{'ndvi_mean': 0.7574265218461353, 'ndvi_stdDev': 0.0634682753782219}\n",
      "farm 4, composite 7\n",
      "{'ndvi_mean': 0.7119814547863204, 'ndvi_stdDev': 0.07967435046529574}\n",
      "farm 4, composite 8\n",
      "{'ndvi_mean': 0.6992010312010545, 'ndvi_stdDev': 0.08393709843226815}\n",
      "farm 4, composite 9\n",
      "{'ndvi_mean': 0.7126676739778702, 'ndvi_stdDev': 0.059206754752941945}\n",
      "farm 4, composite 10\n",
      "{'ndvi_mean': 0.7308531299509018, 'ndvi_stdDev': 0.06429944389559293}\n",
      "farm 5, composite 0\n",
      "{'ndvi_mean': 0.4256891079822802, 'ndvi_stdDev': 0.1979548269923872}\n",
      "farm 5, composite 1\n",
      "{'ndvi_mean': 0.6356419334297789, 'ndvi_stdDev': 0.11517372922379901}\n",
      "farm 5, composite 2\n",
      "{'ndvi_mean': 0.6861042915372733, 'ndvi_stdDev': 0.06706533197548181}\n",
      "farm 5, composite 3\n",
      "{'ndvi_mean': 0.7007941448649581, 'ndvi_stdDev': 0.09117932703477992}\n",
      "farm 5, composite 4\n",
      "{'ndvi_mean': 0.6109987357472138, 'ndvi_stdDev': 0.07986259049486427}\n",
      "farm 5, composite 5\n",
      "{'ndvi_mean': 0.6484054907512555, 'ndvi_stdDev': 0.08409460961751936}\n",
      "farm 5, composite 6\n",
      "{'ndvi_mean': 0.7433407694763469, 'ndvi_stdDev': 0.06864843265244634}\n",
      "farm 5, composite 7\n",
      "{'ndvi_mean': 0.6518413346947862, 'ndvi_stdDev': 0.12331080025588635}\n",
      "farm 5, composite 8\n",
      "{'ndvi_mean': 0.6410123676726841, 'ndvi_stdDev': 0.1085294990359759}\n",
      "farm 5, composite 9\n",
      "{'ndvi_mean': 0.6797913248957467, 'ndvi_stdDev': 0.0688835590356157}\n",
      "farm 5, composite 10\n",
      "{'ndvi_mean': 0.7014042104868585, 'ndvi_stdDev': 0.09020075684213989}\n",
      "farm 6, composite 0\n",
      "{'ndvi_mean': 0.5758554904571255, 'ndvi_stdDev': 0.2240005584788342}\n",
      "farm 6, composite 1\n",
      "{'ndvi_mean': 0.6340262549785869, 'ndvi_stdDev': 0.12512740787346768}\n",
      "farm 6, composite 2\n",
      "{'ndvi_mean': 0.670378681023076, 'ndvi_stdDev': 0.07084938324850432}\n",
      "farm 6, composite 3\n",
      "{'ndvi_mean': 0.704285646023333, 'ndvi_stdDev': 0.08103743814202603}\n",
      "farm 6, composite 4\n",
      "{'ndvi_mean': 0.5358032064640055, 'ndvi_stdDev': 0.13430491673479386}\n",
      "farm 6, composite 5\n",
      "{'ndvi_mean': 0.5707498143600677, 'ndvi_stdDev': 0.12670058557827654}\n",
      "farm 6, composite 6\n",
      "{'ndvi_mean': 0.722774371370143, 'ndvi_stdDev': 0.07537616602737669}\n",
      "farm 6, composite 7\n",
      "{'ndvi_mean': 0.6903389795622009, 'ndvi_stdDev': 0.08069819315772081}\n",
      "farm 6, composite 8\n",
      "{'ndvi_mean': 0.6552002728960257, 'ndvi_stdDev': 0.08814676368764614}\n",
      "farm 6, composite 9\n",
      "{'ndvi_mean': 0.6488043223844175, 'ndvi_stdDev': 0.0876032412255688}\n",
      "farm 6, composite 10\n",
      "{'ndvi_mean': 0.7062373141110418, 'ndvi_stdDev': 0.07224030697265192}\n",
      "farm 7, composite 0\n",
      "{'ndvi_mean': 0.746494257212013, 'ndvi_stdDev': 0.08761443657465974}\n",
      "farm 7, composite 1\n",
      "{'ndvi_mean': 0.7539468840750755, 'ndvi_stdDev': 0.05414107825453165}\n",
      "farm 7, composite 2\n",
      "{'ndvi_mean': 0.7346474039245705, 'ndvi_stdDev': 0.07099259885973862}\n",
      "farm 7, composite 3\n",
      "{'ndvi_mean': 0.7415601874513166, 'ndvi_stdDev': 0.08259534081418923}\n",
      "farm 7, composite 4\n",
      "{'ndvi_mean': 0.5884713518945786, 'ndvi_stdDev': 0.09382902933340859}\n",
      "farm 7, composite 5\n",
      "{'ndvi_mean': 0.68835932438617, 'ndvi_stdDev': 0.07074743055959275}\n",
      "farm 7, composite 6\n",
      "{'ndvi_mean': 0.7608795162637343, 'ndvi_stdDev': 0.07186073810064202}\n",
      "farm 7, composite 7\n",
      "{'ndvi_mean': 0.7061296499197249, 'ndvi_stdDev': 0.10683065964008456}\n",
      "farm 7, composite 8\n",
      "{'ndvi_mean': 0.735981154761037, 'ndvi_stdDev': 0.09090948367939394}\n",
      "farm 7, composite 9\n",
      "{'ndvi_mean': 0.7310396262906932, 'ndvi_stdDev': 0.06217288453016911}\n",
      "farm 7, composite 10\n",
      "{'ndvi_mean': 0.7492130253431065, 'ndvi_stdDev': 0.07029867128868111}\n",
      "farm 8, composite 0\n",
      "{'ndvi_mean': 0.7296597303820592, 'ndvi_stdDev': 0.1066381774882295}\n",
      "farm 8, composite 1\n",
      "{'ndvi_mean': 0.7574126898627558, 'ndvi_stdDev': 0.05499330633012466}\n",
      "farm 8, composite 2\n",
      "{'ndvi_mean': 0.7331201702840773, 'ndvi_stdDev': 0.07287803938901306}\n",
      "farm 8, composite 3\n",
      "{'ndvi_mean': 0.7349646950883162, 'ndvi_stdDev': 0.0832072334314334}\n",
      "farm 8, composite 4\n"
     ]
    },
    {
     "name": "stdout",
     "output_type": "stream",
     "text": [
      "{'ndvi_mean': 0.6302325616716352, 'ndvi_stdDev': 0.09045450893362612}\n",
      "farm 8, composite 5\n",
      "{'ndvi_mean': 0.7033221045983815, 'ndvi_stdDev': 0.061445630543373125}\n",
      "farm 8, composite 6\n",
      "{'ndvi_mean': 0.7589753392837264, 'ndvi_stdDev': 0.07428681605713544}\n",
      "farm 8, composite 7\n",
      "{'ndvi_mean': 0.7044082035890231, 'ndvi_stdDev': 0.10597834444152719}\n",
      "farm 8, composite 8\n",
      "{'ndvi_mean': 0.7386336997602744, 'ndvi_stdDev': 0.09182127726275272}\n",
      "farm 8, composite 9\n",
      "{'ndvi_mean': 0.7290662736336875, 'ndvi_stdDev': 0.06358868950356528}\n",
      "farm 8, composite 10\n",
      "{'ndvi_mean': 0.7481293013475342, 'ndvi_stdDev': 0.07420333419799319}\n",
      "farm 9, composite 0\n",
      "{'ndvi_mean': 0.492859529556065, 'ndvi_stdDev': 0.1248835873366531}\n",
      "farm 9, composite 1\n",
      "{'ndvi_mean': 0.6994091284509374, 'ndvi_stdDev': 0.10064713430231888}\n",
      "farm 9, composite 2\n",
      "{'ndvi_mean': 0.7176068314144126, 'ndvi_stdDev': 0.06138061806303244}\n",
      "farm 9, composite 3\n",
      "{'ndvi_mean': 0.7115519065472053, 'ndvi_stdDev': 0.07508165979697248}\n",
      "farm 9, composite 4\n",
      "{'ndvi_mean': 0.6082014263799155, 'ndvi_stdDev': 0.16178133326773958}\n",
      "farm 9, composite 5\n",
      "{'ndvi_mean': 0.6682542328188004, 'ndvi_stdDev': 0.06740363455761417}\n",
      "farm 9, composite 6\n",
      "{'ndvi_mean': 0.766782187572807, 'ndvi_stdDev': 0.06198936715527853}\n",
      "farm 9, composite 7\n",
      "{'ndvi_mean': 0.7303402900929258, 'ndvi_stdDev': 0.07901504868069247}\n",
      "farm 9, composite 8\n",
      "{'ndvi_mean': 0.6780715416952189, 'ndvi_stdDev': 0.0900192582057289}\n",
      "farm 9, composite 9\n",
      "{'ndvi_mean': 0.7454500933809006, 'ndvi_stdDev': 0.06078356782655862}\n",
      "farm 9, composite 10\n",
      "{'ndvi_mean': 0.7604451225922093, 'ndvi_stdDev': 0.05661567100327696}\n",
      "farm 10, composite 0\n",
      "{'ndvi_mean': 0.5757018458392609, 'ndvi_stdDev': 0.03244075874564167}\n",
      "farm 10, composite 1\n",
      "{'ndvi_mean': 0.6446425087569346, 'ndvi_stdDev': 0.09983969854569533}\n",
      "farm 10, composite 2\n",
      "{'ndvi_mean': 0.6320597966391454, 'ndvi_stdDev': 0.09728425723820493}\n",
      "farm 10, composite 3\n",
      "{'ndvi_mean': 0.6368372287607529, 'ndvi_stdDev': 0.11956484224670226}\n",
      "farm 10, composite 4\n",
      "{'ndvi_mean': 0.584150064244327, 'ndvi_stdDev': 0.1031890621416604}\n",
      "farm 10, composite 5\n",
      "{'ndvi_mean': 0.5188745282599605, 'ndvi_stdDev': 0.1206482236624221}\n",
      "farm 10, composite 6\n",
      "{'ndvi_mean': 0.6823913292371663, 'ndvi_stdDev': 0.10290134516264689}\n",
      "farm 10, composite 7\n"
     ]
    },
    {
     "ename": "KeyboardInterrupt",
     "evalue": "",
     "output_type": "error",
     "traceback": [
      "\u001b[1;31m---------------------------------------------------------------------------\u001b[0m",
      "\u001b[1;31mTypeError\u001b[0m                                 Traceback (most recent call last)",
      "\u001b[1;32mC:\\Python\\lib\\site-packages\\urllib3\\connectionpool.py\u001b[0m in \u001b[0;36m_make_request\u001b[1;34m(self, conn, method, url, timeout, chunked, **httplib_request_kw)\u001b[0m\n\u001b[0;32m    376\u001b[0m             \u001b[1;32mtry\u001b[0m\u001b[1;33m:\u001b[0m  \u001b[1;31m# Python 2.7, use buffering of HTTP responses\u001b[0m\u001b[1;33m\u001b[0m\u001b[1;33m\u001b[0m\u001b[0m\n\u001b[1;32m--> 377\u001b[1;33m                 \u001b[0mhttplib_response\u001b[0m \u001b[1;33m=\u001b[0m \u001b[0mconn\u001b[0m\u001b[1;33m.\u001b[0m\u001b[0mgetresponse\u001b[0m\u001b[1;33m(\u001b[0m\u001b[0mbuffering\u001b[0m\u001b[1;33m=\u001b[0m\u001b[1;32mTrue\u001b[0m\u001b[1;33m)\u001b[0m\u001b[1;33m\u001b[0m\u001b[1;33m\u001b[0m\u001b[0m\n\u001b[0m\u001b[0;32m    378\u001b[0m             \u001b[1;32mexcept\u001b[0m \u001b[0mTypeError\u001b[0m\u001b[1;33m:\u001b[0m  \u001b[1;31m# Python 3\u001b[0m\u001b[1;33m\u001b[0m\u001b[1;33m\u001b[0m\u001b[0m\n",
      "\u001b[1;31mTypeError\u001b[0m: getresponse() got an unexpected keyword argument 'buffering'",
      "\nDuring handling of the above exception, another exception occurred:\n",
      "\u001b[1;31mKeyboardInterrupt\u001b[0m                         Traceback (most recent call last)",
      "\u001b[1;32m<ipython-input-84-67d3f02b7f49>\u001b[0m in \u001b[0;36m<module>\u001b[1;34m\u001b[0m\n\u001b[0;32m     22\u001b[0m \u001b[1;32mfor\u001b[0m \u001b[0mfarm\u001b[0m \u001b[1;32min\u001b[0m \u001b[0mstats_dict\u001b[0m\u001b[1;33m.\u001b[0m\u001b[0mkeys\u001b[0m\u001b[1;33m(\u001b[0m\u001b[1;33m)\u001b[0m\u001b[1;33m:\u001b[0m\u001b[1;33m\u001b[0m\u001b[1;33m\u001b[0m\u001b[0m\n\u001b[0;32m     23\u001b[0m     \u001b[0mprint\u001b[0m \u001b[1;33m(\u001b[0m\u001b[0mfarm\u001b[0m\u001b[1;33m)\u001b[0m\u001b[1;33m\u001b[0m\u001b[1;33m\u001b[0m\u001b[0m\n\u001b[1;32m---> 24\u001b[1;33m     \u001b[0mprint\u001b[0m \u001b[1;33m(\u001b[0m\u001b[0mstats_dict\u001b[0m\u001b[1;33m[\u001b[0m\u001b[0mfarm\u001b[0m\u001b[1;33m]\u001b[0m\u001b[1;33m.\u001b[0m\u001b[0mgetInfo\u001b[0m\u001b[1;33m(\u001b[0m\u001b[1;33m)\u001b[0m\u001b[1;33m)\u001b[0m\u001b[1;33m\u001b[0m\u001b[1;33m\u001b[0m\u001b[0m\n\u001b[0m\u001b[0;32m     25\u001b[0m \u001b[1;33m\u001b[0m\u001b[0m\n\u001b[0;32m     26\u001b[0m \u001b[1;31m# for i in range(len(farm_data)):\u001b[0m\u001b[1;33m\u001b[0m\u001b[1;33m\u001b[0m\u001b[1;33m\u001b[0m\u001b[0m\n",
      "\u001b[1;32mC:\\Python\\lib\\site-packages\\ee\\computedobject.py\u001b[0m in \u001b[0;36mgetInfo\u001b[1;34m(self)\u001b[0m\n\u001b[0;32m     93\u001b[0m       \u001b[0mThe\u001b[0m \u001b[0mobject\u001b[0m \u001b[0mcan\u001b[0m \u001b[0mevaluate\u001b[0m \u001b[0mto\u001b[0m \u001b[0manything\u001b[0m\u001b[1;33m.\u001b[0m\u001b[1;33m\u001b[0m\u001b[1;33m\u001b[0m\u001b[0m\n\u001b[0;32m     94\u001b[0m     \"\"\"\n\u001b[1;32m---> 95\u001b[1;33m     \u001b[1;32mreturn\u001b[0m \u001b[0mdata\u001b[0m\u001b[1;33m.\u001b[0m\u001b[0mcomputeValue\u001b[0m\u001b[1;33m(\u001b[0m\u001b[0mself\u001b[0m\u001b[1;33m)\u001b[0m\u001b[1;33m\u001b[0m\u001b[1;33m\u001b[0m\u001b[0m\n\u001b[0m\u001b[0;32m     96\u001b[0m \u001b[1;33m\u001b[0m\u001b[0m\n\u001b[0;32m     97\u001b[0m   \u001b[1;32mdef\u001b[0m \u001b[0mencode\u001b[0m\u001b[1;33m(\u001b[0m\u001b[0mself\u001b[0m\u001b[1;33m,\u001b[0m \u001b[0mencoder\u001b[0m\u001b[1;33m)\u001b[0m\u001b[1;33m:\u001b[0m\u001b[1;33m\u001b[0m\u001b[1;33m\u001b[0m\u001b[0m\n",
      "\u001b[1;32mC:\\Python\\lib\\site-packages\\ee\\data.py\u001b[0m in \u001b[0;36mcomputeValue\u001b[1;34m(obj)\u001b[0m\n\u001b[0;32m    701\u001b[0m         \u001b[0mbody\u001b[0m\u001b[1;33m=\u001b[0m\u001b[1;33m{\u001b[0m\u001b[1;34m'expression'\u001b[0m\u001b[1;33m:\u001b[0m \u001b[0mserializer\u001b[0m\u001b[1;33m.\u001b[0m\u001b[0mencode\u001b[0m\u001b[1;33m(\u001b[0m\u001b[0mobj\u001b[0m\u001b[1;33m,\u001b[0m \u001b[0mfor_cloud_api\u001b[0m\u001b[1;33m=\u001b[0m\u001b[1;32mTrue\u001b[0m\u001b[1;33m)\u001b[0m\u001b[1;33m}\u001b[0m\u001b[1;33m,\u001b[0m\u001b[1;33m\u001b[0m\u001b[1;33m\u001b[0m\u001b[0m\n\u001b[0;32m    702\u001b[0m         \u001b[0mproject\u001b[0m\u001b[1;33m=\u001b[0m\u001b[0m_get_projects_path\u001b[0m\u001b[1;33m(\u001b[0m\u001b[1;33m)\u001b[0m\u001b[1;33m,\u001b[0m\u001b[1;33m\u001b[0m\u001b[1;33m\u001b[0m\u001b[0m\n\u001b[1;32m--> 703\u001b[1;33m         prettyPrint=False))['result']\n\u001b[0m\u001b[0;32m    704\u001b[0m   \u001b[1;32mreturn\u001b[0m \u001b[0msend_\u001b[0m\u001b[1;33m(\u001b[0m\u001b[1;34m'/value'\u001b[0m\u001b[1;33m,\u001b[0m \u001b[1;33m(\u001b[0m\u001b[1;33m{\u001b[0m\u001b[1;34m'json'\u001b[0m\u001b[1;33m:\u001b[0m \u001b[0mobj\u001b[0m\u001b[1;33m.\u001b[0m\u001b[0mserialize\u001b[0m\u001b[1;33m(\u001b[0m\u001b[1;33m)\u001b[0m\u001b[1;33m,\u001b[0m \u001b[1;34m'json_format'\u001b[0m\u001b[1;33m:\u001b[0m \u001b[1;34m'v2'\u001b[0m\u001b[1;33m}\u001b[0m\u001b[1;33m)\u001b[0m\u001b[1;33m)\u001b[0m\u001b[1;33m\u001b[0m\u001b[1;33m\u001b[0m\u001b[0m\n\u001b[0;32m    705\u001b[0m \u001b[1;33m\u001b[0m\u001b[0m\n",
      "\u001b[1;32mC:\\Python\\lib\\site-packages\\ee\\data.py\u001b[0m in \u001b[0;36m_execute_cloud_call\u001b[1;34m(call, num_retries)\u001b[0m\n\u001b[0;32m    336\u001b[0m   \"\"\"\n\u001b[0;32m    337\u001b[0m   \u001b[1;32mtry\u001b[0m\u001b[1;33m:\u001b[0m\u001b[1;33m\u001b[0m\u001b[1;33m\u001b[0m\u001b[0m\n\u001b[1;32m--> 338\u001b[1;33m     \u001b[1;32mreturn\u001b[0m \u001b[0mcall\u001b[0m\u001b[1;33m.\u001b[0m\u001b[0mexecute\u001b[0m\u001b[1;33m(\u001b[0m\u001b[0mnum_retries\u001b[0m\u001b[1;33m=\u001b[0m\u001b[0mnum_retries\u001b[0m\u001b[1;33m)\u001b[0m\u001b[1;33m\u001b[0m\u001b[1;33m\u001b[0m\u001b[0m\n\u001b[0m\u001b[0;32m    339\u001b[0m   \u001b[1;32mexcept\u001b[0m \u001b[0mapiclient\u001b[0m\u001b[1;33m.\u001b[0m\u001b[0merrors\u001b[0m\u001b[1;33m.\u001b[0m\u001b[0mHttpError\u001b[0m \u001b[1;32mas\u001b[0m \u001b[0me\u001b[0m\u001b[1;33m:\u001b[0m\u001b[1;33m\u001b[0m\u001b[1;33m\u001b[0m\u001b[0m\n\u001b[0;32m    340\u001b[0m     \u001b[1;32mraise\u001b[0m \u001b[0m_translate_cloud_exception\u001b[0m\u001b[1;33m(\u001b[0m\u001b[0me\u001b[0m\u001b[1;33m)\u001b[0m\u001b[1;33m\u001b[0m\u001b[1;33m\u001b[0m\u001b[0m\n",
      "\u001b[1;32mC:\\Python\\lib\\site-packages\\googleapiclient\\_helpers.py\u001b[0m in \u001b[0;36mpositional_wrapper\u001b[1;34m(*args, **kwargs)\u001b[0m\n\u001b[0;32m    132\u001b[0m                 \u001b[1;32melif\u001b[0m \u001b[0mpositional_parameters_enforcement\u001b[0m \u001b[1;33m==\u001b[0m \u001b[0mPOSITIONAL_WARNING\u001b[0m\u001b[1;33m:\u001b[0m\u001b[1;33m\u001b[0m\u001b[1;33m\u001b[0m\u001b[0m\n\u001b[0;32m    133\u001b[0m                     \u001b[0mlogger\u001b[0m\u001b[1;33m.\u001b[0m\u001b[0mwarning\u001b[0m\u001b[1;33m(\u001b[0m\u001b[0mmessage\u001b[0m\u001b[1;33m)\u001b[0m\u001b[1;33m\u001b[0m\u001b[1;33m\u001b[0m\u001b[0m\n\u001b[1;32m--> 134\u001b[1;33m             \u001b[1;32mreturn\u001b[0m \u001b[0mwrapped\u001b[0m\u001b[1;33m(\u001b[0m\u001b[1;33m*\u001b[0m\u001b[0margs\u001b[0m\u001b[1;33m,\u001b[0m \u001b[1;33m**\u001b[0m\u001b[0mkwargs\u001b[0m\u001b[1;33m)\u001b[0m\u001b[1;33m\u001b[0m\u001b[1;33m\u001b[0m\u001b[0m\n\u001b[0m\u001b[0;32m    135\u001b[0m \u001b[1;33m\u001b[0m\u001b[0m\n\u001b[0;32m    136\u001b[0m         \u001b[1;32mreturn\u001b[0m \u001b[0mpositional_wrapper\u001b[0m\u001b[1;33m\u001b[0m\u001b[1;33m\u001b[0m\u001b[0m\n",
      "\u001b[1;32mC:\\Python\\lib\\site-packages\\googleapiclient\\http.py\u001b[0m in \u001b[0;36mexecute\u001b[1;34m(self, http, num_retries)\u001b[0m\n\u001b[0;32m    890\u001b[0m             \u001b[0mmethod\u001b[0m\u001b[1;33m=\u001b[0m\u001b[0mstr\u001b[0m\u001b[1;33m(\u001b[0m\u001b[0mself\u001b[0m\u001b[1;33m.\u001b[0m\u001b[0mmethod\u001b[0m\u001b[1;33m)\u001b[0m\u001b[1;33m,\u001b[0m\u001b[1;33m\u001b[0m\u001b[1;33m\u001b[0m\u001b[0m\n\u001b[0;32m    891\u001b[0m             \u001b[0mbody\u001b[0m\u001b[1;33m=\u001b[0m\u001b[0mself\u001b[0m\u001b[1;33m.\u001b[0m\u001b[0mbody\u001b[0m\u001b[1;33m,\u001b[0m\u001b[1;33m\u001b[0m\u001b[1;33m\u001b[0m\u001b[0m\n\u001b[1;32m--> 892\u001b[1;33m             \u001b[0mheaders\u001b[0m\u001b[1;33m=\u001b[0m\u001b[0mself\u001b[0m\u001b[1;33m.\u001b[0m\u001b[0mheaders\u001b[0m\u001b[1;33m,\u001b[0m\u001b[1;33m\u001b[0m\u001b[1;33m\u001b[0m\u001b[0m\n\u001b[0m\u001b[0;32m    893\u001b[0m         )\n\u001b[0;32m    894\u001b[0m \u001b[1;33m\u001b[0m\u001b[0m\n",
      "\u001b[1;32mC:\\Python\\lib\\site-packages\\googleapiclient\\http.py\u001b[0m in \u001b[0;36m_retry_request\u001b[1;34m(http, num_retries, req_type, sleep, rand, uri, method, *args, **kwargs)\u001b[0m\n\u001b[0;32m    170\u001b[0m         \u001b[1;32mtry\u001b[0m\u001b[1;33m:\u001b[0m\u001b[1;33m\u001b[0m\u001b[1;33m\u001b[0m\u001b[0m\n\u001b[0;32m    171\u001b[0m             \u001b[0mexception\u001b[0m \u001b[1;33m=\u001b[0m \u001b[1;32mNone\u001b[0m\u001b[1;33m\u001b[0m\u001b[1;33m\u001b[0m\u001b[0m\n\u001b[1;32m--> 172\u001b[1;33m             \u001b[0mresp\u001b[0m\u001b[1;33m,\u001b[0m \u001b[0mcontent\u001b[0m \u001b[1;33m=\u001b[0m \u001b[0mhttp\u001b[0m\u001b[1;33m.\u001b[0m\u001b[0mrequest\u001b[0m\u001b[1;33m(\u001b[0m\u001b[0muri\u001b[0m\u001b[1;33m,\u001b[0m \u001b[0mmethod\u001b[0m\u001b[1;33m,\u001b[0m \u001b[1;33m*\u001b[0m\u001b[0margs\u001b[0m\u001b[1;33m,\u001b[0m \u001b[1;33m**\u001b[0m\u001b[0mkwargs\u001b[0m\u001b[1;33m)\u001b[0m\u001b[1;33m\u001b[0m\u001b[1;33m\u001b[0m\u001b[0m\n\u001b[0m\u001b[0;32m    173\u001b[0m         \u001b[1;31m# Retry on SSL errors and socket timeout errors.\u001b[0m\u001b[1;33m\u001b[0m\u001b[1;33m\u001b[0m\u001b[1;33m\u001b[0m\u001b[0m\n\u001b[0;32m    174\u001b[0m         \u001b[1;32mexcept\u001b[0m \u001b[0m_ssl_SSLError\u001b[0m \u001b[1;32mas\u001b[0m \u001b[0mssl_error\u001b[0m\u001b[1;33m:\u001b[0m\u001b[1;33m\u001b[0m\u001b[1;33m\u001b[0m\u001b[0m\n",
      "\u001b[1;32mC:\\Python\\lib\\site-packages\\google_auth_httplib2.py\u001b[0m in \u001b[0;36mrequest\u001b[1;34m(self, uri, method, body, headers, **kwargs)\u001b[0m\n\u001b[0;32m    196\u001b[0m         \u001b[1;31m# Make the request.\u001b[0m\u001b[1;33m\u001b[0m\u001b[1;33m\u001b[0m\u001b[1;33m\u001b[0m\u001b[0m\n\u001b[0;32m    197\u001b[0m         response, content = self.http.request(\n\u001b[1;32m--> 198\u001b[1;33m             uri, method, body=body, headers=request_headers, **kwargs)\n\u001b[0m\u001b[0;32m    199\u001b[0m \u001b[1;33m\u001b[0m\u001b[0m\n\u001b[0;32m    200\u001b[0m         \u001b[1;31m# If the response indicated that the credentials needed to be\u001b[0m\u001b[1;33m\u001b[0m\u001b[1;33m\u001b[0m\u001b[1;33m\u001b[0m\u001b[0m\n",
      "\u001b[1;32mC:\\Python\\lib\\site-packages\\httplib2\\__init__.py\u001b[0m in \u001b[0;36mrequest\u001b[1;34m(self, uri, method, body, headers, redirections, connection_type)\u001b[0m\n\u001b[0;32m   1989\u001b[0m                         \u001b[0mheaders\u001b[0m\u001b[1;33m,\u001b[0m\u001b[1;33m\u001b[0m\u001b[1;33m\u001b[0m\u001b[0m\n\u001b[0;32m   1990\u001b[0m                         \u001b[0mredirections\u001b[0m\u001b[1;33m,\u001b[0m\u001b[1;33m\u001b[0m\u001b[1;33m\u001b[0m\u001b[0m\n\u001b[1;32m-> 1991\u001b[1;33m                         \u001b[0mcachekey\u001b[0m\u001b[1;33m,\u001b[0m\u001b[1;33m\u001b[0m\u001b[1;33m\u001b[0m\u001b[0m\n\u001b[0m\u001b[0;32m   1992\u001b[0m                     )\n\u001b[0;32m   1993\u001b[0m         \u001b[1;32mexcept\u001b[0m \u001b[0mException\u001b[0m \u001b[1;32mas\u001b[0m \u001b[0me\u001b[0m\u001b[1;33m:\u001b[0m\u001b[1;33m\u001b[0m\u001b[1;33m\u001b[0m\u001b[0m\n",
      "\u001b[1;32mC:\\Python\\lib\\site-packages\\httplib2\\__init__.py\u001b[0m in \u001b[0;36m_request\u001b[1;34m(self, conn, host, absolute_uri, request_uri, method, body, headers, redirections, cachekey)\u001b[0m\n\u001b[0;32m   1649\u001b[0m \u001b[1;33m\u001b[0m\u001b[0m\n\u001b[0;32m   1650\u001b[0m         (response, content) = self._conn_request(\n\u001b[1;32m-> 1651\u001b[1;33m             \u001b[0mconn\u001b[0m\u001b[1;33m,\u001b[0m \u001b[0mrequest_uri\u001b[0m\u001b[1;33m,\u001b[0m \u001b[0mmethod\u001b[0m\u001b[1;33m,\u001b[0m \u001b[0mbody\u001b[0m\u001b[1;33m,\u001b[0m \u001b[0mheaders\u001b[0m\u001b[1;33m\u001b[0m\u001b[1;33m\u001b[0m\u001b[0m\n\u001b[0m\u001b[0;32m   1652\u001b[0m         )\n\u001b[0;32m   1653\u001b[0m \u001b[1;33m\u001b[0m\u001b[0m\n",
      "\u001b[1;32mC:\\Python\\lib\\site-packages\\httplib2shim\\__init__.py\u001b[0m in \u001b[0;36m_conn_request\u001b[1;34m(self, conn, request_uri, method, body, headers)\u001b[0m\n\u001b[0;32m    146\u001b[0m                 \u001b[0mretries\u001b[0m\u001b[1;33m=\u001b[0m\u001b[0murllib3\u001b[0m\u001b[1;33m.\u001b[0m\u001b[0mRetry\u001b[0m\u001b[1;33m(\u001b[0m\u001b[0mtotal\u001b[0m\u001b[1;33m=\u001b[0m\u001b[1;32mFalse\u001b[0m\u001b[1;33m,\u001b[0m \u001b[0mredirect\u001b[0m\u001b[1;33m=\u001b[0m\u001b[1;36m0\u001b[0m\u001b[1;33m)\u001b[0m\u001b[1;33m,\u001b[0m\u001b[1;33m\u001b[0m\u001b[1;33m\u001b[0m\u001b[0m\n\u001b[0;32m    147\u001b[0m                 \u001b[0mtimeout\u001b[0m\u001b[1;33m=\u001b[0m\u001b[0murllib3\u001b[0m\u001b[1;33m.\u001b[0m\u001b[0mTimeout\u001b[0m\u001b[1;33m(\u001b[0m\u001b[0mtotal\u001b[0m\u001b[1;33m=\u001b[0m\u001b[0mself\u001b[0m\u001b[1;33m.\u001b[0m\u001b[0mtimeout\u001b[0m\u001b[1;33m)\u001b[0m\u001b[1;33m,\u001b[0m\u001b[1;33m\u001b[0m\u001b[1;33m\u001b[0m\u001b[0m\n\u001b[1;32m--> 148\u001b[1;33m                 decode_content=decode)\n\u001b[0m\u001b[0;32m    149\u001b[0m \u001b[1;33m\u001b[0m\u001b[0m\n\u001b[0;32m    150\u001b[0m             \u001b[0mresponse\u001b[0m \u001b[1;33m=\u001b[0m \u001b[0m_map_response\u001b[0m\u001b[1;33m(\u001b[0m\u001b[0murllib3_response\u001b[0m\u001b[1;33m,\u001b[0m \u001b[0mdecode\u001b[0m\u001b[1;33m=\u001b[0m\u001b[0mdecode\u001b[0m\u001b[1;33m)\u001b[0m\u001b[1;33m\u001b[0m\u001b[1;33m\u001b[0m\u001b[0m\n",
      "\u001b[1;32mC:\\Python\\lib\\site-packages\\urllib3\\request.py\u001b[0m in \u001b[0;36mrequest\u001b[1;34m(self, method, url, fields, headers, **urlopen_kw)\u001b[0m\n\u001b[0;32m     70\u001b[0m             return self.request_encode_body(method, url, fields=fields,\n\u001b[0;32m     71\u001b[0m                                             \u001b[0mheaders\u001b[0m\u001b[1;33m=\u001b[0m\u001b[0mheaders\u001b[0m\u001b[1;33m,\u001b[0m\u001b[1;33m\u001b[0m\u001b[1;33m\u001b[0m\u001b[0m\n\u001b[1;32m---> 72\u001b[1;33m                                             **urlopen_kw)\n\u001b[0m\u001b[0;32m     73\u001b[0m \u001b[1;33m\u001b[0m\u001b[0m\n\u001b[0;32m     74\u001b[0m     def request_encode_url(self, method, url, fields=None, headers=None,\n",
      "\u001b[1;32mC:\\Python\\lib\\site-packages\\urllib3\\request.py\u001b[0m in \u001b[0;36mrequest_encode_body\u001b[1;34m(self, method, url, fields, headers, encode_multipart, multipart_boundary, **urlopen_kw)\u001b[0m\n\u001b[0;32m    148\u001b[0m         \u001b[0mextra_kw\u001b[0m\u001b[1;33m.\u001b[0m\u001b[0mupdate\u001b[0m\u001b[1;33m(\u001b[0m\u001b[0murlopen_kw\u001b[0m\u001b[1;33m)\u001b[0m\u001b[1;33m\u001b[0m\u001b[1;33m\u001b[0m\u001b[0m\n\u001b[0;32m    149\u001b[0m \u001b[1;33m\u001b[0m\u001b[0m\n\u001b[1;32m--> 150\u001b[1;33m         \u001b[1;32mreturn\u001b[0m \u001b[0mself\u001b[0m\u001b[1;33m.\u001b[0m\u001b[0murlopen\u001b[0m\u001b[1;33m(\u001b[0m\u001b[0mmethod\u001b[0m\u001b[1;33m,\u001b[0m \u001b[0murl\u001b[0m\u001b[1;33m,\u001b[0m \u001b[1;33m**\u001b[0m\u001b[0mextra_kw\u001b[0m\u001b[1;33m)\u001b[0m\u001b[1;33m\u001b[0m\u001b[1;33m\u001b[0m\u001b[0m\n\u001b[0m",
      "\u001b[1;32mC:\\Python\\lib\\site-packages\\urllib3\\poolmanager.py\u001b[0m in \u001b[0;36murlopen\u001b[1;34m(self, method, url, redirect, **kw)\u001b[0m\n\u001b[0;32m    322\u001b[0m             \u001b[0mresponse\u001b[0m \u001b[1;33m=\u001b[0m \u001b[0mconn\u001b[0m\u001b[1;33m.\u001b[0m\u001b[0murlopen\u001b[0m\u001b[1;33m(\u001b[0m\u001b[0mmethod\u001b[0m\u001b[1;33m,\u001b[0m \u001b[0murl\u001b[0m\u001b[1;33m,\u001b[0m \u001b[1;33m**\u001b[0m\u001b[0mkw\u001b[0m\u001b[1;33m)\u001b[0m\u001b[1;33m\u001b[0m\u001b[1;33m\u001b[0m\u001b[0m\n\u001b[0;32m    323\u001b[0m         \u001b[1;32melse\u001b[0m\u001b[1;33m:\u001b[0m\u001b[1;33m\u001b[0m\u001b[1;33m\u001b[0m\u001b[0m\n\u001b[1;32m--> 324\u001b[1;33m             \u001b[0mresponse\u001b[0m \u001b[1;33m=\u001b[0m \u001b[0mconn\u001b[0m\u001b[1;33m.\u001b[0m\u001b[0murlopen\u001b[0m\u001b[1;33m(\u001b[0m\u001b[0mmethod\u001b[0m\u001b[1;33m,\u001b[0m \u001b[0mu\u001b[0m\u001b[1;33m.\u001b[0m\u001b[0mrequest_uri\u001b[0m\u001b[1;33m,\u001b[0m \u001b[1;33m**\u001b[0m\u001b[0mkw\u001b[0m\u001b[1;33m)\u001b[0m\u001b[1;33m\u001b[0m\u001b[1;33m\u001b[0m\u001b[0m\n\u001b[0m\u001b[0;32m    325\u001b[0m \u001b[1;33m\u001b[0m\u001b[0m\n\u001b[0;32m    326\u001b[0m         \u001b[0mredirect_location\u001b[0m \u001b[1;33m=\u001b[0m \u001b[0mredirect\u001b[0m \u001b[1;32mand\u001b[0m \u001b[0mresponse\u001b[0m\u001b[1;33m.\u001b[0m\u001b[0mget_redirect_location\u001b[0m\u001b[1;33m(\u001b[0m\u001b[1;33m)\u001b[0m\u001b[1;33m\u001b[0m\u001b[1;33m\u001b[0m\u001b[0m\n",
      "\u001b[1;32mC:\\Python\\lib\\site-packages\\urllib3\\connectionpool.py\u001b[0m in \u001b[0;36murlopen\u001b[1;34m(self, method, url, body, headers, retries, redirect, assert_same_host, timeout, pool_timeout, release_conn, chunked, body_pos, **response_kw)\u001b[0m\n\u001b[0;32m    598\u001b[0m                                                   \u001b[0mtimeout\u001b[0m\u001b[1;33m=\u001b[0m\u001b[0mtimeout_obj\u001b[0m\u001b[1;33m,\u001b[0m\u001b[1;33m\u001b[0m\u001b[1;33m\u001b[0m\u001b[0m\n\u001b[0;32m    599\u001b[0m                                                   \u001b[0mbody\u001b[0m\u001b[1;33m=\u001b[0m\u001b[0mbody\u001b[0m\u001b[1;33m,\u001b[0m \u001b[0mheaders\u001b[0m\u001b[1;33m=\u001b[0m\u001b[0mheaders\u001b[0m\u001b[1;33m,\u001b[0m\u001b[1;33m\u001b[0m\u001b[1;33m\u001b[0m\u001b[0m\n\u001b[1;32m--> 600\u001b[1;33m                                                   chunked=chunked)\n\u001b[0m\u001b[0;32m    601\u001b[0m \u001b[1;33m\u001b[0m\u001b[0m\n\u001b[0;32m    602\u001b[0m             \u001b[1;31m# If we're going to release the connection in ``finally:``, then\u001b[0m\u001b[1;33m\u001b[0m\u001b[1;33m\u001b[0m\u001b[1;33m\u001b[0m\u001b[0m\n",
      "\u001b[1;32mC:\\Python\\lib\\site-packages\\urllib3\\connectionpool.py\u001b[0m in \u001b[0;36m_make_request\u001b[1;34m(self, conn, method, url, timeout, chunked, **httplib_request_kw)\u001b[0m\n\u001b[0;32m    378\u001b[0m             \u001b[1;32mexcept\u001b[0m \u001b[0mTypeError\u001b[0m\u001b[1;33m:\u001b[0m  \u001b[1;31m# Python 3\u001b[0m\u001b[1;33m\u001b[0m\u001b[1;33m\u001b[0m\u001b[0m\n\u001b[0;32m    379\u001b[0m                 \u001b[1;32mtry\u001b[0m\u001b[1;33m:\u001b[0m\u001b[1;33m\u001b[0m\u001b[1;33m\u001b[0m\u001b[0m\n\u001b[1;32m--> 380\u001b[1;33m                     \u001b[0mhttplib_response\u001b[0m \u001b[1;33m=\u001b[0m \u001b[0mconn\u001b[0m\u001b[1;33m.\u001b[0m\u001b[0mgetresponse\u001b[0m\u001b[1;33m(\u001b[0m\u001b[1;33m)\u001b[0m\u001b[1;33m\u001b[0m\u001b[1;33m\u001b[0m\u001b[0m\n\u001b[0m\u001b[0;32m    381\u001b[0m                 \u001b[1;32mexcept\u001b[0m \u001b[0mException\u001b[0m \u001b[1;32mas\u001b[0m \u001b[0me\u001b[0m\u001b[1;33m:\u001b[0m\u001b[1;33m\u001b[0m\u001b[1;33m\u001b[0m\u001b[0m\n\u001b[0;32m    382\u001b[0m                     \u001b[1;31m# Remove the TypeError from the exception chain in Python 3;\u001b[0m\u001b[1;33m\u001b[0m\u001b[1;33m\u001b[0m\u001b[1;33m\u001b[0m\u001b[0m\n",
      "\u001b[1;32mC:\\Python\\lib\\http\\client.py\u001b[0m in \u001b[0;36mgetresponse\u001b[1;34m(self)\u001b[0m\n\u001b[0;32m   1334\u001b[0m         \u001b[1;32mtry\u001b[0m\u001b[1;33m:\u001b[0m\u001b[1;33m\u001b[0m\u001b[1;33m\u001b[0m\u001b[0m\n\u001b[0;32m   1335\u001b[0m             \u001b[1;32mtry\u001b[0m\u001b[1;33m:\u001b[0m\u001b[1;33m\u001b[0m\u001b[1;33m\u001b[0m\u001b[0m\n\u001b[1;32m-> 1336\u001b[1;33m                 \u001b[0mresponse\u001b[0m\u001b[1;33m.\u001b[0m\u001b[0mbegin\u001b[0m\u001b[1;33m(\u001b[0m\u001b[1;33m)\u001b[0m\u001b[1;33m\u001b[0m\u001b[1;33m\u001b[0m\u001b[0m\n\u001b[0m\u001b[0;32m   1337\u001b[0m             \u001b[1;32mexcept\u001b[0m \u001b[0mConnectionError\u001b[0m\u001b[1;33m:\u001b[0m\u001b[1;33m\u001b[0m\u001b[1;33m\u001b[0m\u001b[0m\n\u001b[0;32m   1338\u001b[0m                 \u001b[0mself\u001b[0m\u001b[1;33m.\u001b[0m\u001b[0mclose\u001b[0m\u001b[1;33m(\u001b[0m\u001b[1;33m)\u001b[0m\u001b[1;33m\u001b[0m\u001b[1;33m\u001b[0m\u001b[0m\n",
      "\u001b[1;32mC:\\Python\\lib\\http\\client.py\u001b[0m in \u001b[0;36mbegin\u001b[1;34m(self)\u001b[0m\n\u001b[0;32m    304\u001b[0m         \u001b[1;31m# read until we get a non-100 response\u001b[0m\u001b[1;33m\u001b[0m\u001b[1;33m\u001b[0m\u001b[1;33m\u001b[0m\u001b[0m\n\u001b[0;32m    305\u001b[0m         \u001b[1;32mwhile\u001b[0m \u001b[1;32mTrue\u001b[0m\u001b[1;33m:\u001b[0m\u001b[1;33m\u001b[0m\u001b[1;33m\u001b[0m\u001b[0m\n\u001b[1;32m--> 306\u001b[1;33m             \u001b[0mversion\u001b[0m\u001b[1;33m,\u001b[0m \u001b[0mstatus\u001b[0m\u001b[1;33m,\u001b[0m \u001b[0mreason\u001b[0m \u001b[1;33m=\u001b[0m \u001b[0mself\u001b[0m\u001b[1;33m.\u001b[0m\u001b[0m_read_status\u001b[0m\u001b[1;33m(\u001b[0m\u001b[1;33m)\u001b[0m\u001b[1;33m\u001b[0m\u001b[1;33m\u001b[0m\u001b[0m\n\u001b[0m\u001b[0;32m    307\u001b[0m             \u001b[1;32mif\u001b[0m \u001b[0mstatus\u001b[0m \u001b[1;33m!=\u001b[0m \u001b[0mCONTINUE\u001b[0m\u001b[1;33m:\u001b[0m\u001b[1;33m\u001b[0m\u001b[1;33m\u001b[0m\u001b[0m\n\u001b[0;32m    308\u001b[0m                 \u001b[1;32mbreak\u001b[0m\u001b[1;33m\u001b[0m\u001b[1;33m\u001b[0m\u001b[0m\n",
      "\u001b[1;32mC:\\Python\\lib\\http\\client.py\u001b[0m in \u001b[0;36m_read_status\u001b[1;34m(self)\u001b[0m\n\u001b[0;32m    265\u001b[0m \u001b[1;33m\u001b[0m\u001b[0m\n\u001b[0;32m    266\u001b[0m     \u001b[1;32mdef\u001b[0m \u001b[0m_read_status\u001b[0m\u001b[1;33m(\u001b[0m\u001b[0mself\u001b[0m\u001b[1;33m)\u001b[0m\u001b[1;33m:\u001b[0m\u001b[1;33m\u001b[0m\u001b[1;33m\u001b[0m\u001b[0m\n\u001b[1;32m--> 267\u001b[1;33m         \u001b[0mline\u001b[0m \u001b[1;33m=\u001b[0m \u001b[0mstr\u001b[0m\u001b[1;33m(\u001b[0m\u001b[0mself\u001b[0m\u001b[1;33m.\u001b[0m\u001b[0mfp\u001b[0m\u001b[1;33m.\u001b[0m\u001b[0mreadline\u001b[0m\u001b[1;33m(\u001b[0m\u001b[0m_MAXLINE\u001b[0m \u001b[1;33m+\u001b[0m \u001b[1;36m1\u001b[0m\u001b[1;33m)\u001b[0m\u001b[1;33m,\u001b[0m \u001b[1;34m\"iso-8859-1\"\u001b[0m\u001b[1;33m)\u001b[0m\u001b[1;33m\u001b[0m\u001b[1;33m\u001b[0m\u001b[0m\n\u001b[0m\u001b[0;32m    268\u001b[0m         \u001b[1;32mif\u001b[0m \u001b[0mlen\u001b[0m\u001b[1;33m(\u001b[0m\u001b[0mline\u001b[0m\u001b[1;33m)\u001b[0m \u001b[1;33m>\u001b[0m \u001b[0m_MAXLINE\u001b[0m\u001b[1;33m:\u001b[0m\u001b[1;33m\u001b[0m\u001b[1;33m\u001b[0m\u001b[0m\n\u001b[0;32m    269\u001b[0m             \u001b[1;32mraise\u001b[0m \u001b[0mLineTooLong\u001b[0m\u001b[1;33m(\u001b[0m\u001b[1;34m\"status line\"\u001b[0m\u001b[1;33m)\u001b[0m\u001b[1;33m\u001b[0m\u001b[1;33m\u001b[0m\u001b[0m\n",
      "\u001b[1;32mC:\\Python\\lib\\socket.py\u001b[0m in \u001b[0;36mreadinto\u001b[1;34m(self, b)\u001b[0m\n\u001b[0;32m    587\u001b[0m         \u001b[1;32mwhile\u001b[0m \u001b[1;32mTrue\u001b[0m\u001b[1;33m:\u001b[0m\u001b[1;33m\u001b[0m\u001b[1;33m\u001b[0m\u001b[0m\n\u001b[0;32m    588\u001b[0m             \u001b[1;32mtry\u001b[0m\u001b[1;33m:\u001b[0m\u001b[1;33m\u001b[0m\u001b[1;33m\u001b[0m\u001b[0m\n\u001b[1;32m--> 589\u001b[1;33m                 \u001b[1;32mreturn\u001b[0m \u001b[0mself\u001b[0m\u001b[1;33m.\u001b[0m\u001b[0m_sock\u001b[0m\u001b[1;33m.\u001b[0m\u001b[0mrecv_into\u001b[0m\u001b[1;33m(\u001b[0m\u001b[0mb\u001b[0m\u001b[1;33m)\u001b[0m\u001b[1;33m\u001b[0m\u001b[1;33m\u001b[0m\u001b[0m\n\u001b[0m\u001b[0;32m    590\u001b[0m             \u001b[1;32mexcept\u001b[0m \u001b[0mtimeout\u001b[0m\u001b[1;33m:\u001b[0m\u001b[1;33m\u001b[0m\u001b[1;33m\u001b[0m\u001b[0m\n\u001b[0;32m    591\u001b[0m                 \u001b[0mself\u001b[0m\u001b[1;33m.\u001b[0m\u001b[0m_timeout_occurred\u001b[0m \u001b[1;33m=\u001b[0m \u001b[1;32mTrue\u001b[0m\u001b[1;33m\u001b[0m\u001b[1;33m\u001b[0m\u001b[0m\n",
      "\u001b[1;32mC:\\Python\\lib\\site-packages\\urllib3\\contrib\\pyopenssl.py\u001b[0m in \u001b[0;36mrecv_into\u001b[1;34m(self, *args, **kwargs)\u001b[0m\n\u001b[0;32m    295\u001b[0m     \u001b[1;32mdef\u001b[0m \u001b[0mrecv_into\u001b[0m\u001b[1;33m(\u001b[0m\u001b[0mself\u001b[0m\u001b[1;33m,\u001b[0m \u001b[1;33m*\u001b[0m\u001b[0margs\u001b[0m\u001b[1;33m,\u001b[0m \u001b[1;33m**\u001b[0m\u001b[0mkwargs\u001b[0m\u001b[1;33m)\u001b[0m\u001b[1;33m:\u001b[0m\u001b[1;33m\u001b[0m\u001b[1;33m\u001b[0m\u001b[0m\n\u001b[0;32m    296\u001b[0m         \u001b[1;32mtry\u001b[0m\u001b[1;33m:\u001b[0m\u001b[1;33m\u001b[0m\u001b[1;33m\u001b[0m\u001b[0m\n\u001b[1;32m--> 297\u001b[1;33m             \u001b[1;32mreturn\u001b[0m \u001b[0mself\u001b[0m\u001b[1;33m.\u001b[0m\u001b[0mconnection\u001b[0m\u001b[1;33m.\u001b[0m\u001b[0mrecv_into\u001b[0m\u001b[1;33m(\u001b[0m\u001b[1;33m*\u001b[0m\u001b[0margs\u001b[0m\u001b[1;33m,\u001b[0m \u001b[1;33m**\u001b[0m\u001b[0mkwargs\u001b[0m\u001b[1;33m)\u001b[0m\u001b[1;33m\u001b[0m\u001b[1;33m\u001b[0m\u001b[0m\n\u001b[0m\u001b[0;32m    298\u001b[0m         \u001b[1;32mexcept\u001b[0m \u001b[0mOpenSSL\u001b[0m\u001b[1;33m.\u001b[0m\u001b[0mSSL\u001b[0m\u001b[1;33m.\u001b[0m\u001b[0mSysCallError\u001b[0m \u001b[1;32mas\u001b[0m \u001b[0me\u001b[0m\u001b[1;33m:\u001b[0m\u001b[1;33m\u001b[0m\u001b[1;33m\u001b[0m\u001b[0m\n\u001b[0;32m    299\u001b[0m             \u001b[1;32mif\u001b[0m \u001b[0mself\u001b[0m\u001b[1;33m.\u001b[0m\u001b[0msuppress_ragged_eofs\u001b[0m \u001b[1;32mand\u001b[0m \u001b[0me\u001b[0m\u001b[1;33m.\u001b[0m\u001b[0margs\u001b[0m \u001b[1;33m==\u001b[0m \u001b[1;33m(\u001b[0m\u001b[1;33m-\u001b[0m\u001b[1;36m1\u001b[0m\u001b[1;33m,\u001b[0m \u001b[1;34m'Unexpected EOF'\u001b[0m\u001b[1;33m)\u001b[0m\u001b[1;33m:\u001b[0m\u001b[1;33m\u001b[0m\u001b[1;33m\u001b[0m\u001b[0m\n",
      "\u001b[1;32mC:\\Python\\lib\\site-packages\\OpenSSL\\SSL.py\u001b[0m in \u001b[0;36mrecv_into\u001b[1;34m(self, buffer, nbytes, flags)\u001b[0m\n\u001b[0;32m   1819\u001b[0m             \u001b[0mresult\u001b[0m \u001b[1;33m=\u001b[0m \u001b[0m_lib\u001b[0m\u001b[1;33m.\u001b[0m\u001b[0mSSL_peek\u001b[0m\u001b[1;33m(\u001b[0m\u001b[0mself\u001b[0m\u001b[1;33m.\u001b[0m\u001b[0m_ssl\u001b[0m\u001b[1;33m,\u001b[0m \u001b[0mbuf\u001b[0m\u001b[1;33m,\u001b[0m \u001b[0mnbytes\u001b[0m\u001b[1;33m)\u001b[0m\u001b[1;33m\u001b[0m\u001b[1;33m\u001b[0m\u001b[0m\n\u001b[0;32m   1820\u001b[0m         \u001b[1;32melse\u001b[0m\u001b[1;33m:\u001b[0m\u001b[1;33m\u001b[0m\u001b[1;33m\u001b[0m\u001b[0m\n\u001b[1;32m-> 1821\u001b[1;33m             \u001b[0mresult\u001b[0m \u001b[1;33m=\u001b[0m \u001b[0m_lib\u001b[0m\u001b[1;33m.\u001b[0m\u001b[0mSSL_read\u001b[0m\u001b[1;33m(\u001b[0m\u001b[0mself\u001b[0m\u001b[1;33m.\u001b[0m\u001b[0m_ssl\u001b[0m\u001b[1;33m,\u001b[0m \u001b[0mbuf\u001b[0m\u001b[1;33m,\u001b[0m \u001b[0mnbytes\u001b[0m\u001b[1;33m)\u001b[0m\u001b[1;33m\u001b[0m\u001b[1;33m\u001b[0m\u001b[0m\n\u001b[0m\u001b[0;32m   1822\u001b[0m         \u001b[0mself\u001b[0m\u001b[1;33m.\u001b[0m\u001b[0m_raise_ssl_error\u001b[0m\u001b[1;33m(\u001b[0m\u001b[0mself\u001b[0m\u001b[1;33m.\u001b[0m\u001b[0m_ssl\u001b[0m\u001b[1;33m,\u001b[0m \u001b[0mresult\u001b[0m\u001b[1;33m)\u001b[0m\u001b[1;33m\u001b[0m\u001b[1;33m\u001b[0m\u001b[0m\n\u001b[0;32m   1823\u001b[0m \u001b[1;33m\u001b[0m\u001b[0m\n",
      "\u001b[1;31mKeyboardInterrupt\u001b[0m: "
     ]
    }
   ],
   "source": [
    "#Calculation for individual farm NDVI mean and SD\n",
    "#Code showns only the NDVI mean from the first composite (March - June of 2017)\n",
    "new_geometry_dict ={}\n",
    "for i in range(len(farm_data)):\n",
    "    new_geometry_dict['farm %s'%(i)] = ee.Geometry.Point(farms['features'][i]['geometry']['coordinates']).buffer(1000)\n",
    "    \n",
    "reducers = ee.Reducer.mean().combine(**{\n",
    "  'reducer2': ee.Reducer.stdDev(),\n",
    "  'sharedInputs': True\n",
    "})\n",
    "\n",
    "# Use the combined reducer to get the mean and SD of the image.\n",
    "stats_dict ={}\n",
    "for i in range(len(farm_data)):\n",
    "    for n in range(len(composite_list)):\n",
    "        stats_dict['farm %s, composite %s' %(i, n)] = ndvi_dict['ndvi %s'%(n)].reduceRegion(**{\n",
    "        'reducer': reducers,\n",
    "        'bestEffort': True,\n",
    "        'scale': 30,\n",
    "        'geometry': new_geometry_dict['farm %s'%(i)]\n",
    "})\n",
    "for farm in stats_dict.keys():\n",
    "    print (farm)\n",
    "    print (stats_dict[farm].getInfo())\n",
    "                                    "
   ]
  },
  {
   "cell_type": "markdown",
   "metadata": {},
   "source": []
  },
  {
   "cell_type": "code",
   "execution_count": 91,
   "metadata": {},
   "outputs": [
    {
     "name": "stdout",
     "output_type": "stream",
     "text": [
      "Generating URL ...\n",
      "Downloading data from https://earthengine.googleapis.com/v1alpha/projects/earthengine-legacy/thumbnails/5a316a558075f0ed750d2278a92df25a-6ae711c52aa6305593c615fd84119304:getPixels\n",
      "Please wait ...\n",
      "[WinError 32] The process cannot access the file because it is being used by another process: 'C:\\\\Users\\\\inigo\\\\Downloads\\\\sen2october.zip'\n"
     ]
    }
   ],
   "source": [
    "\n",
    "out_dir = os.path.join(r'C:\\Users\\inigo\\Downloads')\n",
    "filename = os.path.join(out_dir, 'sen2october.tif')\n",
    "\n",
    "geemap.ee_export_image(composite9, filename=filename, scale=100, region=PR_polygon, file_per_band=False)\n"
   ]
  },
  {
   "cell_type": "code",
   "execution_count": null,
   "metadata": {},
   "outputs": [],
   "source": []
  },
  {
   "cell_type": "markdown",
   "metadata": {},
   "source": [
    "#Future Work\n",
    "The next step is to create an organized chart to consolidate all of the ndvi values for each farm. These data could then be plotted to show how the NDVI values changed from 2017 until now. The composite images could also be put togeter as a timelapse for visualization. Further comparison with data before 2017 could give us a better understanding of the changes in the landcover. These data could then be used as reference points for further data fusion work."
   ]
  }
 ],
 "metadata": {
  "kernelspec": {
   "display_name": "Python 3",
   "language": "python",
   "name": "python3"
  },
  "language_info": {
   "codemirror_mode": {
    "name": "ipython",
    "version": 3
   },
   "file_extension": ".py",
   "mimetype": "text/x-python",
   "name": "python",
   "nbconvert_exporter": "python",
   "pygments_lexer": "ipython3",
   "version": "3.7.4"
  }
 },
 "nbformat": 4,
 "nbformat_minor": 2
}
