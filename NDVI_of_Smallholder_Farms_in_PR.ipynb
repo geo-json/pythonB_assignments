{
 "cells": [
  {
   "cell_type": "markdown",
   "metadata": {},
   "source": [
    "#Investigating The Effect of Hurricane Maria On Smallholder Farms In Puerto Rico \n",
    "(Santhi Davedu, Inigo Peng, Vineeth Jason Putti, Yunfan Zhou)\n",
    "\n",
    "##Background\n",
    "2017’s Hurricane Maria struck the United States unincorporated territory of Puerto Rico as a category 4 hurricane, causing 2,975 deaths. The archipelago’s agriculture, which was experiencing production improvement during Puerto Rico’s financial crisis, was decimated. Damages to production were estimated to reach approximately 200 million dollars, and 80% of its crop value was devastated. Hurricanes in the Atlantic are likely to become more intense and persistent in the upcoming years due to climate change, which will have profound impacts in island countries and territories, especially in their agricultural systems and food security. Thus, understanding how smallholder farmers are affected by hurricanes is critical for their future adaptation, like what strategies they may use to increase their resiliency in the future.\n",
    "\n",
    "##Problem Statement\n",
    "We aim to conduct landcover change anaylsis through measurement of measurement of normalized vegetation index. We are interested to see if there is a significant change in landcover change before and after Hurricane Maria. This is part of a larger investigation in combining different data to identify what tools, inputs and management strategies could most effectively contribute to an increase in the resiliance of a given farming operation. \n",
    "\n",
    "##Methodology\n",
    "This is the second part of the project, where moderate spatial resolution satellite image taken by Sentinel-2 of European Space Agency (ES) is used to analyze smallholder farm data provided by the Environmental Spatial Analysis (ESA) Lab at SEAS. This part of the project is conducted through Google Earth Engine (GEE) Python API. We first conducted some exploratory mapping by creating tri-month false colour composits of Sentinel 2 Level 2A images from June of 2017 to December of 2019. We then proceeded to visualize the NDVI for the composites. To investigate the landcover changes of the individual farms, we first prepared the farm data. The excel coordinates was converted into json file for easy access of geometry (point, coordinates) and properties (farm number, owner of the farm). We overlayed the farm points onto the map and created 1km buffers around all of them. Lastly, we parsed the json file and calculated the NDVI mean and standard deviation of farm. This could be done for all of the composites if needed. \n",
    "\n",
    "##Python Script"
   ]
  },
  {
   "cell_type": "code",
   "execution_count": 1,
   "metadata": {},
   "outputs": [
    {
     "name": "stderr",
     "output_type": "stream",
     "text": [
      "C:\\Python\\lib\\site-packages\\xarray\\core\\merge.py:10: FutureWarning: The Panel class is removed from pandas. Accessing it from the top-level namespace will also be removed in the next version\n",
      "  PANDAS_TYPES = (pd.Series, pd.DataFrame, pd.Panel)\n"
     ]
    }
   ],
   "source": [
    "# Installs geemap package\n",
    "import subprocess\n",
    "\n",
    "try:\n",
    "    import geemap\n",
    "except ImportError:\n",
    "    print('geemap package not installed. Installing ...')\n",
    "    subprocess.check_call([\"python\", '-m', 'pip', 'install', 'geemap'])\n",
    "\n",
    "# Checks whether this notebook is running on Google Colab\n",
    "try:\n",
    "    import google.colab\n",
    "    import geemap.eefolium as emap\n",
    "except:\n",
    "    import geemap as emap\n",
    "\n",
    "# Authenticates and initializes Earth Engine\n",
    "import ee\n",
    "\n",
    "try:\n",
    "    ee.Initialize()\n",
    "except Exception as e:\n",
    "    ee.Authenticate()\n",
    "    ee.Initialize()  \n",
    "import json\n",
    "import os\n",
    "import requests\n",
    "from geemap import geojson_to_ee, ee_to_geojson\n",
    "from ipyleaflet import GeoJSON"
   ]
  },
  {
   "cell_type": "code",
   "execution_count": 32,
   "metadata": {},
   "outputs": [
    {
     "data": {
      "application/vnd.jupyter.widget-view+json": {
       "model_id": "801f2de523c9438fa9804cf2937bb05b",
       "version_major": 2,
       "version_minor": 0
      },
      "text/plain": [
       "Map(center=[18, -66], controls=(ZoomControl(options=['position', 'zoom_in_text', 'zoom_in_title', 'zoom_out_te…"
      ]
     },
     "metadata": {},
     "output_type": "display_data"
    }
   ],
   "source": [
    "# Add Google Map\n",
    "Map = emap.Map(center=[18,-66], zoom=9)\n",
    "Map.addLayerControl()\n",
    "Map"
   ]
  },
  {
   "cell_type": "code",
   "execution_count": 34,
   "metadata": {},
   "outputs": [],
   "source": [
    "#Import farm json file\n",
    "file_path = 'PR_farms.json'\n",
    "with open(file_path) as f:\n",
    "    json_data = json.load(f)\n"
   ]
  },
  {
   "cell_type": "code",
   "execution_count": null,
   "metadata": {},
   "outputs": [],
   "source": [
    "# Exploratory work with the farm data \n",
    "farms = json_data\n",
    "properties = farms['features'][0]['properties']\n",
    "geometry = farms['features'][0]['geometry']\n",
    "farm_data = farms['features']\n",
    "#Convert json data into Google Earth Engine Features\n",
    "farm_data_features_list = [ee.Feature(farms['features'][i]['geometry'],farms['features'][i]['properties']) for i in range(len(farm_data))]\n"
   ]
  },
  {
   "cell_type": "code",
   "execution_count": null,
   "metadata": {},
   "outputs": [],
   "source": [
    "#Append farm points and buffer onto the map\n",
    "for item in farm_data_features_list:\n",
    "    Map.addLayer(item, {}, 'Small Holder Farms Research Location Feature')\n",
    "\n",
    "for item in farm_data_features_list:\n",
    "    new_geometry = item.buffer(1000)\n",
    "    Map.addLayer(new_geometry, {'color': 'red'},'buffer')\n",
    "    "
   ]
  },
  {
   "cell_type": "code",
   "execution_count": 103,
   "metadata": {},
   "outputs": [],
   "source": [
    "# cloud mask function\n",
    "def maskS2clouds(image):\n",
    "#     bits 10 and 11 are cloud and cirrus \n",
    "    qa = image.select('QA60')\n",
    "    cloudBitMask = 1 << 10\n",
    "    cirrusBitMask = 1 << 11\n",
    "#     both needs to be set to zero - clear condition\n",
    "    mask = qa.bitwiseAnd(cloudBitMask).eq(0).And(\n",
    "    qa.bitwiseAnd(cirrusBitMask).eq(0))\n",
    "#     return the masked and scaled data without the QA bands\n",
    "    return image.updateMask(mask).divide(10000)\\\n",
    "        .select(\"B.*\")\\\n",
    "        .copyProperties(image, ['system:time_start'])"
   ]
  },
  {
   "cell_type": "code",
   "execution_count": 104,
   "metadata": {},
   "outputs": [],
   "source": [
    "#calculating NDVI\n",
    "def addNDVI(img):\n",
    "  ndvi = img.normalizedDifference(['B8', 'B4']).rename('ndvi')\n",
    "  return img.addBands([ndvi])"
   ]
  },
  {
   "cell_type": "code",
   "execution_count": 98,
   "metadata": {},
   "outputs": [],
   "source": [
    "# Setting query boundary\n",
    "PR_polygon = ee.Geometry.Polygon([[[-66.97540283203125, 18.04403274297545],\\\n",
    "                                 [-65.93170166015625, 18.04403274297545],\\\n",
    "                                 [-65.93170166015625, 18.41447273166262],\\\n",
    "                                 [-66.97540283203125, 18.41447273166262],\\\n",
    "                                 [-66.97540283203125, 18.04403274297545]]])"
   ]
  },
  {
   "cell_type": "code",
   "execution_count": 216,
   "metadata": {},
   "outputs": [],
   "source": [
    "#Creating composites - composite between March and June had missing pixels due to cloud mask\n",
    "Start0 = ee.Date('2017-03-28')\n",
    "End0 = ee.Date('2017-6-30')\n",
    "img = ee.ImageCollection('COPERNICUS/S2')\\\n",
    "    .filterDate(Start1, End1)\\\n",
    "    .filterBounds(PR_polygon)\\\n",
    "    .filter(ee.Filter.lt('CLOUDY_PIXEL_PERCENTAGE', 20))\\\n",
    "    .map(maskS2clouds)\n",
    "composite0 = img.median()"
   ]
  },
  {
   "cell_type": "code",
   "execution_count": 100,
   "metadata": {},
   "outputs": [],
   "source": [
    "Map.addLayer(composite0, {'bands':['B8', 'B4', 'B3'], 'min': 0, 'max':0.3}, 'False IR Composite April - June 2017')"
   ]
  },
  {
   "cell_type": "code",
   "execution_count": 205,
   "metadata": {},
   "outputs": [],
   "source": [
    "Start1 = ee.Date('2017-07-01')\n",
    "End1 = ee.Date('2017-09-30')\n",
    "img = ee.ImageCollection('COPERNICUS/S2')\\\n",
    "    .filterDate(Start2, End2)\\\n",
    "    .filterBounds(PR_polygon)\\\n",
    "    .filter(ee.Filter.lt('CLOUDY_PIXEL_PERCENTAGE', 20))\\\n",
    "    .map(maskS2clouds)\n",
    "composite1 = img.median()"
   ]
  },
  {
   "cell_type": "code",
   "execution_count": 102,
   "metadata": {},
   "outputs": [],
   "source": [
    "Map.addLayer(composite1, {'bands':['B8', 'B4', 'B3'], 'min': 0, 'max':0.3}, 'False IR Composite July - Septeber 2017')"
   ]
  },
  {
   "cell_type": "code",
   "execution_count": 206,
   "metadata": {},
   "outputs": [],
   "source": [
    "Start2 = ee.Date('2017-10-01')\n",
    "End2 = ee.Date('2018-12-31')\n",
    "img = ee.ImageCollection('COPERNICUS/S2')\\\n",
    "    .filterDate(Start3, End3)\\\n",
    "    .filterBounds(PR_polygon)\\\n",
    "    .filter(ee.Filter.lt('CLOUDY_PIXEL_PERCENTAGE', 20))\\\n",
    "    .map(maskS2clouds)\n",
    "composite2 = img.median()"
   ]
  },
  {
   "cell_type": "code",
   "execution_count": null,
   "metadata": {},
   "outputs": [],
   "source": [
    "Map.addLayer(composite2, {'bands':['B8', 'B4', 'B3'], 'min': 0, 'max':0.3}, 'False IR Composite Oct - Dec 2017')"
   ]
  },
  {
   "cell_type": "code",
   "execution_count": 207,
   "metadata": {},
   "outputs": [],
   "source": [
    "Start3 = ee.Date('2018-01-01')\n",
    "End3 = ee.Date('2018-03-31')\n",
    "img = ee.ImageCollection('COPERNICUS/S2')\\\n",
    "    .filterDate(Start4, End4)\\\n",
    "    .filterBounds(PR_polygon)\\\n",
    "    .filter(ee.Filter.lt('CLOUDY_PIXEL_PERCENTAGE', 20))\\\n",
    "    .map(maskS2clouds)\n",
    "composite4 = img.median()"
   ]
  },
  {
   "cell_type": "code",
   "execution_count": null,
   "metadata": {},
   "outputs": [],
   "source": [
    "Map.addLayer(composite3, {'bands':['B8', 'B4', 'B3'], 'min': 0, 'max':0.3}, 'False IR Composite Jan - Mar 2018')"
   ]
  },
  {
   "cell_type": "code",
   "execution_count": 208,
   "metadata": {},
   "outputs": [],
   "source": [
    "Start4 = ee.Date('2018-04-01')\n",
    "End4 = ee.Date('2018-06-30')\n",
    "img = ee.ImageCollection('COPERNICUS/S2')\\\n",
    "    .filterDate(Start5, End5)\\\n",
    "    .filterBounds(PR_polygon)\\\n",
    "    .filter(ee.Filter.lt('CLOUDY_PIXEL_PERCENTAGE', 20))\\\n",
    "    .map(maskS2clouds)\n",
    "composite4 = img.median()"
   ]
  },
  {
   "cell_type": "code",
   "execution_count": null,
   "metadata": {},
   "outputs": [],
   "source": [
    "Map.addLayer(composite4, {'bands':['B8', 'B4', 'B3'], 'min': 0, 'max':0.3}, 'False IR Composite April - June 2018')"
   ]
  },
  {
   "cell_type": "code",
   "execution_count": 209,
   "metadata": {},
   "outputs": [],
   "source": [
    "Start5 = ee.Date('2018-07-01')\n",
    "End5 = ee.Date('2018-09-30')\n",
    "img = ee.ImageCollection('COPERNICUS/S2')\\\n",
    "    .filterDate(Start6, End6)\\\n",
    "    .filterBounds(PR_polygon)\\\n",
    "    .filter(ee.Filter.lt('CLOUDY_PIXEL_PERCENTAGE', 20))\\\n",
    "    .map(maskS2clouds)\n",
    "composite5 = img.median()"
   ]
  },
  {
   "cell_type": "code",
   "execution_count": null,
   "metadata": {},
   "outputs": [],
   "source": [
    "Map.addLayer(composite5, {'bands':['B8', 'B4', 'B3'], 'min': 0, 'max':0.3}, 'False IR Composite July - Septemer 2018')"
   ]
  },
  {
   "cell_type": "code",
   "execution_count": 210,
   "metadata": {},
   "outputs": [],
   "source": [
    "Start6 = ee.Date('2018-10-01')\n",
    "End6 = ee.Date('2018-12-31')\n",
    "img = ee.ImageCollection('COPERNICUS/S2')\\\n",
    "    .filterDate(Start7, End7)\\\n",
    "    .filterBounds(PR_polygon)\\\n",
    "    .filter(ee.Filter.lt('CLOUDY_PIXEL_PERCENTAGE', 20))\\\n",
    "    .map(maskS2clouds)\n",
    "composite6 = img.median()"
   ]
  },
  {
   "cell_type": "code",
   "execution_count": null,
   "metadata": {},
   "outputs": [],
   "source": [
    "Map.addLayer(composite6, {'bands':['B8', 'B4', 'B3'], 'min': 0, 'max':0.3}, 'False IR Composite October - December 2018')"
   ]
  },
  {
   "cell_type": "code",
   "execution_count": 211,
   "metadata": {},
   "outputs": [],
   "source": [
    "Start7 = ee.Date('2019-1-01')\n",
    "End7 = ee.Date('2019-3-31')\n",
    "img = ee.ImageCollection('COPERNICUS/S2')\\\n",
    "    .filterDate(Start8, End8)\\\n",
    "    .filterBounds(PR_polygon)\\\n",
    "    .filter(ee.Filter.lt('CLOUDY_PIXEL_PERCENTAGE', 20))\\\n",
    "    .map(maskS2clouds)\n",
    "composite7 = img.median()"
   ]
  },
  {
   "cell_type": "code",
   "execution_count": null,
   "metadata": {},
   "outputs": [],
   "source": [
    "Map.addLayer(composite7, {'bands':['B8', 'B4', 'B3'], 'min': 0, 'max':0.3}, 'False IR Composite January - March 2019')"
   ]
  },
  {
   "cell_type": "code",
   "execution_count": 212,
   "metadata": {},
   "outputs": [],
   "source": [
    "Start8 = ee.Date('2019-4-01')\n",
    "End8 = ee.Date('2019-6-30')\n",
    "img = ee.ImageCollection('COPERNICUS/S2')\\\n",
    "    .filterDate(Start9, End9)\\\n",
    "    .filterBounds(PR_polygon)\\\n",
    "    .filter(ee.Filter.lt('CLOUDY_PIXEL_PERCENTAGE', 20))\\\n",
    "    .map(maskS2clouds)\n",
    "composite8 = img.median()"
   ]
  },
  {
   "cell_type": "code",
   "execution_count": null,
   "metadata": {},
   "outputs": [],
   "source": [
    "Map.addLayer(composite8, {'bands':['B8', 'B4', 'B3'], 'min': 0, 'max':0.3}, 'False IR Composite March- June 2019')"
   ]
  },
  {
   "cell_type": "code",
   "execution_count": 213,
   "metadata": {},
   "outputs": [],
   "source": [
    "Start9 = ee.Date('2019-07-01')\n",
    "End9 = ee.Date('2019-09-30')\n",
    "img = ee.ImageCollection('COPERNICUS/S2')\\\n",
    "    .filterDate(Start10, End10)\\\n",
    "    .filterBounds(PR_polygon)\\\n",
    "    .filter(ee.Filter.lt('CLOUDY_PIXEL_PERCENTAGE', 20))\\\n",
    "    .map(maskS2clouds)\n",
    "composite9 = img.median()"
   ]
  },
  {
   "cell_type": "code",
   "execution_count": null,
   "metadata": {},
   "outputs": [],
   "source": [
    "Map.addLayer(composite9, {'bands':['B8', 'B4', 'B3'], 'min': 0, 'max':0.3}, 'False IR Composite July - September 2019')"
   ]
  },
  {
   "cell_type": "code",
   "execution_count": 214,
   "metadata": {},
   "outputs": [],
   "source": [
    "Start10 = ee.Date('2019-10-01')\n",
    "End10 = ee.Date('2019-12-31')\n",
    "img = ee.ImageCollection('COPERNICUS/S2')\\\n",
    "    .filterDate(Start11, End11)\\\n",
    "    .filterBounds(PR_polygon)\\\n",
    "    .filter(ee.Filter.lt('CLOUDY_PIXEL_PERCENTAGE', 20))\\\n",
    "    .map(maskS2clouds)\n",
    "composite10 = img.median()"
   ]
  },
  {
   "cell_type": "code",
   "execution_count": null,
   "metadata": {},
   "outputs": [],
   "source": [
    "Map.addLayer(composite10, {'bands':['B8', 'B4', 'B3'], 'min': 0, 'max':0.3}, 'False IR Composite October - December 2019')"
   ]
  },
  {
   "cell_type": "code",
   "execution_count": 217,
   "metadata": {},
   "outputs": [],
   "source": [
    "composite_list = [composite0, composite1, composite2, composite3, composite4, composite5, composite6, composite7, composite8, composite9,\n",
    "                 composite10]"
   ]
  },
  {
   "cell_type": "code",
   "execution_count": 239,
   "metadata": {},
   "outputs": [],
   "source": [
    "composite1_ndvi = addNDVI(composite1)\n",
    "ndvi1 = composite1_ndvi.select(['ndvi'])"
   ]
  },
  {
   "cell_type": "code",
   "execution_count": 240,
   "metadata": {},
   "outputs": [],
   "source": [
    "# Exploratory NDVI visualization\n",
    "# Green = High NDVI value, Yellow = Low NDVI value\n",
    "visParams_ndvi = {'bands': ['ndvi'], 'min': -0.2, 'max': 0.8, 'palette': 'FFFFFF, CE7E45, DF923D, F1B555, FCD163, 99B718, 74A901, 66A000, 529400,' + \\\n",
    "    '3E8601, 207401, 056201, 004C00, 023B01, 012E01, 011D01, 011301'}\n",
    "Map.addLayer(ndvi1,visParams_ndvi,'Sentinel-2 NDVI Oct - Dec 2019(sample image)')"
   ]
  },
  {
   "cell_type": "code",
   "execution_count": 236,
   "metadata": {},
   "outputs": [],
   "source": [
    "# Adding NDVI bands to all composites\n",
    "ndvi_dict = {}\n",
    "for item in composite_list:\n",
    "    for i in range(len(composite_list)):\n",
    "        ndvi_dict['ndvi %s' %(i)] = addNDVI(item).select(['ndvi'])"
   ]
  },
  {
   "cell_type": "code",
   "execution_count": 238,
   "metadata": {},
   "outputs": [
    {
     "name": "stdout",
     "output_type": "stream",
     "text": [
      "farm 0\n",
      "{'ndvi_mean': 0.7297479548400456, 'ndvi_stdDev': 0.09479368530918128}\n",
      "farm 1\n",
      "{'ndvi_mean': 0.6981309705597221, 'ndvi_stdDev': 0.07276668604253927}\n",
      "farm 2\n",
      "{'ndvi_mean': 0.6364471889578426, 'ndvi_stdDev': 0.11546534142912075}\n",
      "farm 3\n",
      "{'ndvi_mean': 0.7553520160477489, 'ndvi_stdDev': 0.06781880111845706}\n",
      "farm 4\n",
      "{'ndvi_mean': 0.7308531299509018, 'ndvi_stdDev': 0.06429944389559293}\n",
      "farm 5\n",
      "{'ndvi_mean': 0.7014042104868585, 'ndvi_stdDev': 0.09020075684213989}\n",
      "farm 6\n",
      "{'ndvi_mean': 0.7062373141110418, 'ndvi_stdDev': 0.07224030697265192}\n",
      "farm 7\n",
      "{'ndvi_mean': 0.7492130253431065, 'ndvi_stdDev': 0.07029867128868111}\n",
      "farm 8\n",
      "{'ndvi_mean': 0.7481293013475342, 'ndvi_stdDev': 0.07420333419799319}\n",
      "farm 9\n",
      "{'ndvi_mean': 0.7604451225922093, 'ndvi_stdDev': 0.05661567100327696}\n",
      "farm 10\n",
      "{'ndvi_mean': 0.6825766239096976, 'ndvi_stdDev': 0.10665683011572231}\n",
      "farm 11\n",
      "{'ndvi_mean': 0.7527326280403723, 'ndvi_stdDev': 0.05592074308885256}\n",
      "farm 12\n",
      "{'ndvi_mean': 0.743741356252529, 'ndvi_stdDev': 0.07513426243840816}\n",
      "farm 13\n",
      "{'ndvi_mean': 0.7561126821300722, 'ndvi_stdDev': 0.07467567338773293}\n",
      "farm 14\n",
      "{'ndvi_mean': 0.7326546644048079, 'ndvi_stdDev': 0.09905416575801367}\n",
      "farm 15\n",
      "{'ndvi_mean': 0.7215653846600332, 'ndvi_stdDev': 0.08093736499831478}\n",
      "farm 16\n",
      "{'ndvi_mean': 0.7007297397561706, 'ndvi_stdDev': 0.0735799248726129}\n",
      "farm 17\n",
      "{'ndvi_mean': 0.6776197108906953, 'ndvi_stdDev': 0.10792951919308205}\n",
      "farm 18\n",
      "{'ndvi_mean': 0.6768062570351836, 'ndvi_stdDev': 0.11861022011871236}\n",
      "farm 19\n",
      "{'ndvi_mean': 0.7124003955213254, 'ndvi_stdDev': 0.07990223047029997}\n",
      "farm 20\n",
      "{'ndvi_mean': 0.5335046587968683, 'ndvi_stdDev': 0.30782263728556836}\n",
      "farm 21\n",
      "{'ndvi_mean': 0.7200885521561625, 'ndvi_stdDev': 0.07541541005089267}\n",
      "farm 22\n",
      "{'ndvi_mean': 0.5959115545504922, 'ndvi_stdDev': 0.1448424861042185}\n",
      "farm 23\n",
      "{'ndvi_mean': 0.726097383958879, 'ndvi_stdDev': 0.07974078976702598}\n",
      "farm 24\n",
      "{'ndvi_mean': 0.7253943216782347, 'ndvi_stdDev': 0.08949181739886047}\n"
     ]
    }
   ],
   "source": [
    "#Calculation for individual farm NDVI mean and SD\n",
    "#Code showns only the NDVI mean from the first composite (March - June of 2017)\n",
    "reducers = ee.Reducer.mean().combine(**{\n",
    "  'reducer2': ee.Reducer.stdDev(),\n",
    "  'sharedInputs': True\n",
    "})\n",
    "\n",
    "# Use the combined reducer to get the mean and SD of the image.\n",
    "stats_dict ={}\n",
    "for i in range(len(farm_data)):\n",
    "    stats_dict['farm %s' %(i)] = ndvi_dict['ndvi 0'].reduceRegion(**{\n",
    "    'reducer': reducers,\n",
    "    'bestEffort': True,\n",
    "    'scale': 30,\n",
    "    'geometry': new_geometry_dict['farm %s'%(i)]\n",
    "})\n",
    "for farm in stats_dict.keys():\n",
    "    print (farm)\n",
    "    print (stats_dict[farm].getInfo())\n"
   ]
  },
  {
   "cell_type": "markdown",
   "metadata": {},
   "source": []
  },
  {
   "cell_type": "markdown",
   "metadata": {},
   "source": [
    "#Future Work\n",
    "The next step is to create an organized chart to consolidate all of the ndvi values for each farm. These data could then be plotted to show how the NDVI values changed from 2017 until now. The composite images could also be put togeter as a timelapse for visualization. Further comparison with data before 2017 could give us a better understanding of the changes in the landcover. These data could then be used as reference points for further data fusion work."
   ]
  }
 ],
 "metadata": {
  "kernelspec": {
   "display_name": "Python 3",
   "language": "python",
   "name": "python3"
  },
  "language_info": {
   "codemirror_mode": {
    "name": "ipython",
    "version": 3
   },
   "file_extension": ".py",
   "mimetype": "text/x-python",
   "name": "python",
   "nbconvert_exporter": "python",
   "pygments_lexer": "ipython3",
   "version": "3.7.4"
  }
 },
 "nbformat": 4,
 "nbformat_minor": 2
}
