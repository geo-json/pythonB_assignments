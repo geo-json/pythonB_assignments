{
 "cells": [
  {
   "cell_type": "code",
   "execution_count": 2,
   "metadata": {},
   "outputs": [],
   "source": [
    "import geojson\n",
    "import folium\n",
    "import numpy as np\n",
    "import geopandas as gpd\n",
    "from sentinelsat.sentinel import SentinelAPI, read_geojson, geojson_to_wkt\n",
    "import matplotlib.pyplot as plt"
   ]
  },
  {
   "cell_type": "code",
   "execution_count": 3,
   "metadata": {
    "scrolled": true
   },
   "outputs": [
    {
     "data": {
      "text/html": [
       "<div style=\"width:100%;\"><div style=\"position:relative;width:100%;height:0;padding-bottom:60%;\"><iframe src=\"data:text/html;charset=utf-8;base64,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\" style=\"position:absolute;width:100%;height:100%;left:0;top:0;border:none !important;\" allowfullscreen webkitallowfullscreen mozallowfullscreen></iframe></div></div>"
      ],
      "text/plain": [
       "<folium.folium.Map at 0x237f8cfe988>"
      ]
     },
     "execution_count": 3,
     "metadata": {},
     "output_type": "execute_result"
    }
   ],
   "source": [
    "\n",
    "m = folium.Map(location = [18.33952, -66.780384], zoom_start = 9)\n",
    "boundsdata = r'C:\\python_workfolder\\pr_newbound.json'\n",
    "farm_data = r'C:\\python_workfolder\\PR_farms.json'\n",
    "folium.GeoJson(boundsdata).add_to(m)\n",
    "# folium.GeoJson(farm_data).add_to(m)\n",
    "m"
   ]
  },
  {
   "cell_type": "code",
   "execution_count": 4,
   "metadata": {},
   "outputs": [],
   "source": [
    "#connect to api\n",
    "user = 'inigop'\n",
    "password = \n",
    "api = SentinelAPI(user, password, 'https://scihub.copernicus.eu/dhus')"
   ]
  },
  {
   "cell_type": "code",
   "execution_count": 5,
   "metadata": {},
   "outputs": [
    {
     "name": "stdout",
     "output_type": "stream",
     "text": [
      "POLYGON((-67.0221 18.0884,-66.3712 18.0884,-66.3712 18.4145,-67.0221 18.4145,-67.0221 18.0884))\n"
     ]
    }
   ],
   "source": [
    "#search by polygon\n",
    "footprint = geojson_to_wkt(read_geojson(boundsdata))\n",
    "print(footprint)"
   ]
  },
  {
   "cell_type": "code",
   "execution_count": null,
   "metadata": {},
   "outputs": [],
   "source": []
  },
  {
   "cell_type": "code",
   "execution_count": 43,
   "metadata": {},
   "outputs": [
    {
     "name": "stdout",
     "output_type": "stream",
     "text": [
      "OrderedDict()\n"
     ]
    }
   ],
   "source": [
    "#search for image\n",
    "july_oct_products = api.query(footprint,\n",
    "                     date = ('20150701', '20151001'),\n",
    "                     platformname = 'Sentinel-2',\n",
    "                     processinglevel = 'Level-1c',\n",
    "                     cloudcoverpercentage = (0, 20))\n",
    "print(july_oct_products)"
   ]
  },
  {
   "cell_type": "code",
   "execution_count": 79,
   "metadata": {},
   "outputs": [
    {
     "name": "stdout",
     "output_type": "stream",
     "text": [
      "363e871c-6702-4441-ac79-faa330b2c715\n",
      "title\n",
      "S2A_MSIL1C_20151225T150742_N0201_R082_T19QGA_20151225T150744\n",
      "link\n",
      "https://scihub.copernicus.eu/dhus/odata/v1/Products('363e871c-6702-4441-ac79-faa330b2c715')/$value\n",
      "link_alternative\n",
      "https://scihub.copernicus.eu/dhus/odata/v1/Products('363e871c-6702-4441-ac79-faa330b2c715')/\n",
      "link_icon\n",
      "https://scihub.copernicus.eu/dhus/odata/v1/Products('363e871c-6702-4441-ac79-faa330b2c715')/Products('Quicklook')/$value\n",
      "summary\n",
      "Date: 2015-12-25T15:07:42.029Z, Instrument: MSI, Mode: , Satellite: Sentinel-2, Size: 433.87 MB\n",
      "datatakesensingstart\n",
      "2015-12-25 15:07:42.029000\n",
      "beginposition\n",
      "2015-12-25 15:07:42.029000\n",
      "endposition\n",
      "2015-12-25 15:07:42.029000\n",
      "ingestiondate\n",
      "2018-12-20 06:49:54.685000\n",
      "orbitnumber\n",
      "2653\n",
      "relativeorbitnumber\n",
      "82\n",
      "cloudcoverpercentage\n",
      "4.0\n",
      "gmlfootprint\n",
      "<gml:Polygon srsName=\"http://www.opengis.net/gml/srs/epsg.xml#4326\" xmlns:gml=\"http://www.opengis.net/gml\">\n",
      "   <gml:outerBoundaryIs>\n",
      "      <gml:LinearRing>\n",
      "         <gml:coordinates>18.98277551,-67.10061214 17.9909285,-67.11151206 17.97806128,-66.07534068 18.96914765,-66.05847745 18.98277551,-67.10061214 18.98277551,-67.10061214</gml:coordinates>\n",
      "      </gml:LinearRing>\n",
      "   </gml:outerBoundaryIs>\n",
      "</gml:Polygon>\n",
      "format\n",
      "SAFE\n",
      "instrumentshortname\n",
      "MSI\n",
      "sensoroperationalmode\n",
      "INS-NOBS\n",
      "instrumentname\n",
      "Multi-Spectral Instrument\n",
      "footprint\n",
      "MULTIPOLYGON (((-66.07534068 17.97806128, -66.05847745 18.96914765, -67.10061214 18.98277551, -67.11151206 17.9909285, -66.07534068 17.97806128)))\n",
      "s2datatakeid\n",
      "GS2A_20151225T150742_002653_N02.01\n",
      "platformidentifier\n",
      "2015-028A\n",
      "orbitdirection\n",
      "DESCENDING\n",
      "platformserialidentifier\n",
      "Sentinel-2A\n",
      "processingbaseline\n",
      "02.01\n",
      "processinglevel\n",
      "Level-1C\n",
      "producttype\n",
      "S2MSI1C\n",
      "platformname\n",
      "Sentinel-2\n",
      "size\n",
      "433.87 MB\n",
      "tileid\n",
      "19QGA\n",
      "hv_order_tileid\n",
      "QA19G\n",
      "filename\n",
      "S2A_MSIL1C_20151225T150742_N0201_R082_T19QGA_20151225T150744.SAFE\n",
      "identifier\n",
      "S2A_MSIL1C_20151225T150742_N0201_R082_T19QGA_20151225T150744\n",
      "uuid\n",
      "363e871c-6702-4441-ac79-faa330b2c715\n",
      "level1cpdiidentifier\n",
      "S2A_OPER_MSI_L1C_TL_SGS__20151225T190442_A002653_T19QGA_N02.01\n",
      "granuleidentifier\n",
      "S2A_OPER_MSI_L1C_TL_SGS__20151225T190442_A002653_T19QGA_N02.01\n",
      "datastripidentifier\n",
      "S2A_OPER_MSI_L1C_DS_SGS__20151225T190442_S20151225T150744_N02.01\n",
      "20a1d320-d895-496c-8ce3-02f15e14b4cc\n",
      "title\n",
      "S2A_MSIL1C_20151225T150742_N0201_R082_T19QFA_20151225T150744\n",
      "link\n",
      "https://scihub.copernicus.eu/dhus/odata/v1/Products('20a1d320-d895-496c-8ce3-02f15e14b4cc')/$value\n",
      "link_alternative\n",
      "https://scihub.copernicus.eu/dhus/odata/v1/Products('20a1d320-d895-496c-8ce3-02f15e14b4cc')/\n",
      "link_icon\n",
      "https://scihub.copernicus.eu/dhus/odata/v1/Products('20a1d320-d895-496c-8ce3-02f15e14b4cc')/Products('Quicklook')/$value\n",
      "summary\n",
      "Date: 2015-12-25T15:07:42.029Z, Instrument: MSI, Mode: , Satellite: Sentinel-2, Size: 409.08 MB\n",
      "datatakesensingstart\n",
      "2015-12-25 15:07:42.029000\n",
      "beginposition\n",
      "2015-12-25 15:07:42.029000\n",
      "endposition\n",
      "2015-12-25 15:07:42.029000\n",
      "ingestiondate\n",
      "2018-12-20 06:48:54.054000\n",
      "orbitnumber\n",
      "2653\n",
      "relativeorbitnumber\n",
      "82\n",
      "cloudcoverpercentage\n",
      "2.0\n",
      "gmlfootprint\n",
      "<gml:Polygon srsName=\"http://www.opengis.net/gml/srs/epsg.xml#4326\" xmlns:gml=\"http://www.opengis.net/gml\">\n",
      "   <gml:outerBoundaryIs>\n",
      "      <gml:LinearRing>\n",
      "         <gml:coordinates>18.99008341,-68.04997108 17.99782846,-68.05542593 17.99000099,-67.0186197 18.98179316,-67.00718446 18.99008341,-68.04997108 18.99008341,-68.04997108</gml:coordinates>\n",
      "      </gml:LinearRing>\n",
      "   </gml:outerBoundaryIs>\n",
      "</gml:Polygon>\n",
      "format\n",
      "SAFE\n",
      "instrumentshortname\n",
      "MSI\n",
      "sensoroperationalmode\n",
      "INS-NOBS\n",
      "instrumentname\n",
      "Multi-Spectral Instrument\n",
      "footprint\n",
      "MULTIPOLYGON (((-67.0186197 17.99000099, -67.00718446 18.98179316, -68.04997108 18.99008341, -68.05542593 17.99782846, -67.0186197 17.99000099)))\n",
      "s2datatakeid\n",
      "GS2A_20151225T150742_002653_N02.01\n",
      "platformidentifier\n",
      "2015-028A\n",
      "orbitdirection\n",
      "DESCENDING\n",
      "platformserialidentifier\n",
      "Sentinel-2A\n",
      "processingbaseline\n",
      "02.01\n",
      "processinglevel\n",
      "Level-1C\n",
      "producttype\n",
      "S2MSI1C\n",
      "platformname\n",
      "Sentinel-2\n",
      "size\n",
      "409.08 MB\n",
      "tileid\n",
      "19QFA\n",
      "hv_order_tileid\n",
      "QA19F\n",
      "filename\n",
      "S2A_MSIL1C_20151225T150742_N0201_R082_T19QFA_20151225T150744.SAFE\n",
      "identifier\n",
      "S2A_MSIL1C_20151225T150742_N0201_R082_T19QFA_20151225T150744\n",
      "uuid\n",
      "20a1d320-d895-496c-8ce3-02f15e14b4cc\n",
      "level1cpdiidentifier\n",
      "S2A_OPER_MSI_L1C_TL_SGS__20151225T190442_A002653_T19QFA_N02.01\n",
      "granuleidentifier\n",
      "S2A_OPER_MSI_L1C_TL_SGS__20151225T190442_A002653_T19QFA_N02.01\n",
      "datastripidentifier\n",
      "S2A_OPER_MSI_L1C_DS_SGS__20151225T190442_S20151225T150744_N02.01\n",
      "b4480b26-0d66-4329-b4e1-8eeead6b38c6\n",
      "title\n",
      "S2A_MSIL1C_20151228T151652_N0201_R125_T19QFA_20151228T151649\n",
      "link\n",
      "https://scihub.copernicus.eu/dhus/odata/v1/Products('b4480b26-0d66-4329-b4e1-8eeead6b38c6')/$value\n",
      "link_alternative\n",
      "https://scihub.copernicus.eu/dhus/odata/v1/Products('b4480b26-0d66-4329-b4e1-8eeead6b38c6')/\n",
      "link_icon\n",
      "https://scihub.copernicus.eu/dhus/odata/v1/Products('b4480b26-0d66-4329-b4e1-8eeead6b38c6')/Products('Quicklook')/$value\n",
      "summary\n",
      "Date: 2015-12-28T15:16:52.03Z, Instrument: MSI, Mode: , Satellite: Sentinel-2, Size: 260.04 MB\n",
      "datatakesensingstart\n",
      "2015-12-28 15:16:52.030000\n",
      "beginposition\n",
      "2015-12-28 15:16:52.030000\n",
      "endposition\n",
      "2015-12-28 15:16:52.030000\n",
      "ingestiondate\n",
      "2018-12-20 01:11:23.437000\n",
      "orbitnumber\n",
      "2696\n",
      "relativeorbitnumber\n",
      "125\n",
      "cloudcoverpercentage\n",
      "0.0\n",
      "gmlfootprint\n",
      "<gml:Polygon srsName=\"http://www.opengis.net/gml/srs/epsg.xml#4326\" xmlns:gml=\"http://www.opengis.net/gml\">\n",
      "   <gml:outerBoundaryIs>\n",
      "      <gml:LinearRing>\n",
      "         <gml:coordinates>18.99008341,-68.04997108 17.99782846,-68.05542593 17.99000099,-67.0186197 18.98179316,-67.00718446 18.99008341,-68.04997108 18.99008341,-68.04997108</gml:coordinates>\n",
      "      </gml:LinearRing>\n",
      "   </gml:outerBoundaryIs>\n",
      "</gml:Polygon>\n",
      "format\n",
      "SAFE\n",
      "instrumentshortname\n",
      "MSI\n",
      "sensoroperationalmode\n",
      "INS-NOBS\n",
      "instrumentname\n",
      "Multi-Spectral Instrument\n",
      "footprint\n",
      "MULTIPOLYGON (((-67.0186197 17.99000099, -67.00718446 18.98179316, -68.04997108 18.99008341, -68.05542593 17.99782846, -67.0186197 17.99000099)))\n",
      "s2datatakeid\n",
      "GS2A_20151228T151652_002696_N02.01\n",
      "platformidentifier\n",
      "2015-028A\n",
      "orbitdirection\n",
      "DESCENDING\n",
      "platformserialidentifier\n",
      "Sentinel-2A\n",
      "processingbaseline\n",
      "02.01\n",
      "processinglevel\n",
      "Level-1C\n",
      "producttype\n",
      "S2MSI1C\n",
      "platformname\n",
      "Sentinel-2\n",
      "size\n",
      "260.04 MB\n",
      "tileid\n",
      "19QFA\n",
      "hv_order_tileid\n",
      "QA19F\n",
      "filename\n",
      "S2A_MSIL1C_20151228T151652_N0201_R125_T19QFA_20151228T151649.SAFE\n",
      "identifier\n",
      "S2A_MSIL1C_20151228T151652_N0201_R125_T19QFA_20151228T151649\n",
      "uuid\n",
      "b4480b26-0d66-4329-b4e1-8eeead6b38c6\n",
      "level1cpdiidentifier\n",
      "S2A_OPER_MSI_L1C_TL_MTI__20151228T200504_A002696_T19QFA_N02.01\n",
      "granuleidentifier\n",
      "S2A_OPER_MSI_L1C_TL_MTI__20151228T200504_A002696_T19QFA_N02.01\n",
      "datastripidentifier\n",
      "S2A_OPER_MSI_L1C_DS_MTI__20151228T200504_S20151228T151649_N02.01\n",
      "2e957af6-b3d0-411f-923c-da9ce48727c3\n",
      "title\n",
      "S2A_MSIL1C_20160104T150742_N0201_R082_T19QGA_20160104T150743\n",
      "link\n",
      "https://scihub.copernicus.eu/dhus/odata/v1/Products('2e957af6-b3d0-411f-923c-da9ce48727c3')/$value\n",
      "link_alternative\n",
      "https://scihub.copernicus.eu/dhus/odata/v1/Products('2e957af6-b3d0-411f-923c-da9ce48727c3')/\n",
      "link_icon\n",
      "https://scihub.copernicus.eu/dhus/odata/v1/Products('2e957af6-b3d0-411f-923c-da9ce48727c3')/Products('Quicklook')/$value\n",
      "summary\n",
      "Date: 2016-01-04T15:07:42.029Z, Instrument: MSI, Mode: , Satellite: Sentinel-2, Size: 442.31 MB\n",
      "datatakesensingstart\n",
      "2016-01-04 15:07:42.029000\n",
      "beginposition\n",
      "2016-01-04 15:07:42.029000\n",
      "endposition\n",
      "2016-01-04 15:07:42.029000\n",
      "ingestiondate\n",
      "2018-12-18 20:55:15.330000\n",
      "orbitnumber\n",
      "2796\n",
      "relativeorbitnumber\n",
      "82\n",
      "cloudcoverpercentage\n",
      "4.0\n",
      "gmlfootprint\n",
      "<gml:Polygon srsName=\"http://www.opengis.net/gml/srs/epsg.xml#4326\" xmlns:gml=\"http://www.opengis.net/gml\">\n",
      "   <gml:outerBoundaryIs>\n",
      "      <gml:LinearRing>\n",
      "         <gml:coordinates>18.98277551,-67.10061214 17.9909285,-67.11151206 17.97806128,-66.07534068 18.96914765,-66.05847745 18.98277551,-67.10061214 18.98277551,-67.10061214</gml:coordinates>\n",
      "      </gml:LinearRing>\n",
      "   </gml:outerBoundaryIs>\n",
      "</gml:Polygon>\n",
      "format\n",
      "SAFE\n",
      "instrumentshortname\n",
      "MSI\n",
      "sensoroperationalmode\n",
      "INS-NOBS\n",
      "instrumentname\n",
      "Multi-Spectral Instrument\n",
      "footprint\n",
      "MULTIPOLYGON (((-66.07534068 17.97806128, -66.05847745 18.96914765, -67.10061214 18.98277551, -67.11151206 17.9909285, -66.07534068 17.97806128)))\n",
      "s2datatakeid\n",
      "GS2A_20160104T150742_002796_N02.01\n",
      "platformidentifier\n",
      "2015-028A\n",
      "orbitdirection\n",
      "DESCENDING\n"
     ]
    },
    {
     "name": "stdout",
     "output_type": "stream",
     "text": [
      "platformserialidentifier\n",
      "Sentinel-2A\n",
      "processingbaseline\n",
      "02.01\n",
      "processinglevel\n",
      "Level-1C\n",
      "producttype\n",
      "S2MSI1C\n",
      "platformname\n",
      "Sentinel-2\n",
      "size\n",
      "442.31 MB\n",
      "tileid\n",
      "19QGA\n",
      "hv_order_tileid\n",
      "QA19G\n",
      "filename\n",
      "S2A_MSIL1C_20160104T150742_N0201_R082_T19QGA_20160104T150743.SAFE\n",
      "identifier\n",
      "S2A_MSIL1C_20160104T150742_N0201_R082_T19QGA_20160104T150743\n",
      "uuid\n",
      "2e957af6-b3d0-411f-923c-da9ce48727c3\n",
      "level1cpdiidentifier\n",
      "S2A_OPER_MSI_L1C_TL_SGS__20160104T203340_A002796_T19QGA_N02.01\n",
      "granuleidentifier\n",
      "S2A_OPER_MSI_L1C_TL_SGS__20160104T203340_A002796_T19QGA_N02.01\n",
      "datastripidentifier\n",
      "S2A_OPER_MSI_L1C_DS_SGS__20160104T203340_S20160104T150743_N02.01\n"
     ]
    }
   ],
   "source": [
    "#search for image\n",
    "oct_feb_products = api.query(footprint,\n",
    "                     date = ('20151001', '20160201'),\n",
    "                     platformname = 'Sentinel-2',\n",
    "                     processinglevel = 'Level-1c',\n",
    "                     cloudcoverpercentage = (0, 4))\n",
    "#metadata\n",
    "for k in oct_feb_products.keys():\n",
    "    print(k)\n",
    "    for item in oct_feb_products[k]:\n",
    "        print (item)\n",
    "        print (oct_feb_products[k][item])"
   ]
  },
  {
   "cell_type": "code",
   "execution_count": 42,
   "metadata": {},
   "outputs": [
    {
     "name": "stdout",
     "output_type": "stream",
     "text": [
      "c82caa04-e240-4314-909d-c7c7e4f647c1\n",
      "19QFA\n",
      "a4a488d1-5ede-49e2-86c6-2a029bea882e\n",
      "19QFA\n",
      "16db11f9-964d-4505-9de4-75b37c571a8d\n",
      "19QGA\n",
      "9c333389-c0c2-4cc6-904d-c9a81673a5ee\n",
      "19QFA\n"
     ]
    }
   ],
   "source": [
    "#search for image\n",
    "feb_may_products = api.query(footprint,\n",
    "                     date = ('20160201', '20160501'),\n",
    "                     platformname = 'Sentinel-2',\n",
    "                     processinglevel = 'Level-1c',\n",
    "                     cloudcoverpercentage = (0, 12))\n",
    "for item in feb_may_products:\n",
    "    print(item)\n",
    "    print(feb_may_products[item]['tileid'])\n",
    "\n",
    "# print(feb_may_products)"
   ]
  },
  {
   "cell_type": "code",
   "execution_count": 80,
   "metadata": {},
   "outputs": [
    {
     "name": "stderr",
     "output_type": "stream",
     "text": [
      "Product 363e871c-6702-4441-ac79-faa330b2c715 is not online. Triggering retrieval from long term archive.\n",
      "Trying to download an offline product\n"
     ]
    },
    {
     "ename": "SentinelAPILTAError",
     "evalue": "HTTP status 500 Internal Server Error: Trying to download an offline product",
     "output_type": "error",
     "traceback": [
      "\u001b[1;31m---------------------------------------------------------------------------\u001b[0m",
      "\u001b[1;31mSentinelAPILTAError\u001b[0m                       Traceback (most recent call last)",
      "\u001b[1;32m<ipython-input-80-8323eead4129>\u001b[0m in \u001b[0;36m<module>\u001b[1;34m\u001b[0m\n\u001b[1;32m----> 1\u001b[1;33m \u001b[0mapi\u001b[0m\u001b[1;33m.\u001b[0m\u001b[0mdownload\u001b[0m\u001b[1;33m(\u001b[0m\u001b[1;34m'363e871c-6702-4441-ac79-faa330b2c715'\u001b[0m\u001b[1;33m)\u001b[0m\u001b[1;31m#december_product*needs to download\u001b[0m\u001b[1;33m\u001b[0m\u001b[1;33m\u001b[0m\u001b[0m\n\u001b[0m",
      "\u001b[1;32mC:\\Python\\lib\\site-packages\\sentinelsat\\sentinel.py\u001b[0m in \u001b[0;36mdownload\u001b[1;34m(self, id, directory_path, checksum)\u001b[0m\n\u001b[0;32m    507\u001b[0m                 \u001b[1;34m'Product %s is not online. Triggering retrieval from long term archive.'\u001b[0m\u001b[1;33m,\u001b[0m\u001b[1;33m\u001b[0m\u001b[1;33m\u001b[0m\u001b[0m\n\u001b[0;32m    508\u001b[0m                 product_info['id'])\n\u001b[1;32m--> 509\u001b[1;33m             \u001b[0mself\u001b[0m\u001b[1;33m.\u001b[0m\u001b[0m_trigger_offline_retrieval\u001b[0m\u001b[1;33m(\u001b[0m\u001b[0mproduct_info\u001b[0m\u001b[1;33m[\u001b[0m\u001b[1;34m'url'\u001b[0m\u001b[1;33m]\u001b[0m\u001b[1;33m)\u001b[0m\u001b[1;33m\u001b[0m\u001b[1;33m\u001b[0m\u001b[0m\n\u001b[0m\u001b[0;32m    510\u001b[0m             \u001b[1;32mreturn\u001b[0m \u001b[0mproduct_info\u001b[0m\u001b[1;33m\u001b[0m\u001b[1;33m\u001b[0m\u001b[0m\n\u001b[0;32m    511\u001b[0m \u001b[1;33m\u001b[0m\u001b[0m\n",
      "\u001b[1;32mC:\\Python\\lib\\site-packages\\sentinelsat\\sentinel.py\u001b[0m in \u001b[0;36m_trigger_offline_retrieval\u001b[1;34m(self, url)\u001b[0m\n\u001b[0;32m    458\u001b[0m                 \u001b[1;31m# should not happen\u001b[0m\u001b[1;33m\u001b[0m\u001b[1;33m\u001b[0m\u001b[1;33m\u001b[0m\u001b[0m\n\u001b[0;32m    459\u001b[0m                 \u001b[0mself\u001b[0m\u001b[1;33m.\u001b[0m\u001b[0mlogger\u001b[0m\u001b[1;33m.\u001b[0m\u001b[0merror\u001b[0m\u001b[1;33m(\u001b[0m\u001b[1;34m\"Trying to download an offline product\"\u001b[0m\u001b[1;33m)\u001b[0m\u001b[1;33m\u001b[0m\u001b[1;33m\u001b[0m\u001b[0m\n\u001b[1;32m--> 460\u001b[1;33m                 \u001b[1;32mraise\u001b[0m \u001b[0mSentinelAPILTAError\u001b[0m\u001b[1;33m(\u001b[0m\u001b[1;34m'Trying to download an offline product'\u001b[0m\u001b[1;33m,\u001b[0m \u001b[0mr\u001b[0m\u001b[1;33m)\u001b[0m\u001b[1;33m\u001b[0m\u001b[1;33m\u001b[0m\u001b[0m\n\u001b[0m\u001b[0;32m    461\u001b[0m             \u001b[1;32mreturn\u001b[0m \u001b[0mr\u001b[0m\u001b[1;33m.\u001b[0m\u001b[0mstatus_code\u001b[0m\u001b[1;33m\u001b[0m\u001b[1;33m\u001b[0m\u001b[0m\n\u001b[0;32m    462\u001b[0m \u001b[1;33m\u001b[0m\u001b[0m\n",
      "\u001b[1;31mSentinelAPILTAError\u001b[0m: HTTP status 500 Internal Server Error: Trying to download an offline product"
     ]
    }
   ],
   "source": [
    "api.download('363e871c-6702-4441-ac79-faa330b2c715')#december_product*needs to download"
   ]
  },
  {
   "cell_type": "code",
   "execution_count": 8,
   "metadata": {},
   "outputs": [
    {
     "name": "stderr",
     "output_type": "stream",
     "text": [
      "Downloading: 100%|██████████████████████████████| 464M/464M [00:24<00:00, 18.9MB/s]\n",
      "MD5 checksumming: 100%|██████████████████████████| 464M/464M [00:02<00:00, 194MB/s]\n"
     ]
    },
    {
     "data": {
      "text/plain": [
       "{'id': '2e957af6-b3d0-411f-923c-da9ce48727c3',\n",
       " 'title': 'S2A_MSIL1C_20160104T150742_N0201_R082_T19QGA_20160104T150743',\n",
       " 'size': 464023713,\n",
       " 'md5': 'b9d9409ee1af0035d25b2668fc73b2c8',\n",
       " 'date': datetime.datetime(2016, 1, 4, 15, 7, 42, 29000),\n",
       " 'footprint': 'POLYGON((-67.10061214 18.98277551,-67.11151206 17.9909285,-66.07534068 17.97806128,-66.05847745 18.96914765,-67.10061214 18.98277551,-67.10061214 18.98277551))',\n",
       " 'url': \"https://scihub.copernicus.eu/dhus/odata/v1/Products('2e957af6-b3d0-411f-923c-da9ce48727c3')/$value\",\n",
       " 'Online': True,\n",
       " 'Creation Date': datetime.datetime(2018, 12, 18, 21, 4, 21, 622000),\n",
       " 'Ingestion Date': datetime.datetime(2018, 12, 18, 20, 55, 15, 330000),\n",
       " 'path': '.\\\\S2A_MSIL1C_20160104T150742_N0201_R082_T19QGA_20160104T150743.zip',\n",
       " 'downloaded_bytes': 464023713}"
      ]
     },
     "execution_count": 8,
     "metadata": {},
     "output_type": "execute_result"
    }
   ],
   "source": [
    "api.download('2e957af6-b3d0-411f-923c-da9ce48727c3')"
   ]
  },
  {
   "cell_type": "code",
   "execution_count": 107,
   "metadata": {},
   "outputs": [
    {
     "name": "stdout",
     "output_type": "stream",
     "text": [
      "OrderedDict([('c57171f8-a5c7-4cda-86ea-4dffa60817f3', {'title': 'S2A_MSIL1C_20160503T150722_N0202_R082_T19QFA_20160503T150724', 'link': \"https://scihub.copernicus.eu/dhus/odata/v1/Products('c57171f8-a5c7-4cda-86ea-4dffa60817f3')/$value\", 'link_alternative': \"https://scihub.copernicus.eu/dhus/odata/v1/Products('c57171f8-a5c7-4cda-86ea-4dffa60817f3')/\", 'link_icon': \"https://scihub.copernicus.eu/dhus/odata/v1/Products('c57171f8-a5c7-4cda-86ea-4dffa60817f3')/Products('Quicklook')/$value\", 'summary': 'Date: 2016-05-03T15:07:22.027Z, Instrument: MSI, Mode: , Satellite: Sentinel-2, Size: 666.14 MB', 'datatakesensingstart': datetime.datetime(2016, 5, 3, 15, 7, 22, 27000), 'beginposition': datetime.datetime(2016, 5, 3, 15, 7, 22, 27000), 'endposition': datetime.datetime(2016, 5, 3, 15, 7, 22, 27000), 'ingestiondate': datetime.datetime(2018, 11, 9, 21, 0, 30, 105000), 'orbitnumber': 4512, 'relativeorbitnumber': 82, 'cloudcoverpercentage': 3.4478, 'gmlfootprint': '<gml:Polygon srsName=\"http://www.opengis.net/gml/srs/epsg.xml#4326\" xmlns:gml=\"http://www.opengis.net/gml\">\\n   <gml:outerBoundaryIs>\\n      <gml:LinearRing>\\n         <gml:coordinates>18.990083411911158,-68.04997107670512 17.997828463102906,-68.05542593251185 17.990000986139343,-67.01861969977483 18.981793161923456,-67.00718446257054 18.990083411911158,-68.04997107670512</gml:coordinates>\\n      </gml:LinearRing>\\n   </gml:outerBoundaryIs>\\n</gml:Polygon>', 'format': 'SAFE', 'instrumentshortname': 'MSI', 'sensoroperationalmode': 'INS-NOBS', 'instrumentname': 'Multi-Spectral Instrument', 'footprint': 'MULTIPOLYGON (((-68.04997107670512 18.990083411911158, -68.05542593251185 17.997828463102906, -67.01861969977483 17.990000986139343, -67.00718446257054 18.981793161923456, -68.04997107670512 18.990083411911158)))', 's2datatakeid': 'GS2A_20160503T150722_004512_N02.02', 'platformidentifier': '2015-028A', 'orbitdirection': 'DESCENDING', 'platformserialidentifier': 'Sentinel-2A', 'processingbaseline': '02.02', 'processinglevel': 'Level-1C', 'producttype': 'S2MSI1C', 'platformname': 'Sentinel-2', 'size': '666.14 MB', 'tileid': '19QFA', 'hv_order_tileid': 'QA19F', 'filename': 'S2A_MSIL1C_20160503T150722_N0202_R082_T19QFA_20160503T150724.SAFE', 'identifier': 'S2A_MSIL1C_20160503T150722_N0202_R082_T19QFA_20160503T150724', 'uuid': 'c57171f8-a5c7-4cda-86ea-4dffa60817f3', 'level1cpdiidentifier': 'S2A_OPER_MSI_L1C_TL_MTI__20160503T213632_A004512_T19QFA_N02.02', 'granuleidentifier': 'S2A_OPER_MSI_L1C_TL_MTI__20160503T213632_A004512_T19QFA_N02.02', 'datastripidentifier': 'S2A_OPER_MSI_L1C_DS_MTI__20160503T213632_S20160503T150724_N02.02'}), ('7497447e-7e03-4985-b96b-415f951f2eec', {'title': 'S2A_MSIL1C_20160503T150722_N0202_R082_T19QGA_20160503T150724', 'link': \"https://scihub.copernicus.eu/dhus/odata/v1/Products('7497447e-7e03-4985-b96b-415f951f2eec')/$value\", 'link_alternative': \"https://scihub.copernicus.eu/dhus/odata/v1/Products('7497447e-7e03-4985-b96b-415f951f2eec')/\", 'link_icon': \"https://scihub.copernicus.eu/dhus/odata/v1/Products('7497447e-7e03-4985-b96b-415f951f2eec')/Products('Quicklook')/$value\", 'summary': 'Date: 2016-05-03T15:07:22.027Z, Instrument: MSI, Mode: , Satellite: Sentinel-2, Size: 791.42 MB', 'datatakesensingstart': datetime.datetime(2016, 5, 3, 15, 7, 22, 27000), 'beginposition': datetime.datetime(2016, 5, 3, 15, 7, 22, 27000), 'endposition': datetime.datetime(2016, 5, 3, 15, 7, 22, 27000), 'ingestiondate': datetime.datetime(2018, 11, 9, 20, 54, 1, 844000), 'orbitnumber': 4512, 'relativeorbitnumber': 82, 'cloudcoverpercentage': 9.4352, 'gmlfootprint': '<gml:Polygon srsName=\"http://www.opengis.net/gml/srs/epsg.xml#4326\" xmlns:gml=\"http://www.opengis.net/gml\">\\n   <gml:outerBoundaryIs>\\n      <gml:LinearRing>\\n         <gml:coordinates>18.982775510725237,-67.10061213854715 17.99092850103495,-67.11151206431032 17.978061280667518,-66.07534068336197 18.969147645399925,-66.05847745427943 18.982775510725237,-67.10061213854715</gml:coordinates>\\n      </gml:LinearRing>\\n   </gml:outerBoundaryIs>\\n</gml:Polygon>', 'format': 'SAFE', 'instrumentshortname': 'MSI', 'sensoroperationalmode': 'INS-NOBS', 'instrumentname': 'Multi-Spectral Instrument', 'footprint': 'MULTIPOLYGON (((-67.10061213854715 18.982775510725237, -67.11151206431032 17.99092850103495, -66.07534068336197 17.978061280667518, -66.05847745427943 18.969147645399925, -67.10061213854715 18.982775510725237)))', 's2datatakeid': 'GS2A_20160503T150722_004512_N02.02', 'platformidentifier': '2015-028A', 'orbitdirection': 'DESCENDING', 'platformserialidentifier': 'Sentinel-2A', 'processingbaseline': '02.02', 'processinglevel': 'Level-1C', 'producttype': 'S2MSI1C', 'platformname': 'Sentinel-2', 'size': '791.42 MB', 'tileid': '19QGA', 'hv_order_tileid': 'QA19G', 'filename': 'S2A_MSIL1C_20160503T150722_N0202_R082_T19QGA_20160503T150724.SAFE', 'identifier': 'S2A_MSIL1C_20160503T150722_N0202_R082_T19QGA_20160503T150724', 'uuid': '7497447e-7e03-4985-b96b-415f951f2eec', 'level1cpdiidentifier': 'S2A_OPER_MSI_L1C_TL_MTI__20160503T213632_A004512_T19QGA_N02.02', 'granuleidentifier': 'S2A_OPER_MSI_L1C_TL_MTI__20160503T213632_A004512_T19QGA_N02.02', 'datastripidentifier': 'S2A_OPER_MSI_L1C_DS_MTI__20160503T213632_S20160503T150724_N02.02'}), ('6591472a-42e8-4301-8a1e-211aec2fbcfc', {'title': 'S2A_MSIL1C_20160612T150722_N0202_R082_T19QGA_20160612T150723', 'link': \"https://scihub.copernicus.eu/dhus/odata/v1/Products('6591472a-42e8-4301-8a1e-211aec2fbcfc')/$value\", 'link_alternative': \"https://scihub.copernicus.eu/dhus/odata/v1/Products('6591472a-42e8-4301-8a1e-211aec2fbcfc')/\", 'link_icon': \"https://scihub.copernicus.eu/dhus/odata/v1/Products('6591472a-42e8-4301-8a1e-211aec2fbcfc')/Products('Quicklook')/$value\", 'summary': 'Date: 2016-06-12T15:07:22.027Z, Instrument: MSI, Mode: , Satellite: Sentinel-2, Size: 802.40 MB', 'datatakesensingstart': datetime.datetime(2016, 6, 12, 15, 7, 22, 27000), 'beginposition': datetime.datetime(2016, 6, 12, 15, 7, 22, 27000), 'endposition': datetime.datetime(2016, 6, 12, 15, 7, 22, 27000), 'ingestiondate': datetime.datetime(2018, 10, 25, 2, 59, 26, 324000), 'orbitnumber': 5084, 'relativeorbitnumber': 82, 'cloudcoverpercentage': 4.9463, 'gmlfootprint': '<gml:Polygon srsName=\"http://www.opengis.net/gml/srs/epsg.xml#4326\" xmlns:gml=\"http://www.opengis.net/gml\">\\n   <gml:outerBoundaryIs>\\n      <gml:LinearRing>\\n         <gml:coordinates>18.982775510725237,-67.10061213854715 17.99092850103495,-67.11151206431032 17.978061280667518,-66.07534068336197 18.969147645399925,-66.05847745427943 18.982775510725237,-67.10061213854715</gml:coordinates>\\n      </gml:LinearRing>\\n   </gml:outerBoundaryIs>\\n</gml:Polygon>', 'format': 'SAFE', 'instrumentshortname': 'MSI', 'sensoroperationalmode': 'INS-NOBS', 'instrumentname': 'Multi-Spectral Instrument', 'footprint': 'MULTIPOLYGON (((-67.10061213854715 18.982775510725237, -67.11151206431032 17.99092850103495, -66.07534068336197 17.978061280667518, -66.05847745427943 18.969147645399925, -67.10061213854715 18.982775510725237)))', 's2datatakeid': 'GS2A_20160612T150722_005084_N02.02', 'platformidentifier': '2015-028A', 'orbitdirection': 'DESCENDING', 'platformserialidentifier': 'Sentinel-2A', 'processingbaseline': '02.02', 'processinglevel': 'Level-1C', 'producttype': 'S2MSI1C', 'platformname': 'Sentinel-2', 'size': '802.40 MB', 'tileid': '19QGA', 'hv_order_tileid': 'QA19G', 'filename': 'S2A_MSIL1C_20160612T150722_N0202_R082_T19QGA_20160612T150723.SAFE', 'identifier': 'S2A_MSIL1C_20160612T150722_N0202_R082_T19QGA_20160612T150723', 'uuid': '6591472a-42e8-4301-8a1e-211aec2fbcfc', 'level1cpdiidentifier': 'S2A_OPER_MSI_L1C_TL_SGS__20160612T201025_A005084_T19QGA_N02.02', 'granuleidentifier': 'S2A_OPER_MSI_L1C_TL_SGS__20160612T201025_A005084_T19QGA_N02.02', 'datastripidentifier': 'S2A_OPER_MSI_L1C_DS_SGS__20160612T201025_S20160612T150723_N02.02'}), ('8fb2726e-f3d7-408d-aa20-ad064254fc8d', {'title': 'S2A_MSIL1C_20160612T150722_N0202_R082_T19QFA_20160612T150723', 'link': \"https://scihub.copernicus.eu/dhus/odata/v1/Products('8fb2726e-f3d7-408d-aa20-ad064254fc8d')/$value\", 'link_alternative': \"https://scihub.copernicus.eu/dhus/odata/v1/Products('8fb2726e-f3d7-408d-aa20-ad064254fc8d')/\", 'link_icon': \"https://scihub.copernicus.eu/dhus/odata/v1/Products('8fb2726e-f3d7-408d-aa20-ad064254fc8d')/Products('Quicklook')/$value\", 'summary': 'Date: 2016-06-12T15:07:22.027Z, Instrument: MSI, Mode: , Satellite: Sentinel-2, Size: 643.66 MB', 'datatakesensingstart': datetime.datetime(2016, 6, 12, 15, 7, 22, 27000), 'beginposition': datetime.datetime(2016, 6, 12, 15, 7, 22, 27000), 'endposition': datetime.datetime(2016, 6, 12, 15, 7, 22, 27000), 'ingestiondate': datetime.datetime(2018, 10, 25, 2, 55, 44, 876000), 'orbitnumber': 5084, 'relativeorbitnumber': 82, 'cloudcoverpercentage': 0.0854, 'gmlfootprint': '<gml:Polygon srsName=\"http://www.opengis.net/gml/srs/epsg.xml#4326\" xmlns:gml=\"http://www.opengis.net/gml\">\\n   <gml:outerBoundaryIs>\\n      <gml:LinearRing>\\n         <gml:coordinates>18.990083411911158,-68.04997107670512 17.997828463102906,-68.05542593251185 17.990000986139343,-67.01861969977483 18.981793161923456,-67.00718446257054 18.990083411911158,-68.04997107670512</gml:coordinates>\\n      </gml:LinearRing>\\n   </gml:outerBoundaryIs>\\n</gml:Polygon>', 'format': 'SAFE', 'instrumentshortname': 'MSI', 'sensoroperationalmode': 'INS-NOBS', 'instrumentname': 'Multi-Spectral Instrument', 'footprint': 'MULTIPOLYGON (((-68.04997107670512 18.990083411911158, -68.05542593251185 17.997828463102906, -67.01861969977483 17.990000986139343, -67.00718446257054 18.981793161923456, -68.04997107670512 18.990083411911158)))', 's2datatakeid': 'GS2A_20160612T150722_005084_N02.02', 'platformidentifier': '2015-028A', 'orbitdirection': 'DESCENDING', 'platformserialidentifier': 'Sentinel-2A', 'processingbaseline': '02.02', 'processinglevel': 'Level-1C', 'producttype': 'S2MSI1C', 'platformname': 'Sentinel-2', 'size': '643.66 MB', 'tileid': '19QFA', 'hv_order_tileid': 'QA19F', 'filename': 'S2A_MSIL1C_20160612T150722_N0202_R082_T19QFA_20160612T150723.SAFE', 'identifier': 'S2A_MSIL1C_20160612T150722_N0202_R082_T19QFA_20160612T150723', 'uuid': '8fb2726e-f3d7-408d-aa20-ad064254fc8d', 'level1cpdiidentifier': 'S2A_OPER_MSI_L1C_TL_SGS__20160612T201025_A005084_T19QFA_N02.02', 'granuleidentifier': 'S2A_OPER_MSI_L1C_TL_SGS__20160612T201025_A005084_T19QFA_N02.02', 'datastripidentifier': 'S2A_OPER_MSI_L1C_DS_SGS__20160612T201025_S20160612T150723_N02.02'}), ('a73e4f32-46ca-44ac-94a7-5b3e3add789f', {'title': 'S2A_MSIL1C_20160622T150742_N0204_R082_T19QFA_20160622T150745', 'link': \"https://scihub.copernicus.eu/dhus/odata/v1/Products('a73e4f32-46ca-44ac-94a7-5b3e3add789f')/$value\", 'link_alternative': \"https://scihub.copernicus.eu/dhus/odata/v1/Products('a73e4f32-46ca-44ac-94a7-5b3e3add789f')/\", 'link_icon': \"https://scihub.copernicus.eu/dhus/odata/v1/Products('a73e4f32-46ca-44ac-94a7-5b3e3add789f')/Products('Quicklook')/$value\", 'summary': 'Date: 2016-06-22T15:07:42.027Z, Instrument: MSI, Mode: , Satellite: Sentinel-2, Size: 481.06 MB', 'datatakesensingstart': datetime.datetime(2016, 6, 22, 15, 7, 42, 27000), 'beginposition': datetime.datetime(2016, 6, 22, 15, 7, 42, 27000), 'endposition': datetime.datetime(2016, 6, 22, 15, 7, 42, 27000), 'ingestiondate': datetime.datetime(2018, 10, 23, 9, 30, 59, 779000), 'orbitnumber': 5227, 'relativeorbitnumber': 82, 'cloudcoverpercentage': 7.1006, 'gmlfootprint': '<gml:Polygon srsName=\"http://www.opengis.net/gml/srs/epsg.xml#4326\" xmlns:gml=\"http://www.opengis.net/gml\">\\n   <gml:outerBoundaryIs>\\n      <gml:LinearRing>\\n         <gml:coordinates>18.990083411911158,-68.04997107670512 17.997828463102906,-68.05542593251185 17.990000986139343,-67.01861969977483 18.981793161923456,-67.00718446257054 18.990083411911158,-68.04997107670512</gml:coordinates>\\n      </gml:LinearRing>\\n   </gml:outerBoundaryIs>\\n</gml:Polygon>', 'format': 'SAFE', 'instrumentshortname': 'MSI', 'sensoroperationalmode': 'INS-NOBS', 'instrumentname': 'Multi-Spectral Instrument', 'footprint': 'MULTIPOLYGON (((-68.04997107670512 18.990083411911158, -68.05542593251185 17.997828463102906, -67.01861969977483 17.990000986139343, -67.00718446257054 18.981793161923456, -68.04997107670512 18.990083411911158)))', 's2datatakeid': 'GS2A_20160622T150742_005227_N02.04', 'platformidentifier': '2015-028A', 'orbitdirection': 'DESCENDING', 'platformserialidentifier': 'Sentinel-2A', 'processingbaseline': '02.04', 'processinglevel': 'Level-1C', 'producttype': 'S2MSI1C', 'platformname': 'Sentinel-2', 'size': '481.06 MB', 'tileid': '19QFA', 'hv_order_tileid': 'QA19F', 'filename': 'S2A_MSIL1C_20160622T150742_N0204_R082_T19QFA_20160622T150745.SAFE', 'identifier': 'S2A_MSIL1C_20160622T150742_N0204_R082_T19QFA_20160622T150745', 'uuid': 'a73e4f32-46ca-44ac-94a7-5b3e3add789f', 'level1cpdiidentifier': 'S2A_OPER_MSI_L1C_TL_MTI__20160622T213304_A005227_T19QFA_N02.04', 'granuleidentifier': 'S2A_OPER_MSI_L1C_TL_MTI__20160622T213304_A005227_T19QFA_N02.04', 'datastripidentifier': 'S2A_OPER_MSI_L1C_DS_MTI__20160622T213304_S20160622T150745_N02.04'}), ('02882329-5331-4142-b1af-c8f22145fb8d', {'title': 'S2A_MSIL1C_20160625T151702_N0204_R125_T19QFA_20160625T151705', 'link': \"https://scihub.copernicus.eu/dhus/odata/v1/Products('02882329-5331-4142-b1af-c8f22145fb8d')/$value\", 'link_alternative': \"https://scihub.copernicus.eu/dhus/odata/v1/Products('02882329-5331-4142-b1af-c8f22145fb8d')/\", 'link_icon': \"https://scihub.copernicus.eu/dhus/odata/v1/Products('02882329-5331-4142-b1af-c8f22145fb8d')/Products('Quicklook')/$value\", 'summary': 'Date: 2016-06-25T15:17:02.027Z, Instrument: MSI, Mode: , Satellite: Sentinel-2, Size: 340.23 MB', 'datatakesensingstart': datetime.datetime(2016, 6, 25, 15, 17, 2, 27000), 'beginposition': datetime.datetime(2016, 6, 25, 15, 17, 2, 27000), 'endposition': datetime.datetime(2016, 6, 25, 15, 17, 2, 27000), 'ingestiondate': datetime.datetime(2018, 10, 23, 3, 55, 9, 952000), 'orbitnumber': 5270, 'relativeorbitnumber': 125, 'cloudcoverpercentage': 0.9051, 'gmlfootprint': '<gml:Polygon srsName=\"http://www.opengis.net/gml/srs/epsg.xml#4326\" xmlns:gml=\"http://www.opengis.net/gml\">\\n   <gml:outerBoundaryIs>\\n      <gml:LinearRing>\\n         <gml:coordinates>18.990083411911158,-68.04997107670512 17.997828463102906,-68.05542593251185 17.990000986139343,-67.01861969977483 18.981793161923456,-67.00718446257054 18.990083411911158,-68.04997107670512</gml:coordinates>\\n      </gml:LinearRing>\\n   </gml:outerBoundaryIs>\\n</gml:Polygon>', 'format': 'SAFE', 'instrumentshortname': 'MSI', 'sensoroperationalmode': 'INS-NOBS', 'instrumentname': 'Multi-Spectral Instrument', 'footprint': 'MULTIPOLYGON (((-68.04997107670512 18.990083411911158, -68.05542593251185 17.997828463102906, -67.01861969977483 17.990000986139343, -67.00718446257054 18.981793161923456, -68.04997107670512 18.990083411911158)))', 's2datatakeid': 'GS2A_20160625T151702_005270_N02.04', 'platformidentifier': '2015-028A', 'orbitdirection': 'DESCENDING', 'platformserialidentifier': 'Sentinel-2A', 'processingbaseline': '02.04', 'processinglevel': 'Level-1C', 'producttype': 'S2MSI1C', 'platformname': 'Sentinel-2', 'size': '340.23 MB', 'tileid': '19QFA', 'hv_order_tileid': 'QA19F', 'filename': 'S2A_MSIL1C_20160625T151702_N0204_R125_T19QFA_20160625T151705.SAFE', 'identifier': 'S2A_MSIL1C_20160625T151702_N0204_R125_T19QFA_20160625T151705', 'uuid': '02882329-5331-4142-b1af-c8f22145fb8d', 'level1cpdiidentifier': 'S2A_OPER_MSI_L1C_TL_MTI__20160625T214656_A005270_T19QFA_N02.04', 'granuleidentifier': 'S2A_OPER_MSI_L1C_TL_MTI__20160625T214656_A005270_T19QFA_N02.04', 'datastripidentifier': 'S2A_OPER_MSI_L1C_DS_MTI__20160625T214656_S20160625T151705_N02.04'}), ('abdfe40e-af71-4c0d-8227-98d3379f7332', {'title': 'S2A_MSIL1C_20160712T150752_N0204_R082_T19QFA_20160712T150758', 'link': \"https://scihub.copernicus.eu/dhus/odata/v1/Products('abdfe40e-af71-4c0d-8227-98d3379f7332')/$value\", 'link_alternative': \"https://scihub.copernicus.eu/dhus/odata/v1/Products('abdfe40e-af71-4c0d-8227-98d3379f7332')/\", 'link_icon': \"https://scihub.copernicus.eu/dhus/odata/v1/Products('abdfe40e-af71-4c0d-8227-98d3379f7332')/Products('Quicklook')/$value\", 'summary': 'Date: 2016-07-12T15:07:52.026Z, Instrument: MSI, Mode: , Satellite: Sentinel-2, Size: 38.54 MB', 'datatakesensingstart': datetime.datetime(2016, 7, 12, 15, 7, 52, 26000), 'beginposition': datetime.datetime(2016, 7, 12, 15, 7, 52, 26000), 'endposition': datetime.datetime(2016, 7, 12, 15, 7, 52, 26000), 'ingestiondate': datetime.datetime(2018, 10, 15, 22, 34, 11, 546000), 'orbitnumber': 5513, 'relativeorbitnumber': 82, 'cloudcoverpercentage': 0.0, 'gmlfootprint': '<gml:Polygon srsName=\"http://www.opengis.net/gml/srs/epsg.xml#4326\" xmlns:gml=\"http://www.opengis.net/gml\">\\n   <gml:outerBoundaryIs>\\n      <gml:LinearRing>\\n         <gml:coordinates>18.990083411911158,-68.04997107670512 17.997828463102906,-68.05542593251185 17.990000986139343,-67.01861969977483 18.981793161923456,-67.00718446257054 18.990083411911158,-68.04997107670512</gml:coordinates>\\n      </gml:LinearRing>\\n   </gml:outerBoundaryIs>\\n</gml:Polygon>', 'format': 'SAFE', 'instrumentshortname': 'MSI', 'sensoroperationalmode': 'INS-NOBS', 'instrumentname': 'Multi-Spectral Instrument', 'footprint': 'MULTIPOLYGON (((-68.04997107670512 18.990083411911158, -68.05542593251185 17.997828463102906, -67.01861969977483 17.990000986139343, -67.00718446257054 18.981793161923456, -68.04997107670512 18.990083411911158)))', 's2datatakeid': 'GS2A_20160712T150752_005513_N02.04', 'platformidentifier': '2015-028A', 'orbitdirection': 'DESCENDING', 'platformserialidentifier': 'Sentinel-2A', 'processingbaseline': '02.04', 'processinglevel': 'Level-1C', 'producttype': 'S2MSI1C', 'platformname': 'Sentinel-2', 'size': '38.54 MB', 'tileid': '19QFA', 'hv_order_tileid': 'QA19F', 'filename': 'S2A_MSIL1C_20160712T150752_N0204_R082_T19QFA_20160712T150758.SAFE', 'identifier': 'S2A_MSIL1C_20160712T150752_N0204_R082_T19QFA_20160712T150758', 'uuid': 'abdfe40e-af71-4c0d-8227-98d3379f7332', 'level1cpdiidentifier': 'S2A_OPER_MSI_L1C_TL_MTI__20160712T213133_A005513_T19QFA_N02.04', 'granuleidentifier': 'S2A_OPER_MSI_L1C_TL_MTI__20160712T213133_A005513_T19QFA_N02.04', 'datastripidentifier': 'S2A_OPER_MSI_L1C_DS_MTI__20160712T213133_S20160712T150758_N02.04'}), ('31440bf7-75e5-4e93-81f6-3598ebe79347', {'title': 'S2A_MSIL1C_20160712T150752_N0204_R082_T19QFA_20160712T150747', 'link': \"https://scihub.copernicus.eu/dhus/odata/v1/Products('31440bf7-75e5-4e93-81f6-3598ebe79347')/$value\", 'link_alternative': \"https://scihub.copernicus.eu/dhus/odata/v1/Products('31440bf7-75e5-4e93-81f6-3598ebe79347')/\", 'link_icon': \"https://scihub.copernicus.eu/dhus/odata/v1/Products('31440bf7-75e5-4e93-81f6-3598ebe79347')/Products('Quicklook')/$value\", 'summary': 'Date: 2016-07-12T15:07:52.026Z, Instrument: MSI, Mode: , Satellite: Sentinel-2, Size: 483.74 MB', 'datatakesensingstart': datetime.datetime(2016, 7, 12, 15, 7, 52, 26000), 'beginposition': datetime.datetime(2016, 7, 12, 15, 7, 52, 26000), 'endposition': datetime.datetime(2016, 7, 12, 15, 7, 52, 26000), 'ingestiondate': datetime.datetime(2018, 10, 15, 22, 34, 8, 391000), 'orbitnumber': 5513, 'relativeorbitnumber': 82, 'cloudcoverpercentage': 3.4681, 'gmlfootprint': '<gml:Polygon srsName=\"http://www.opengis.net/gml/srs/epsg.xml#4326\" xmlns:gml=\"http://www.opengis.net/gml\">\\n   <gml:outerBoundaryIs>\\n      <gml:LinearRing>\\n         <gml:coordinates>18.990083411911158,-68.04997107670512 17.997828463102906,-68.05542593251185 17.990000986139343,-67.01861969977483 18.981793161923456,-67.00718446257054 18.990083411911158,-68.04997107670512</gml:coordinates>\\n      </gml:LinearRing>\\n   </gml:outerBoundaryIs>\\n</gml:Polygon>', 'format': 'SAFE', 'instrumentshortname': 'MSI', 'sensoroperationalmode': 'INS-NOBS', 'instrumentname': 'Multi-Spectral Instrument', 'footprint': 'MULTIPOLYGON (((-68.04997107670512 18.990083411911158, -68.05542593251185 17.997828463102906, -67.01861969977483 17.990000986139343, -67.00718446257054 18.981793161923456, -68.04997107670512 18.990083411911158)))', 's2datatakeid': 'GS2A_20160712T150752_005513_N02.04', 'platformidentifier': '2015-028A', 'orbitdirection': 'DESCENDING', 'platformserialidentifier': 'Sentinel-2A', 'processingbaseline': '02.04', 'processinglevel': 'Level-1C', 'producttype': 'S2MSI1C', 'platformname': 'Sentinel-2', 'size': '483.74 MB', 'tileid': '19QFA', 'hv_order_tileid': 'QA19F', 'filename': 'S2A_MSIL1C_20160712T150752_N0204_R082_T19QFA_20160712T150747.SAFE', 'identifier': 'S2A_MSIL1C_20160712T150752_N0204_R082_T19QFA_20160712T150747', 'uuid': '31440bf7-75e5-4e93-81f6-3598ebe79347', 'level1cpdiidentifier': 'S2A_OPER_MSI_L1C_TL_SGS__20160712T200828_A005513_T19QFA_N02.04', 'granuleidentifier': 'S2A_OPER_MSI_L1C_TL_SGS__20160712T200828_A005513_T19QFA_N02.04', 'datastripidentifier': 'S2A_OPER_MSI_L1C_DS_SGS__20160712T200828_S20160712T150747_N02.04'}), ('2d3644e5-7145-4898-9feb-43b8ee97bd3a', {'title': 'S2A_MSIL1C_20160715T151712_N0204_R125_T19QFA_20160715T151707', 'link': \"https://scihub.copernicus.eu/dhus/odata/v1/Products('2d3644e5-7145-4898-9feb-43b8ee97bd3a')/$value\", 'link_alternative': \"https://scihub.copernicus.eu/dhus/odata/v1/Products('2d3644e5-7145-4898-9feb-43b8ee97bd3a')/\", 'link_icon': \"https://scihub.copernicus.eu/dhus/odata/v1/Products('2d3644e5-7145-4898-9feb-43b8ee97bd3a')/Products('Quicklook')/$value\", 'summary': 'Date: 2016-07-15T15:17:12.026Z, Instrument: MSI, Mode: , Satellite: Sentinel-2, Size: 357.03 MB', 'datatakesensingstart': datetime.datetime(2016, 7, 15, 15, 17, 12, 26000), 'beginposition': datetime.datetime(2016, 7, 15, 15, 17, 12, 26000), 'endposition': datetime.datetime(2016, 7, 15, 15, 17, 12, 26000), 'ingestiondate': datetime.datetime(2018, 10, 15, 15, 42, 1, 788000), 'orbitnumber': 5556, 'relativeorbitnumber': 125, 'cloudcoverpercentage': 0.0994, 'gmlfootprint': '<gml:Polygon srsName=\"http://www.opengis.net/gml/srs/epsg.xml#4326\" xmlns:gml=\"http://www.opengis.net/gml\">\\n   <gml:outerBoundaryIs>\\n      <gml:LinearRing>\\n         <gml:coordinates>18.990083411911158,-68.04997107670512 17.997828463102906,-68.05542593251185 17.990000986139343,-67.01861969977483 18.981793161923456,-67.00718446257054 18.990083411911158,-68.04997107670512</gml:coordinates>\\n      </gml:LinearRing>\\n   </gml:outerBoundaryIs>\\n</gml:Polygon>', 'format': 'SAFE', 'instrumentshortname': 'MSI', 'sensoroperationalmode': 'INS-NOBS', 'instrumentname': 'Multi-Spectral Instrument', 'footprint': 'MULTIPOLYGON (((-68.04997107670512 18.990083411911158, -68.05542593251185 17.997828463102906, -67.01861969977483 17.990000986139343, -67.00718446257054 18.981793161923456, -68.04997107670512 18.990083411911158)))', 's2datatakeid': 'GS2A_20160715T151712_005556_N02.04', 'platformidentifier': '2015-028A', 'orbitdirection': 'DESCENDING', 'platformserialidentifier': 'Sentinel-2A', 'processingbaseline': '02.04', 'processinglevel': 'Level-1C', 'producttype': 'S2MSI1C', 'platformname': 'Sentinel-2', 'size': '357.03 MB', 'tileid': '19QFA', 'hv_order_tileid': 'QA19F', 'filename': 'S2A_MSIL1C_20160715T151712_N0204_R125_T19QFA_20160715T151707.SAFE', 'identifier': 'S2A_MSIL1C_20160715T151712_N0204_R125_T19QFA_20160715T151707', 'uuid': '2d3644e5-7145-4898-9feb-43b8ee97bd3a', 'level1cpdiidentifier': 'S2A_OPER_MSI_L1C_TL_MTI__20160715T214437_A005556_T19QFA_N02.04', 'granuleidentifier': 'S2A_OPER_MSI_L1C_TL_MTI__20160715T214437_A005556_T19QFA_N02.04', 'datastripidentifier': 'S2A_OPER_MSI_L1C_DS_MTI__20160715T214437_S20160715T151707_N02.04'}), ('11cf13bf-1728-45f8-abc0-78e37ed5b905', {'title': 'S2A_MSIL1C_20160722T150722_N0204_R082_T19QFA_20160722T150724', 'link': \"https://scihub.copernicus.eu/dhus/odata/v1/Products('11cf13bf-1728-45f8-abc0-78e37ed5b905')/$value\", 'link_alternative': \"https://scihub.copernicus.eu/dhus/odata/v1/Products('11cf13bf-1728-45f8-abc0-78e37ed5b905')/\", 'link_icon': \"https://scihub.copernicus.eu/dhus/odata/v1/Products('11cf13bf-1728-45f8-abc0-78e37ed5b905')/Products('Quicklook')/$value\", 'summary': 'Date: 2016-07-22T15:07:22.026Z, Instrument: MSI, Mode: , Satellite: Sentinel-2, Size: 633.57 MB', 'datatakesensingstart': datetime.datetime(2016, 7, 22, 15, 7, 22, 26000), 'beginposition': datetime.datetime(2016, 7, 22, 15, 7, 22, 26000), 'endposition': datetime.datetime(2016, 7, 22, 15, 7, 22, 26000), 'ingestiondate': datetime.datetime(2018, 10, 11, 19, 13, 34, 577000), 'orbitnumber': 5656, 'relativeorbitnumber': 82, 'cloudcoverpercentage': 0.4989, 'gmlfootprint': '<gml:Polygon srsName=\"http://www.opengis.net/gml/srs/epsg.xml#4326\" xmlns:gml=\"http://www.opengis.net/gml\">\\n   <gml:outerBoundaryIs>\\n      <gml:LinearRing>\\n         <gml:coordinates>18.168832752154678,-68.05448584776828 18.236794649835115,-68.03898697008178 18.385195687446643,-68.00512745316107 18.533677002517045,-67.97124504044466 18.682257942468844,-67.93733090133674 18.830858206007125,-67.90337213577811 18.97939239674427,-67.86937511883929 18.988630827956772,-67.86725823863782 18.981793161923456,-67.00718446257054 17.990000986139343,-67.01861969977483 17.997828463102906,-68.05542593251185 18.168832752154678,-68.05448584776828</gml:coordinates>\\n      </gml:LinearRing>\\n   </gml:outerBoundaryIs>\\n</gml:Polygon>', 'format': 'SAFE', 'instrumentshortname': 'MSI', 'sensoroperationalmode': 'INS-NOBS', 'instrumentname': 'Multi-Spectral Instrument', 'footprint': 'MULTIPOLYGON (((-68.05448584776828 18.168832752154678, -68.05542593251185 17.997828463102906, -67.01861969977483 17.990000986139343, -67.00718446257054 18.981793161923456, -67.86725823863782 18.988630827956772, -67.86937511883929 18.97939239674427, -67.90337213577811 18.830858206007125, -67.93733090133674 18.682257942468844, -67.97124504044466 18.533677002517045, -68.00512745316107 18.385195687446643, -68.03898697008178 18.236794649835115, -68.05448584776828 18.168832752154678)))', 's2datatakeid': 'GS2A_20160722T150722_005656_N02.04', 'platformidentifier': '2015-028A', 'orbitdirection': 'DESCENDING', 'platformserialidentifier': 'Sentinel-2A', 'processingbaseline': '02.04', 'processinglevel': 'Level-1C', 'producttype': 'S2MSI1C', 'platformname': 'Sentinel-2', 'size': '633.57 MB', 'tileid': '19QFA', 'hv_order_tileid': 'QA19F', 'filename': 'S2A_MSIL1C_20160722T150722_N0204_R082_T19QFA_20160722T150724.SAFE', 'identifier': 'S2A_MSIL1C_20160722T150722_N0204_R082_T19QFA_20160722T150724', 'uuid': '11cf13bf-1728-45f8-abc0-78e37ed5b905', 'level1cpdiidentifier': 'S2A_OPER_MSI_L1C_TL_SGS__20160722T201138_A005656_T19QFA_N02.04', 'granuleidentifier': 'S2A_OPER_MSI_L1C_TL_SGS__20160722T201138_A005656_T19QFA_N02.04', 'datastripidentifier': 'S2A_OPER_MSI_L1C_DS_SGS__20160722T201138_S20160722T150724_N02.04'}), ('bcd8f556-8a1a-46a5-9462-e6d994b1b764', {'title': 'S2A_MSIL1C_20160722T150722_N0204_R082_T19QGA_20160722T150724', 'link': \"https://scihub.copernicus.eu/dhus/odata/v1/Products('bcd8f556-8a1a-46a5-9462-e6d994b1b764')/$value\", 'link_alternative': \"https://scihub.copernicus.eu/dhus/odata/v1/Products('bcd8f556-8a1a-46a5-9462-e6d994b1b764')/\", 'link_icon': \"https://scihub.copernicus.eu/dhus/odata/v1/Products('bcd8f556-8a1a-46a5-9462-e6d994b1b764')/Products('Quicklook')/$value\", 'summary': 'Date: 2016-07-22T15:07:22.026Z, Instrument: MSI, Mode: , Satellite: Sentinel-2, Size: 779.84 MB', 'datatakesensingstart': datetime.datetime(2016, 7, 22, 15, 7, 22, 26000), 'beginposition': datetime.datetime(2016, 7, 22, 15, 7, 22, 26000), 'endposition': datetime.datetime(2016, 7, 22, 15, 7, 22, 26000), 'ingestiondate': datetime.datetime(2018, 10, 11, 19, 13, 17, 22000), 'orbitnumber': 5656, 'relativeorbitnumber': 82, 'cloudcoverpercentage': 6.7159, 'gmlfootprint': '<gml:Polygon srsName=\"http://www.opengis.net/gml/srs/epsg.xml#4326\" xmlns:gml=\"http://www.opengis.net/gml\">\\n   <gml:outerBoundaryIs>\\n      <gml:LinearRing>\\n         <gml:coordinates>18.982775510725237,-67.10061213854715 18.969147645399925,-66.05847745427943 17.978061280667518,-66.07534068336197 17.99092850103495,-67.11151206431032 18.982775510725237,-67.10061213854715</gml:coordinates>\\n      </gml:LinearRing>\\n   </gml:outerBoundaryIs>\\n</gml:Polygon>', 'format': 'SAFE', 'instrumentshortname': 'MSI', 'sensoroperationalmode': 'INS-NOBS', 'instrumentname': 'Multi-Spectral Instrument', 'footprint': 'MULTIPOLYGON (((-67.10061213854715 18.982775510725237, -67.11151206431032 17.99092850103495, -66.07534068336197 17.978061280667518, -66.05847745427943 18.969147645399925, -67.10061213854715 18.982775510725237)))', 's2datatakeid': 'GS2A_20160722T150722_005656_N02.04', 'platformidentifier': '2015-028A', 'orbitdirection': 'DESCENDING', 'platformserialidentifier': 'Sentinel-2A', 'processingbaseline': '02.04', 'processinglevel': 'Level-1C', 'producttype': 'S2MSI1C', 'platformname': 'Sentinel-2', 'size': '779.84 MB', 'tileid': '19QGA', 'hv_order_tileid': 'QA19G', 'filename': 'S2A_MSIL1C_20160722T150722_N0204_R082_T19QGA_20160722T150724.SAFE', 'identifier': 'S2A_MSIL1C_20160722T150722_N0204_R082_T19QGA_20160722T150724', 'uuid': 'bcd8f556-8a1a-46a5-9462-e6d994b1b764', 'level1cpdiidentifier': 'S2A_OPER_MSI_L1C_TL_SGS__20160722T201138_A005656_T19QGA_N02.04', 'granuleidentifier': 'S2A_OPER_MSI_L1C_TL_SGS__20160722T201138_A005656_T19QGA_N02.04', 'datastripidentifier': 'S2A_OPER_MSI_L1C_DS_SGS__20160722T201138_S20160722T150724_N02.04'})])"
     ]
    },
    {
     "name": "stdout",
     "output_type": "stream",
     "text": [
      "\n"
     ]
    }
   ],
   "source": [
    "#search for image\n",
    "may_aug_products = api.query(footprint,\n",
    "                     date = ('20160501', '20160801'),\n",
    "                     platformname = 'Sentinel-2',\n",
    "                     processinglevel = 'Level-1c',\n",
    "                     cloudcoverpercentage = (0, 12))\n",
    "print(may_aug_products)"
   ]
  },
  {
   "cell_type": "code",
   "execution_count": 11,
   "metadata": {},
   "outputs": [
    {
     "name": "stdout",
     "output_type": "stream",
     "text": [
      "8\n"
     ]
    }
   ],
   "source": [
    "aug_dec_products = api.query(footprint,\n",
    "                     date = ('20160801', '20161231'),\n",
    "                     platformname = 'Sentinel-2',\n",
    "                     processinglevel = 'Level-1c',\n",
    "                     cloudcoverpercentage = (0, 7))\n",
    "print(len(aug_dec_products))"
   ]
  },
  {
   "cell_type": "code",
   "execution_count": 74,
   "metadata": {},
   "outputs": [
    {
     "name": "stderr",
     "output_type": "stream",
     "text": [
      "Product 8c4dfcd6-e229-4c7a-8d80-1d40d2bea81a is not online. Triggering retrieval from long term archive.\n",
      "Trying to download an offline product\n"
     ]
    },
    {
     "ename": "SentinelAPILTAError",
     "evalue": "HTTP status 500 Internal Server Error: Trying to download an offline product",
     "output_type": "error",
     "traceback": [
      "\u001b[1;31m---------------------------------------------------------------------------\u001b[0m",
      "\u001b[1;31mSentinelAPILTAError\u001b[0m                       Traceback (most recent call last)",
      "\u001b[1;32m<ipython-input-74-119808e49994>\u001b[0m in \u001b[0;36m<module>\u001b[1;34m\u001b[0m\n\u001b[1;32m----> 1\u001b[1;33m \u001b[0mapi\u001b[0m\u001b[1;33m.\u001b[0m\u001b[0mdownload\u001b[0m\u001b[1;33m(\u001b[0m\u001b[1;34m'8c4dfcd6-e229-4c7a-8d80-1d40d2bea81a'\u001b[0m\u001b[1;33m)\u001b[0m\u001b[1;31m#novproduct* still needs download\u001b[0m\u001b[1;33m\u001b[0m\u001b[1;33m\u001b[0m\u001b[0m\n\u001b[0m",
      "\u001b[1;32mC:\\Python\\lib\\site-packages\\sentinelsat\\sentinel.py\u001b[0m in \u001b[0;36mdownload\u001b[1;34m(self, id, directory_path, checksum)\u001b[0m\n\u001b[0;32m    507\u001b[0m                 \u001b[1;34m'Product %s is not online. Triggering retrieval from long term archive.'\u001b[0m\u001b[1;33m,\u001b[0m\u001b[1;33m\u001b[0m\u001b[1;33m\u001b[0m\u001b[0m\n\u001b[0;32m    508\u001b[0m                 product_info['id'])\n\u001b[1;32m--> 509\u001b[1;33m             \u001b[0mself\u001b[0m\u001b[1;33m.\u001b[0m\u001b[0m_trigger_offline_retrieval\u001b[0m\u001b[1;33m(\u001b[0m\u001b[0mproduct_info\u001b[0m\u001b[1;33m[\u001b[0m\u001b[1;34m'url'\u001b[0m\u001b[1;33m]\u001b[0m\u001b[1;33m)\u001b[0m\u001b[1;33m\u001b[0m\u001b[1;33m\u001b[0m\u001b[0m\n\u001b[0m\u001b[0;32m    510\u001b[0m             \u001b[1;32mreturn\u001b[0m \u001b[0mproduct_info\u001b[0m\u001b[1;33m\u001b[0m\u001b[1;33m\u001b[0m\u001b[0m\n\u001b[0;32m    511\u001b[0m \u001b[1;33m\u001b[0m\u001b[0m\n",
      "\u001b[1;32mC:\\Python\\lib\\site-packages\\sentinelsat\\sentinel.py\u001b[0m in \u001b[0;36m_trigger_offline_retrieval\u001b[1;34m(self, url)\u001b[0m\n\u001b[0;32m    458\u001b[0m                 \u001b[1;31m# should not happen\u001b[0m\u001b[1;33m\u001b[0m\u001b[1;33m\u001b[0m\u001b[1;33m\u001b[0m\u001b[0m\n\u001b[0;32m    459\u001b[0m                 \u001b[0mself\u001b[0m\u001b[1;33m.\u001b[0m\u001b[0mlogger\u001b[0m\u001b[1;33m.\u001b[0m\u001b[0merror\u001b[0m\u001b[1;33m(\u001b[0m\u001b[1;34m\"Trying to download an offline product\"\u001b[0m\u001b[1;33m)\u001b[0m\u001b[1;33m\u001b[0m\u001b[1;33m\u001b[0m\u001b[0m\n\u001b[1;32m--> 460\u001b[1;33m                 \u001b[1;32mraise\u001b[0m \u001b[0mSentinelAPILTAError\u001b[0m\u001b[1;33m(\u001b[0m\u001b[1;34m'Trying to download an offline product'\u001b[0m\u001b[1;33m,\u001b[0m \u001b[0mr\u001b[0m\u001b[1;33m)\u001b[0m\u001b[1;33m\u001b[0m\u001b[1;33m\u001b[0m\u001b[0m\n\u001b[0m\u001b[0;32m    461\u001b[0m             \u001b[1;32mreturn\u001b[0m \u001b[0mr\u001b[0m\u001b[1;33m.\u001b[0m\u001b[0mstatus_code\u001b[0m\u001b[1;33m\u001b[0m\u001b[1;33m\u001b[0m\u001b[0m\n\u001b[0;32m    462\u001b[0m \u001b[1;33m\u001b[0m\u001b[0m\n",
      "\u001b[1;31mSentinelAPILTAError\u001b[0m: HTTP status 500 Internal Server Error: Trying to download an offline product"
     ]
    }
   ],
   "source": [
    "api.download('8c4dfcd6-e229-4c7a-8d80-1d40d2bea81a')#novproduct* still needs download"
   ]
  },
  {
   "cell_type": "code",
   "execution_count": 132,
   "metadata": {},
   "outputs": [
    {
     "name": "stdout",
     "output_type": "stream",
     "text": [
      "8\n"
     ]
    }
   ],
   "source": [
    "jan_march_2017products = api.query(footprint,\n",
    "                     date = ('20170101', '20170331'),\n",
    "                     platformname = 'Sentinel-2',\n",
    "                     processinglevel = 'Level-1c',\n",
    "                     cloudcoverpercentage = (0, 7))\n",
    "print(len(jan_march_2017products))"
   ]
  },
  {
   "cell_type": "code",
   "execution_count": 13,
   "metadata": {},
   "outputs": [
    {
     "name": "stdout",
     "output_type": "stream",
     "text": [
      "12\n"
     ]
    }
   ],
   "source": [
    "april_aug2017products = api.query(footprint,\n",
    "                     date = ('20170401', '20170831'),\n",
    "                     platformname = 'Sentinel-2',\n",
    "                     processinglevel = 'Level-1c',\n",
    "                     cloudcoverpercentage = (0, 10))\n",
    "print(len(april_aug2017products))"
   ]
  },
  {
   "cell_type": "code",
   "execution_count": 75,
   "metadata": {},
   "outputs": [
    {
     "name": "stderr",
     "output_type": "stream",
     "text": [
      "Product 919501a2-3845-4580-bc35-a0b5a861aa90 is not online. Triggering retrieval from long term archive.\n",
      "Trying to download an offline product\n"
     ]
    },
    {
     "ename": "SentinelAPILTAError",
     "evalue": "HTTP status 500 Internal Server Error: Trying to download an offline product",
     "output_type": "error",
     "traceback": [
      "\u001b[1;31m---------------------------------------------------------------------------\u001b[0m",
      "\u001b[1;31mSentinelAPILTAError\u001b[0m                       Traceback (most recent call last)",
      "\u001b[1;32m<ipython-input-75-7c181f91effd>\u001b[0m in \u001b[0;36m<module>\u001b[1;34m\u001b[0m\n\u001b[1;32m----> 1\u001b[1;33m \u001b[0mapi\u001b[0m\u001b[1;33m.\u001b[0m\u001b[0mdownload\u001b[0m\u001b[1;33m(\u001b[0m\u001b[1;34m'919501a2-3845-4580-bc35-a0b5a861aa90'\u001b[0m\u001b[1;33m)\u001b[0m\u001b[1;33m\u001b[0m\u001b[1;33m\u001b[0m\u001b[0m\n\u001b[0m",
      "\u001b[1;32mC:\\Python\\lib\\site-packages\\sentinelsat\\sentinel.py\u001b[0m in \u001b[0;36mdownload\u001b[1;34m(self, id, directory_path, checksum)\u001b[0m\n\u001b[0;32m    507\u001b[0m                 \u001b[1;34m'Product %s is not online. Triggering retrieval from long term archive.'\u001b[0m\u001b[1;33m,\u001b[0m\u001b[1;33m\u001b[0m\u001b[1;33m\u001b[0m\u001b[0m\n\u001b[0;32m    508\u001b[0m                 product_info['id'])\n\u001b[1;32m--> 509\u001b[1;33m             \u001b[0mself\u001b[0m\u001b[1;33m.\u001b[0m\u001b[0m_trigger_offline_retrieval\u001b[0m\u001b[1;33m(\u001b[0m\u001b[0mproduct_info\u001b[0m\u001b[1;33m[\u001b[0m\u001b[1;34m'url'\u001b[0m\u001b[1;33m]\u001b[0m\u001b[1;33m)\u001b[0m\u001b[1;33m\u001b[0m\u001b[1;33m\u001b[0m\u001b[0m\n\u001b[0m\u001b[0;32m    510\u001b[0m             \u001b[1;32mreturn\u001b[0m \u001b[0mproduct_info\u001b[0m\u001b[1;33m\u001b[0m\u001b[1;33m\u001b[0m\u001b[0m\n\u001b[0;32m    511\u001b[0m \u001b[1;33m\u001b[0m\u001b[0m\n",
      "\u001b[1;32mC:\\Python\\lib\\site-packages\\sentinelsat\\sentinel.py\u001b[0m in \u001b[0;36m_trigger_offline_retrieval\u001b[1;34m(self, url)\u001b[0m\n\u001b[0;32m    458\u001b[0m                 \u001b[1;31m# should not happen\u001b[0m\u001b[1;33m\u001b[0m\u001b[1;33m\u001b[0m\u001b[1;33m\u001b[0m\u001b[0m\n\u001b[0;32m    459\u001b[0m                 \u001b[0mself\u001b[0m\u001b[1;33m.\u001b[0m\u001b[0mlogger\u001b[0m\u001b[1;33m.\u001b[0m\u001b[0merror\u001b[0m\u001b[1;33m(\u001b[0m\u001b[1;34m\"Trying to download an offline product\"\u001b[0m\u001b[1;33m)\u001b[0m\u001b[1;33m\u001b[0m\u001b[1;33m\u001b[0m\u001b[0m\n\u001b[1;32m--> 460\u001b[1;33m                 \u001b[1;32mraise\u001b[0m \u001b[0mSentinelAPILTAError\u001b[0m\u001b[1;33m(\u001b[0m\u001b[1;34m'Trying to download an offline product'\u001b[0m\u001b[1;33m,\u001b[0m \u001b[0mr\u001b[0m\u001b[1;33m)\u001b[0m\u001b[1;33m\u001b[0m\u001b[1;33m\u001b[0m\u001b[0m\n\u001b[0m\u001b[0;32m    461\u001b[0m             \u001b[1;32mreturn\u001b[0m \u001b[0mr\u001b[0m\u001b[1;33m.\u001b[0m\u001b[0mstatus_code\u001b[0m\u001b[1;33m\u001b[0m\u001b[1;33m\u001b[0m\u001b[0m\n\u001b[0;32m    462\u001b[0m \u001b[1;33m\u001b[0m\u001b[0m\n",
      "\u001b[1;31mSentinelAPILTAError\u001b[0m: HTTP status 500 Internal Server Error: Trying to download an offline product"
     ]
    }
   ],
   "source": [
    "api.download('919501a2-3845-4580-bc35-a0b5a861aa90')"
   ]
  },
  {
   "cell_type": "markdown",
   "metadata": {},
   "source": []
  },
  {
   "cell_type": "code",
   "execution_count": 76,
   "metadata": {},
   "outputs": [
    {
     "name": "stderr",
     "output_type": "stream",
     "text": [
      "Product 30b8911f-2b77-4d65-a12d-c4213b9f4a75 is not online. Triggering retrieval from long term archive.\n",
      "Trying to download an offline product\n"
     ]
    },
    {
     "ename": "SentinelAPILTAError",
     "evalue": "HTTP status 500 Internal Server Error: Trying to download an offline product",
     "output_type": "error",
     "traceback": [
      "\u001b[1;31m---------------------------------------------------------------------------\u001b[0m",
      "\u001b[1;31mSentinelAPILTAError\u001b[0m                       Traceback (most recent call last)",
      "\u001b[1;32m<ipython-input-76-5b456a5c2ad6>\u001b[0m in \u001b[0;36m<module>\u001b[1;34m\u001b[0m\n\u001b[1;32m----> 1\u001b[1;33m \u001b[0mapi\u001b[0m\u001b[1;33m.\u001b[0m\u001b[0mdownload\u001b[0m\u001b[1;33m(\u001b[0m\u001b[1;34m'30b8911f-2b77-4d65-a12d-c4213b9f4a75'\u001b[0m\u001b[1;33m)\u001b[0m \u001b[1;31m#jan_product#stillneedstodownload\u001b[0m\u001b[1;33m\u001b[0m\u001b[1;33m\u001b[0m\u001b[0m\n\u001b[0m",
      "\u001b[1;32mC:\\Python\\lib\\site-packages\\sentinelsat\\sentinel.py\u001b[0m in \u001b[0;36mdownload\u001b[1;34m(self, id, directory_path, checksum)\u001b[0m\n\u001b[0;32m    507\u001b[0m                 \u001b[1;34m'Product %s is not online. Triggering retrieval from long term archive.'\u001b[0m\u001b[1;33m,\u001b[0m\u001b[1;33m\u001b[0m\u001b[1;33m\u001b[0m\u001b[0m\n\u001b[0;32m    508\u001b[0m                 product_info['id'])\n\u001b[1;32m--> 509\u001b[1;33m             \u001b[0mself\u001b[0m\u001b[1;33m.\u001b[0m\u001b[0m_trigger_offline_retrieval\u001b[0m\u001b[1;33m(\u001b[0m\u001b[0mproduct_info\u001b[0m\u001b[1;33m[\u001b[0m\u001b[1;34m'url'\u001b[0m\u001b[1;33m]\u001b[0m\u001b[1;33m)\u001b[0m\u001b[1;33m\u001b[0m\u001b[1;33m\u001b[0m\u001b[0m\n\u001b[0m\u001b[0;32m    510\u001b[0m             \u001b[1;32mreturn\u001b[0m \u001b[0mproduct_info\u001b[0m\u001b[1;33m\u001b[0m\u001b[1;33m\u001b[0m\u001b[0m\n\u001b[0;32m    511\u001b[0m \u001b[1;33m\u001b[0m\u001b[0m\n",
      "\u001b[1;32mC:\\Python\\lib\\site-packages\\sentinelsat\\sentinel.py\u001b[0m in \u001b[0;36m_trigger_offline_retrieval\u001b[1;34m(self, url)\u001b[0m\n\u001b[0;32m    458\u001b[0m                 \u001b[1;31m# should not happen\u001b[0m\u001b[1;33m\u001b[0m\u001b[1;33m\u001b[0m\u001b[1;33m\u001b[0m\u001b[0m\n\u001b[0;32m    459\u001b[0m                 \u001b[0mself\u001b[0m\u001b[1;33m.\u001b[0m\u001b[0mlogger\u001b[0m\u001b[1;33m.\u001b[0m\u001b[0merror\u001b[0m\u001b[1;33m(\u001b[0m\u001b[1;34m\"Trying to download an offline product\"\u001b[0m\u001b[1;33m)\u001b[0m\u001b[1;33m\u001b[0m\u001b[1;33m\u001b[0m\u001b[0m\n\u001b[1;32m--> 460\u001b[1;33m                 \u001b[1;32mraise\u001b[0m \u001b[0mSentinelAPILTAError\u001b[0m\u001b[1;33m(\u001b[0m\u001b[1;34m'Trying to download an offline product'\u001b[0m\u001b[1;33m,\u001b[0m \u001b[0mr\u001b[0m\u001b[1;33m)\u001b[0m\u001b[1;33m\u001b[0m\u001b[1;33m\u001b[0m\u001b[0m\n\u001b[0m\u001b[0;32m    461\u001b[0m             \u001b[1;32mreturn\u001b[0m \u001b[0mr\u001b[0m\u001b[1;33m.\u001b[0m\u001b[0mstatus_code\u001b[0m\u001b[1;33m\u001b[0m\u001b[1;33m\u001b[0m\u001b[0m\n\u001b[0;32m    462\u001b[0m \u001b[1;33m\u001b[0m\u001b[0m\n",
      "\u001b[1;31mSentinelAPILTAError\u001b[0m: HTTP status 500 Internal Server Error: Trying to download an offline product"
     ]
    }
   ],
   "source": [
    "api.download('30b8911f-2b77-4d65-a12d-c4213b9f4a75') #jan_product#stillneedstodownload"
   ]
  },
  {
   "cell_type": "code",
   "execution_count": 141,
   "metadata": {
    "scrolled": true
   },
   "outputs": [
    {
     "data": {
      "text/plain": [
       "e449ca44-35a0-46d5-856f-7a11efcea22b    Annotation(-67.5374, 18.3051, 'e449ca44-35a0-4...\n",
       "9aa2ef3f-062a-41ca-8a2b-06eed44bb4ba    Annotation(-67.5002, 18.4735, '9aa2ef3f-062a-4...\n",
       "c24a0e6b-fceb-4e57-80b0-471f5e9bc2ef    Annotation(-67.4987, 18.4731, 'c24a0e6b-fceb-4...\n",
       "166cb79a-7f29-4750-9a2c-940743c957b5    Annotation(-67.5386, 18.3005, '166cb79a-7f29-4...\n",
       "7d073ec7-2358-4644-a14c-51bdc6fca9c8    Annotation(-67.5284, 18.3375, '7d073ec7-2358-4...\n",
       "73a86405-1f98-45de-ba9a-627e9827b42e    Annotation(-67.4958, 18.4724, '73a86405-1f98-4...\n",
       "573f8a5c-c94e-413f-9547-b1629e072f1d    Annotation(-67.5001, 18.4735, '573f8a5c-c94e-4...\n",
       "c6ec6a95-e145-461b-b017-37b4fb1773af    Annotation(-67.5233, 18.3416, 'c6ec6a95-e145-4...\n",
       "1bf75c83-d515-4fa1-a69d-f37d513d527c    Annotation(-67.4966, 18.4726, '1bf75c83-d515-4...\n",
       "b2972b2e-2b89-4a00-80fe-0bb51a5dd77c    Annotation(-67.5292, 18.3409, 'b2972b2e-2b89-4...\n",
       "919501a2-3845-4580-bc35-a0b5a861aa90    Annotation(-66.5865, 18.4807, '919501a2-3845-4...\n",
       "3d592bdd-bcbf-453b-9e9f-a514b4006f95    Annotation(-67.4966, 18.4726, '3d592bdd-bcbf-4...\n",
       "dtype: object"
      ]
     },
     "execution_count": 141,
     "metadata": {},
     "output_type": "execute_result"
    },
    {
     "data": {
      "image/png": "[encoded data removed]",
      "text/plain": [
       "<Figure size 432x288 with 1 Axes>"
      ]
     },
     "metadata": {
      "needs_background": "light"
     },
     "output_type": "display_data"
    },
    {
     "data": {
      "image/png": "[encoded data removed]",
      "text/plain": [
       "<Figure size 1440x1440 with 1 Axes>"
      ]
     },
     "metadata": {
      "needs_background": "light"
     },
     "output_type": "display_data"
    }
   ],
   "source": [
    "areas = api.to_geodataframe(april_aug2017products)\n",
    "areas.plot(column='uuid', cmap=None)\n",
    "ax = areas.plot(column = 'uuid', cmap = None, figsize = (20,20))\n",
    "areas.apply(lambda x: ax.annotate(s=x.uuid, xy = x.geometry.centroid.coords[0], ha = 'center'), axis =1)"
   ]
  },
  {
   "cell_type": "code",
   "execution_count": 143,
   "metadata": {
    "scrolled": false
   },
   "outputs": [
    {
     "data": {
      "image/png": "[encoded data removed]",
      "text/plain": [
       "<Figure size 432x288 with 1 Axes>"
      ]
     },
     "metadata": {
      "needs_background": "light"
     },
     "output_type": "display_data"
    },
    {
     "name": "stdout",
     "output_type": "stream",
     "text": [
      "                                                                                  title  \\\n",
      "7d073ec7-2358-4644-a14c-51bdc6fca9c8  S2A_MSIL1C_20170727T150751_N0205_R082_T19QFA_2...   \n",
      "3d592bdd-bcbf-453b-9e9f-a514b4006f95  S2A_MSIL1C_20170408T150721_N0204_R082_T19QFA_2...   \n",
      "c24a0e6b-fceb-4e57-80b0-471f5e9bc2ef  S2A_MSIL1C_20170806T150721_N0205_R082_T19QFA_2...   \n",
      "b2972b2e-2b89-4a00-80fe-0bb51a5dd77c  S2A_MSIL1C_20170528T150751_N0205_R082_T19QFA_2...   \n",
      "73a86405-1f98-45de-ba9a-627e9827b42e  S2A_MSIL1C_20170717T150721_N0205_R082_T19QFA_2...   \n",
      "166cb79a-7f29-4750-9a2c-940743c957b5  S2B_MSIL1C_20170722T150749_N0205_R082_T19QFA_2...   \n",
      "1bf75c83-d515-4fa1-a69d-f37d513d527c  S2A_MSIL1C_20170607T150721_N0205_R082_T19QFA_2...   \n",
      "9aa2ef3f-062a-41ca-8a2b-06eed44bb4ba  S2A_MSIL1C_20170826T150721_N0205_R082_T19QFA_2...   \n",
      "573f8a5c-c94e-413f-9547-b1629e072f1d  S2B_MSIL1C_20170712T150719_N0205_R082_T19QFA_2...   \n",
      "e449ca44-35a0-46d5-856f-7a11efcea22b  S2B_MSIL1C_20170811T150739_N0205_R082_T19QFA_2...   \n",
      "919501a2-3845-4580-bc35-a0b5a861aa90  S2A_MSIL1C_20170408T150721_N0204_R082_T19QGA_2...   \n",
      "c6ec6a95-e145-461b-b017-37b4fb1773af  S2A_MSIL1C_20170707T150741_N0205_R082_T19QFA_2...   \n",
      "\n",
      "                                                                                   link  \\\n",
      "7d073ec7-2358-4644-a14c-51bdc6fca9c8  https://scihub.copernicus.eu/dhus/odata/v1/Pro...   \n",
      "3d592bdd-bcbf-453b-9e9f-a514b4006f95  https://scihub.copernicus.eu/dhus/odata/v1/Pro...   \n",
      "c24a0e6b-fceb-4e57-80b0-471f5e9bc2ef  https://scihub.copernicus.eu/dhus/odata/v1/Pro...   \n",
      "b2972b2e-2b89-4a00-80fe-0bb51a5dd77c  https://scihub.copernicus.eu/dhus/odata/v1/Pro...   \n",
      "73a86405-1f98-45de-ba9a-627e9827b42e  https://scihub.copernicus.eu/dhus/odata/v1/Pro...   \n",
      "166cb79a-7f29-4750-9a2c-940743c957b5  https://scihub.copernicus.eu/dhus/odata/v1/Pro...   \n",
      "1bf75c83-d515-4fa1-a69d-f37d513d527c  https://scihub.copernicus.eu/dhus/odata/v1/Pro...   \n",
      "9aa2ef3f-062a-41ca-8a2b-06eed44bb4ba  https://scihub.copernicus.eu/dhus/odata/v1/Pro...   \n",
      "573f8a5c-c94e-413f-9547-b1629e072f1d  https://scihub.copernicus.eu/dhus/odata/v1/Pro...   \n",
      "e449ca44-35a0-46d5-856f-7a11efcea22b  https://scihub.copernicus.eu/dhus/odata/v1/Pro...   \n",
      "919501a2-3845-4580-bc35-a0b5a861aa90  https://scihub.copernicus.eu/dhus/odata/v1/Pro...   \n",
      "c6ec6a95-e145-461b-b017-37b4fb1773af  https://scihub.copernicus.eu/dhus/odata/v1/Pro...   \n",
      "\n",
      "                                                                       link_alternative  \\\n",
      "7d073ec7-2358-4644-a14c-51bdc6fca9c8  https://scihub.copernicus.eu/dhus/odata/v1/Pro...   \n",
      "3d592bdd-bcbf-453b-9e9f-a514b4006f95  https://scihub.copernicus.eu/dhus/odata/v1/Pro...   \n",
      "c24a0e6b-fceb-4e57-80b0-471f5e9bc2ef  https://scihub.copernicus.eu/dhus/odata/v1/Pro...   \n",
      "b2972b2e-2b89-4a00-80fe-0bb51a5dd77c  https://scihub.copernicus.eu/dhus/odata/v1/Pro...   \n",
      "73a86405-1f98-45de-ba9a-627e9827b42e  https://scihub.copernicus.eu/dhus/odata/v1/Pro...   \n",
      "166cb79a-7f29-4750-9a2c-940743c957b5  https://scihub.copernicus.eu/dhus/odata/v1/Pro...   \n",
      "1bf75c83-d515-4fa1-a69d-f37d513d527c  https://scihub.copernicus.eu/dhus/odata/v1/Pro...   \n",
      "9aa2ef3f-062a-41ca-8a2b-06eed44bb4ba  https://scihub.copernicus.eu/dhus/odata/v1/Pro...   \n",
      "573f8a5c-c94e-413f-9547-b1629e072f1d  https://scihub.copernicus.eu/dhus/odata/v1/Pro...   \n",
      "e449ca44-35a0-46d5-856f-7a11efcea22b  https://scihub.copernicus.eu/dhus/odata/v1/Pro...   \n",
      "919501a2-3845-4580-bc35-a0b5a861aa90  https://scihub.copernicus.eu/dhus/odata/v1/Pro...   \n",
      "c6ec6a95-e145-461b-b017-37b4fb1773af  https://scihub.copernicus.eu/dhus/odata/v1/Pro...   \n",
      "\n",
      "                                                                              link_icon  \\\n",
      "7d073ec7-2358-4644-a14c-51bdc6fca9c8  https://scihub.copernicus.eu/dhus/odata/v1/Pro...   \n",
      "3d592bdd-bcbf-453b-9e9f-a514b4006f95  https://scihub.copernicus.eu/dhus/odata/v1/Pro...   \n",
      "c24a0e6b-fceb-4e57-80b0-471f5e9bc2ef  https://scihub.copernicus.eu/dhus/odata/v1/Pro...   \n",
      "b2972b2e-2b89-4a00-80fe-0bb51a5dd77c  https://scihub.copernicus.eu/dhus/odata/v1/Pro...   \n",
      "73a86405-1f98-45de-ba9a-627e9827b42e  https://scihub.copernicus.eu/dhus/odata/v1/Pro...   \n",
      "166cb79a-7f29-4750-9a2c-940743c957b5  https://scihub.copernicus.eu/dhus/odata/v1/Pro...   \n",
      "1bf75c83-d515-4fa1-a69d-f37d513d527c  https://scihub.copernicus.eu/dhus/odata/v1/Pro...   \n",
      "9aa2ef3f-062a-41ca-8a2b-06eed44bb4ba  https://scihub.copernicus.eu/dhus/odata/v1/Pro...   \n",
      "573f8a5c-c94e-413f-9547-b1629e072f1d  https://scihub.copernicus.eu/dhus/odata/v1/Pro...   \n",
      "e449ca44-35a0-46d5-856f-7a11efcea22b  https://scihub.copernicus.eu/dhus/odata/v1/Pro...   \n",
      "919501a2-3845-4580-bc35-a0b5a861aa90  https://scihub.copernicus.eu/dhus/odata/v1/Pro...   \n",
      "c6ec6a95-e145-461b-b017-37b4fb1773af  https://scihub.copernicus.eu/dhus/odata/v1/Pro...   \n",
      "\n",
      "                                                                                summary  \\\n",
      "7d073ec7-2358-4644-a14c-51bdc6fca9c8  Date: 2017-07-27T15:07:51.026Z, Instrument: MS...   \n",
      "3d592bdd-bcbf-453b-9e9f-a514b4006f95  Date: 2017-04-08T15:07:21.026Z, Instrument: MS...   \n",
      "c24a0e6b-fceb-4e57-80b0-471f5e9bc2ef  Date: 2017-08-06T15:07:21.026Z, Instrument: MS...   \n",
      "b2972b2e-2b89-4a00-80fe-0bb51a5dd77c  Date: 2017-05-28T15:07:51.026Z, Instrument: MS...   \n",
      "73a86405-1f98-45de-ba9a-627e9827b42e  Date: 2017-07-17T15:07:21.026Z, Instrument: MS...   \n",
      "166cb79a-7f29-4750-9a2c-940743c957b5  Date: 2017-07-22T15:07:49.027Z, Instrument: MS...   \n",
      "1bf75c83-d515-4fa1-a69d-f37d513d527c  Date: 2017-06-07T15:07:21.026Z, Instrument: MS...   \n",
      "9aa2ef3f-062a-41ca-8a2b-06eed44bb4ba  Date: 2017-08-26T15:07:21.026Z, Instrument: MS...   \n",
      "573f8a5c-c94e-413f-9547-b1629e072f1d  Date: 2017-07-12T15:07:19.027Z, Instrument: MS...   \n",
      "e449ca44-35a0-46d5-856f-7a11efcea22b  Date: 2017-08-11T15:07:39.027Z, Instrument: MS...   \n",
      "919501a2-3845-4580-bc35-a0b5a861aa90  Date: 2017-04-08T15:07:21.026Z, Instrument: MS...   \n",
      "c6ec6a95-e145-461b-b017-37b4fb1773af  Date: 2017-07-07T15:07:41.026Z, Instrument: MS...   \n",
      "\n",
      "                                        datatakesensingstart  \\\n",
      "7d073ec7-2358-4644-a14c-51bdc6fca9c8 2017-07-27 15:07:51.026   \n",
      "3d592bdd-bcbf-453b-9e9f-a514b4006f95                     NaT   \n",
      "c24a0e6b-fceb-4e57-80b0-471f5e9bc2ef 2017-08-06 15:07:21.026   \n",
      "b2972b2e-2b89-4a00-80fe-0bb51a5dd77c 2017-05-28 15:07:51.026   \n",
      "73a86405-1f98-45de-ba9a-627e9827b42e 2017-07-17 15:07:21.026   \n",
      "166cb79a-7f29-4750-9a2c-940743c957b5 2017-07-22 15:07:49.027   \n",
      "1bf75c83-d515-4fa1-a69d-f37d513d527c 2017-06-07 15:07:21.026   \n",
      "9aa2ef3f-062a-41ca-8a2b-06eed44bb4ba 2017-08-26 15:07:21.026   \n",
      "573f8a5c-c94e-413f-9547-b1629e072f1d 2017-07-12 15:07:19.027   \n",
      "e449ca44-35a0-46d5-856f-7a11efcea22b 2017-08-11 15:07:39.027   \n",
      "919501a2-3845-4580-bc35-a0b5a861aa90                     NaT   \n",
      "c6ec6a95-e145-461b-b017-37b4fb1773af 2017-07-07 15:07:41.026   \n",
      "\n",
      "                                               ingestiondate  \\\n",
      "7d073ec7-2358-4644-a14c-51bdc6fca9c8 2017-07-28 00:06:24.692   \n",
      "3d592bdd-bcbf-453b-9e9f-a514b4006f95 2017-04-08 21:57:32.941   \n",
      "c24a0e6b-fceb-4e57-80b0-471f5e9bc2ef 2017-08-06 21:06:30.049   \n",
      "b2972b2e-2b89-4a00-80fe-0bb51a5dd77c 2017-05-28 22:47:58.362   \n",
      "73a86405-1f98-45de-ba9a-627e9827b42e 2017-07-18 01:20:41.640   \n",
      "166cb79a-7f29-4750-9a2c-940743c957b5 2017-08-01 16:04:21.989   \n",
      "1bf75c83-d515-4fa1-a69d-f37d513d527c 2017-06-07 23:34:57.477   \n",
      "9aa2ef3f-062a-41ca-8a2b-06eed44bb4ba 2017-08-27 01:47:25.353   \n",
      "573f8a5c-c94e-413f-9547-b1629e072f1d 2017-07-15 12:26:21.150   \n",
      "e449ca44-35a0-46d5-856f-7a11efcea22b 2017-09-04 18:54:07.534   \n",
      "919501a2-3845-4580-bc35-a0b5a861aa90 2017-04-08 21:57:33.507   \n",
      "c6ec6a95-e145-461b-b017-37b4fb1773af 2017-07-08 16:56:58.933   \n",
      "\n",
      "                                               beginposition  \\\n",
      "7d073ec7-2358-4644-a14c-51bdc6fca9c8 2017-07-27 15:07:51.026   \n",
      "3d592bdd-bcbf-453b-9e9f-a514b4006f95 2017-04-08 15:07:21.026   \n",
      "c24a0e6b-fceb-4e57-80b0-471f5e9bc2ef 2017-08-06 15:07:21.026   \n",
      "b2972b2e-2b89-4a00-80fe-0bb51a5dd77c 2017-05-28 15:07:51.026   \n",
      "73a86405-1f98-45de-ba9a-627e9827b42e 2017-07-17 15:07:21.026   \n",
      "166cb79a-7f29-4750-9a2c-940743c957b5 2017-07-22 15:07:49.027   \n",
      "1bf75c83-d515-4fa1-a69d-f37d513d527c 2017-06-07 15:07:21.026   \n",
      "9aa2ef3f-062a-41ca-8a2b-06eed44bb4ba 2017-08-26 15:07:21.026   \n",
      "573f8a5c-c94e-413f-9547-b1629e072f1d 2017-07-12 15:07:19.027   \n",
      "e449ca44-35a0-46d5-856f-7a11efcea22b 2017-08-11 15:07:39.027   \n",
      "919501a2-3845-4580-bc35-a0b5a861aa90 2017-04-08 15:07:21.026   \n",
      "c6ec6a95-e145-461b-b017-37b4fb1773af 2017-07-07 15:07:41.026   \n",
      "\n",
      "                                                 endposition  orbitnumber  \\\n",
      "7d073ec7-2358-4644-a14c-51bdc6fca9c8 2017-07-27 15:07:51.026        10947   \n",
      "3d592bdd-bcbf-453b-9e9f-a514b4006f95 2017-04-08 15:07:21.026         9374   \n",
      "c24a0e6b-fceb-4e57-80b0-471f5e9bc2ef 2017-08-06 15:07:21.026        11090   \n",
      "b2972b2e-2b89-4a00-80fe-0bb51a5dd77c 2017-05-28 15:07:51.026        10089   \n",
      "73a86405-1f98-45de-ba9a-627e9827b42e 2017-07-17 15:07:21.026        10804   \n",
      "166cb79a-7f29-4750-9a2c-940743c957b5 2017-07-22 15:07:49.027         1967   \n",
      "1bf75c83-d515-4fa1-a69d-f37d513d527c 2017-06-07 15:07:21.026        10232   \n",
      "9aa2ef3f-062a-41ca-8a2b-06eed44bb4ba 2017-08-26 15:07:21.026        11376   \n",
      "573f8a5c-c94e-413f-9547-b1629e072f1d 2017-07-12 15:07:19.027         1824   \n",
      "e449ca44-35a0-46d5-856f-7a11efcea22b 2017-08-11 15:07:39.027         2253   \n",
      "919501a2-3845-4580-bc35-a0b5a861aa90 2017-04-08 15:07:21.026         9374   \n",
      "c6ec6a95-e145-461b-b017-37b4fb1773af 2017-07-07 15:07:41.026        10661   \n",
      "\n",
      "                                      ...  producttype  platformname  \\\n",
      "7d073ec7-2358-4644-a14c-51bdc6fca9c8  ...      S2MSI1C    Sentinel-2   \n",
      "3d592bdd-bcbf-453b-9e9f-a514b4006f95  ...      S2MSI1C    Sentinel-2   \n",
      "c24a0e6b-fceb-4e57-80b0-471f5e9bc2ef  ...      S2MSI1C    Sentinel-2   \n",
      "b2972b2e-2b89-4a00-80fe-0bb51a5dd77c  ...      S2MSI1C    Sentinel-2   \n",
      "73a86405-1f98-45de-ba9a-627e9827b42e  ...      S2MSI1C    Sentinel-2   \n",
      "166cb79a-7f29-4750-9a2c-940743c957b5  ...      S2MSI1C    Sentinel-2   \n",
      "1bf75c83-d515-4fa1-a69d-f37d513d527c  ...      S2MSI1C    Sentinel-2   \n",
      "9aa2ef3f-062a-41ca-8a2b-06eed44bb4ba  ...      S2MSI1C    Sentinel-2   \n",
      "573f8a5c-c94e-413f-9547-b1629e072f1d  ...      S2MSI1C    Sentinel-2   \n",
      "e449ca44-35a0-46d5-856f-7a11efcea22b  ...      S2MSI1C    Sentinel-2   \n",
      "919501a2-3845-4580-bc35-a0b5a861aa90  ...      S2MSI1C    Sentinel-2   \n",
      "c6ec6a95-e145-461b-b017-37b4fb1773af  ...      S2MSI1C    Sentinel-2   \n",
      "\n",
      "                                           size tileid hv_order_tileid  \\\n",
      "7d073ec7-2358-4644-a14c-51bdc6fca9c8  454.64 MB  19QFA           QA19F   \n",
      "3d592bdd-bcbf-453b-9e9f-a514b4006f95  621.81 MB    NaN             NaN   \n",
      "c24a0e6b-fceb-4e57-80b0-471f5e9bc2ef  669.87 MB  19QFA           QA19F   \n",
      "b2972b2e-2b89-4a00-80fe-0bb51a5dd77c  490.71 MB  19QFA           QA19F   \n",
      "73a86405-1f98-45de-ba9a-627e9827b42e  682.52 MB  19QFA           QA19F   \n",
      "166cb79a-7f29-4750-9a2c-940743c957b5  438.91 MB  19QFA           QA19F   \n",
      "1bf75c83-d515-4fa1-a69d-f37d513d527c  692.12 MB  19QFA           QA19F   \n",
      "9aa2ef3f-062a-41ca-8a2b-06eed44bb4ba  648.24 MB  19QFA           QA19F   \n",
      "573f8a5c-c94e-413f-9547-b1629e072f1d  649.56 MB  19QFA           QA19F   \n",
      "e449ca44-35a0-46d5-856f-7a11efcea22b  401.07 MB  19QFA           QA19F   \n",
      "919501a2-3845-4580-bc35-a0b5a861aa90  789.23 MB    NaN             NaN   \n",
      "c6ec6a95-e145-461b-b017-37b4fb1773af  492.98 MB  19QFA           QA19F   \n",
      "\n",
      "                                                                      uuid  \\\n",
      "7d073ec7-2358-4644-a14c-51bdc6fca9c8  7d073ec7-2358-4644-a14c-51bdc6fca9c8   \n",
      "3d592bdd-bcbf-453b-9e9f-a514b4006f95  3d592bdd-bcbf-453b-9e9f-a514b4006f95   \n",
      "c24a0e6b-fceb-4e57-80b0-471f5e9bc2ef  c24a0e6b-fceb-4e57-80b0-471f5e9bc2ef   \n",
      "b2972b2e-2b89-4a00-80fe-0bb51a5dd77c  b2972b2e-2b89-4a00-80fe-0bb51a5dd77c   \n",
      "73a86405-1f98-45de-ba9a-627e9827b42e  73a86405-1f98-45de-ba9a-627e9827b42e   \n",
      "166cb79a-7f29-4750-9a2c-940743c957b5  166cb79a-7f29-4750-9a2c-940743c957b5   \n",
      "1bf75c83-d515-4fa1-a69d-f37d513d527c  1bf75c83-d515-4fa1-a69d-f37d513d527c   \n",
      "9aa2ef3f-062a-41ca-8a2b-06eed44bb4ba  9aa2ef3f-062a-41ca-8a2b-06eed44bb4ba   \n",
      "573f8a5c-c94e-413f-9547-b1629e072f1d  573f8a5c-c94e-413f-9547-b1629e072f1d   \n",
      "e449ca44-35a0-46d5-856f-7a11efcea22b  e449ca44-35a0-46d5-856f-7a11efcea22b   \n",
      "919501a2-3845-4580-bc35-a0b5a861aa90  919501a2-3845-4580-bc35-a0b5a861aa90   \n",
      "c6ec6a95-e145-461b-b017-37b4fb1773af  c6ec6a95-e145-461b-b017-37b4fb1773af   \n",
      "\n",
      "                                                                   level1cpdiidentifier  \\\n",
      "7d073ec7-2358-4644-a14c-51bdc6fca9c8  S2A_OPER_MSI_L1C_TL_SGS__20170727T200442_A0109...   \n",
      "3d592bdd-bcbf-453b-9e9f-a514b4006f95  S2A_OPER_MSI_L1C_TL_MTI__20170408T195242_A0093...   \n",
      "c24a0e6b-fceb-4e57-80b0-471f5e9bc2ef  S2A_OPER_MSI_L1C_TL_MTI__20170806T195110_A0110...   \n",
      "b2972b2e-2b89-4a00-80fe-0bb51a5dd77c  S2A_OPER_MSI_L1C_TL_SGS__20170528T200342_A0100...   \n",
      "73a86405-1f98-45de-ba9a-627e9827b42e  S2A_OPER_MSI_L1C_TL_MTI__20170717T195313_A0108...   \n",
      "166cb79a-7f29-4750-9a2c-940743c957b5  S2B_OPER_MSI_L1C_TL_SGS__20170722T201403_A0019...   \n",
      "1bf75c83-d515-4fa1-a69d-f37d513d527c  S2A_OPER_MSI_L1C_TL_MTI__20170607T195438_A0102...   \n",
      "9aa2ef3f-062a-41ca-8a2b-06eed44bb4ba  S2A_OPER_MSI_L1C_TL_MTI__20170826T195018_A0113...   \n",
      "573f8a5c-c94e-413f-9547-b1629e072f1d  S2B_OPER_MSI_L1C_TL_MTI__20170712T195123_A0018...   \n",
      "e449ca44-35a0-46d5-856f-7a11efcea22b  S2B_OPER_MSI_L1C_TL_SGS__20170811T200424_A0022...   \n",
      "919501a2-3845-4580-bc35-a0b5a861aa90  S2A_OPER_MSI_L1C_TL_MTI__20170408T195242_A0093...   \n",
      "c6ec6a95-e145-461b-b017-37b4fb1773af  S2A_OPER_MSI_L1C_TL_SGS__20170707T215049_A0106...   \n",
      "\n",
      "                                                                      granuleidentifier  \\\n",
      "7d073ec7-2358-4644-a14c-51bdc6fca9c8  S2A_OPER_MSI_L1C_TL_SGS__20170727T200442_A0109...   \n",
      "3d592bdd-bcbf-453b-9e9f-a514b4006f95  S2A_OPER_MSI_L1C_TL_MTI__20170408T195242_A0093...   \n",
      "c24a0e6b-fceb-4e57-80b0-471f5e9bc2ef  S2A_OPER_MSI_L1C_TL_MTI__20170806T195110_A0110...   \n",
      "b2972b2e-2b89-4a00-80fe-0bb51a5dd77c  S2A_OPER_MSI_L1C_TL_SGS__20170528T200342_A0100...   \n",
      "73a86405-1f98-45de-ba9a-627e9827b42e  S2A_OPER_MSI_L1C_TL_MTI__20170717T195313_A0108...   \n",
      "166cb79a-7f29-4750-9a2c-940743c957b5  S2B_OPER_MSI_L1C_TL_SGS__20170722T201403_A0019...   \n",
      "1bf75c83-d515-4fa1-a69d-f37d513d527c  S2A_OPER_MSI_L1C_TL_MTI__20170607T195438_A0102...   \n",
      "9aa2ef3f-062a-41ca-8a2b-06eed44bb4ba  S2A_OPER_MSI_L1C_TL_MTI__20170826T195018_A0113...   \n",
      "573f8a5c-c94e-413f-9547-b1629e072f1d  S2B_OPER_MSI_L1C_TL_MTI__20170712T195123_A0018...   \n",
      "e449ca44-35a0-46d5-856f-7a11efcea22b  S2B_OPER_MSI_L1C_TL_SGS__20170811T200424_A0022...   \n",
      "919501a2-3845-4580-bc35-a0b5a861aa90  S2A_OPER_MSI_L1C_TL_MTI__20170408T195242_A0093...   \n",
      "c6ec6a95-e145-461b-b017-37b4fb1773af  S2A_OPER_MSI_L1C_TL_SGS__20170707T215049_A0106...   \n",
      "\n",
      "                                                                    datastripidentifier  \\\n",
      "7d073ec7-2358-4644-a14c-51bdc6fca9c8  S2A_OPER_MSI_L1C_DS_SGS__20170727T200442_S2017...   \n",
      "3d592bdd-bcbf-453b-9e9f-a514b4006f95  S2A_OPER_MSI_L1C_DS_MTI__20170408T195242_S2017...   \n",
      "c24a0e6b-fceb-4e57-80b0-471f5e9bc2ef  S2A_OPER_MSI_L1C_DS_MTI__20170806T195110_S2017...   \n",
      "b2972b2e-2b89-4a00-80fe-0bb51a5dd77c  S2A_OPER_MSI_L1C_DS_SGS__20170528T200342_S2017...   \n",
      "73a86405-1f98-45de-ba9a-627e9827b42e  S2A_OPER_MSI_L1C_DS_MTI__20170717T195313_S2017...   \n",
      "166cb79a-7f29-4750-9a2c-940743c957b5  S2B_OPER_MSI_L1C_DS_SGS__20170722T201403_S2017...   \n",
      "1bf75c83-d515-4fa1-a69d-f37d513d527c  S2A_OPER_MSI_L1C_DS_MTI__20170607T195438_S2017...   \n",
      "9aa2ef3f-062a-41ca-8a2b-06eed44bb4ba  S2A_OPER_MSI_L1C_DS_MTI__20170826T195018_S2017...   \n",
      "573f8a5c-c94e-413f-9547-b1629e072f1d  S2B_OPER_MSI_L1C_DS_MTI__20170712T195123_S2017...   \n",
      "e449ca44-35a0-46d5-856f-7a11efcea22b  S2B_OPER_MSI_L1C_DS_SGS__20170811T200424_S2017...   \n",
      "919501a2-3845-4580-bc35-a0b5a861aa90  S2A_OPER_MSI_L1C_DS_MTI__20170408T195242_S2017...   \n",
      "c6ec6a95-e145-461b-b017-37b4fb1773af  S2A_OPER_MSI_L1C_DS_SGS__20170707T215049_S2017...   \n",
      "\n",
      "                                                                               geometry  \n",
      "7d073ec7-2358-4644-a14c-51bdc6fca9c8  POLYGON ((-68.05445 18.17511, -68.05425 18.176...  \n",
      "3d592bdd-bcbf-453b-9e9f-a514b4006f95  POLYGON ((-68.05450 18.16579, -68.03754 18.240...  \n",
      "c24a0e6b-fceb-4e57-80b0-471f5e9bc2ef  POLYGON ((-68.05437 18.18933, -68.03551 18.271...  \n",
      "b2972b2e-2b89-4a00-80fe-0bb51a5dd77c  POLYGON ((-68.05437 18.19010, -68.02221 18.331...  \n",
      "73a86405-1f98-45de-ba9a-627e9827b42e  POLYGON ((-68.05455 18.15656, -68.03964 18.222...  \n",
      "166cb79a-7f29-4750-9a2c-940743c957b5  POLYGON ((-68.05425 18.21195, -68.04635 18.246...  \n",
      "1bf75c83-d515-4fa1-a69d-f37d513d527c  POLYGON ((-68.05450 18.16578, -68.03148 18.266...  \n",
      "9aa2ef3f-062a-41ca-8a2b-06eed44bb4ba  POLYGON ((-68.05428 18.20655, -68.04090 18.265...  \n",
      "573f8a5c-c94e-413f-9547-b1629e072f1d  POLYGON ((-68.05428 18.20669, -68.02244 18.346...  \n",
      "e449ca44-35a0-46d5-856f-7a11efcea22b  POLYGON ((-68.05426 18.20903, -68.04351 18.256...  \n",
      "919501a2-3845-4580-bc35-a0b5a861aa90  POLYGON ((-67.10061 18.98278, -66.05848 18.969...  \n",
      "c6ec6a95-e145-461b-b017-37b4fb1773af  POLYGON ((-68.05470 18.13007, -68.04210 18.185...  \n",
      "\n"
     ]
    },
    {
     "name": "stdout",
     "output_type": "stream",
     "text": [
      "[12 rows x 34 columns]\n"
     ]
    }
   ],
   "source": [
    "gdf = gpd.read_file(boundsdata)\n",
    "f, ax = plt.subplots(1)\n",
    "areas.plot(ax=ax, column = 'uuid', cmap = None,)\n",
    "gdf.plot(ax=ax)\n",
    "plt.show()\n",
    "areas_sorted = areas.sort_values(['cloudcoverpercentage', 'ingestiondate'], ascending=[True, True])\n",
    "areas_sorted = areas_sorted.head(20)\n",
    "print(areas_sorted)"
   ]
  },
  {
   "cell_type": "code",
   "execution_count": 77,
   "metadata": {},
   "outputs": [
    {
     "name": "stderr",
     "output_type": "stream",
     "text": [
      "Product bcd8f556-8a1a-46a5-9462-e6d994b1b764 is not online. Triggering retrieval from long term archive.\n",
      "Trying to download an offline product\n"
     ]
    },
    {
     "ename": "SentinelAPILTAError",
     "evalue": "HTTP status 500 Internal Server Error: Trying to download an offline product",
     "output_type": "error",
     "traceback": [
      "\u001b[1;31m---------------------------------------------------------------------------\u001b[0m",
      "\u001b[1;31mSentinelAPILTAError\u001b[0m                       Traceback (most recent call last)",
      "\u001b[1;32m<ipython-input-77-b326b331ee31>\u001b[0m in \u001b[0;36m<module>\u001b[1;34m\u001b[0m\n\u001b[1;32m----> 1\u001b[1;33m \u001b[0mapi\u001b[0m\u001b[1;33m.\u001b[0m\u001b[0mdownload\u001b[0m\u001b[1;33m(\u001b[0m\u001b[1;34m'bcd8f556-8a1a-46a5-9462-e6d994b1b764'\u001b[0m\u001b[1;33m)\u001b[0m\u001b[1;31m#july_product*needs to download\u001b[0m\u001b[1;33m\u001b[0m\u001b[1;33m\u001b[0m\u001b[0m\n\u001b[0m",
      "\u001b[1;32mC:\\Python\\lib\\site-packages\\sentinelsat\\sentinel.py\u001b[0m in \u001b[0;36mdownload\u001b[1;34m(self, id, directory_path, checksum)\u001b[0m\n\u001b[0;32m    507\u001b[0m                 \u001b[1;34m'Product %s is not online. Triggering retrieval from long term archive.'\u001b[0m\u001b[1;33m,\u001b[0m\u001b[1;33m\u001b[0m\u001b[1;33m\u001b[0m\u001b[0m\n\u001b[0;32m    508\u001b[0m                 product_info['id'])\n\u001b[1;32m--> 509\u001b[1;33m             \u001b[0mself\u001b[0m\u001b[1;33m.\u001b[0m\u001b[0m_trigger_offline_retrieval\u001b[0m\u001b[1;33m(\u001b[0m\u001b[0mproduct_info\u001b[0m\u001b[1;33m[\u001b[0m\u001b[1;34m'url'\u001b[0m\u001b[1;33m]\u001b[0m\u001b[1;33m)\u001b[0m\u001b[1;33m\u001b[0m\u001b[1;33m\u001b[0m\u001b[0m\n\u001b[0m\u001b[0;32m    510\u001b[0m             \u001b[1;32mreturn\u001b[0m \u001b[0mproduct_info\u001b[0m\u001b[1;33m\u001b[0m\u001b[1;33m\u001b[0m\u001b[0m\n\u001b[0;32m    511\u001b[0m \u001b[1;33m\u001b[0m\u001b[0m\n",
      "\u001b[1;32mC:\\Python\\lib\\site-packages\\sentinelsat\\sentinel.py\u001b[0m in \u001b[0;36m_trigger_offline_retrieval\u001b[1;34m(self, url)\u001b[0m\n\u001b[0;32m    458\u001b[0m                 \u001b[1;31m# should not happen\u001b[0m\u001b[1;33m\u001b[0m\u001b[1;33m\u001b[0m\u001b[1;33m\u001b[0m\u001b[0m\n\u001b[0;32m    459\u001b[0m                 \u001b[0mself\u001b[0m\u001b[1;33m.\u001b[0m\u001b[0mlogger\u001b[0m\u001b[1;33m.\u001b[0m\u001b[0merror\u001b[0m\u001b[1;33m(\u001b[0m\u001b[1;34m\"Trying to download an offline product\"\u001b[0m\u001b[1;33m)\u001b[0m\u001b[1;33m\u001b[0m\u001b[1;33m\u001b[0m\u001b[0m\n\u001b[1;32m--> 460\u001b[1;33m                 \u001b[1;32mraise\u001b[0m \u001b[0mSentinelAPILTAError\u001b[0m\u001b[1;33m(\u001b[0m\u001b[1;34m'Trying to download an offline product'\u001b[0m\u001b[1;33m,\u001b[0m \u001b[0mr\u001b[0m\u001b[1;33m)\u001b[0m\u001b[1;33m\u001b[0m\u001b[1;33m\u001b[0m\u001b[0m\n\u001b[0m\u001b[0;32m    461\u001b[0m             \u001b[1;32mreturn\u001b[0m \u001b[0mr\u001b[0m\u001b[1;33m.\u001b[0m\u001b[0mstatus_code\u001b[0m\u001b[1;33m\u001b[0m\u001b[1;33m\u001b[0m\u001b[0m\n\u001b[0;32m    462\u001b[0m \u001b[1;33m\u001b[0m\u001b[0m\n",
      "\u001b[1;31mSentinelAPILTAError\u001b[0m: HTTP status 500 Internal Server Error: Trying to download an offline product"
     ]
    }
   ],
   "source": [
    "api.download('bcd8f556-8a1a-46a5-9462-e6d994b1b764')#july_product*needs to download"
   ]
  },
  {
   "cell_type": "code",
   "execution_count": 78,
   "metadata": {},
   "outputs": [
    {
     "name": "stderr",
     "output_type": "stream",
     "text": [
      "Product 16db11f9-964d-4505-9de4-75b37c571a8d is not online. Triggering retrieval from long term archive.\n",
      "Trying to download an offline product\n"
     ]
    },
    {
     "ename": "SentinelAPILTAError",
     "evalue": "HTTP status 500 Internal Server Error: Trying to download an offline product",
     "output_type": "error",
     "traceback": [
      "\u001b[1;31m---------------------------------------------------------------------------\u001b[0m",
      "\u001b[1;31mSentinelAPILTAError\u001b[0m                       Traceback (most recent call last)",
      "\u001b[1;32m<ipython-input-78-afcc9c1360ec>\u001b[0m in \u001b[0;36m<module>\u001b[1;34m\u001b[0m\n\u001b[1;32m----> 1\u001b[1;33m \u001b[0mapi\u001b[0m\u001b[1;33m.\u001b[0m\u001b[0mdownload\u001b[0m\u001b[1;33m(\u001b[0m\u001b[1;34m'16db11f9-964d-4505-9de4-75b37c571a8d'\u001b[0m\u001b[1;33m)\u001b[0m\u001b[1;31m#april product*needs to download\u001b[0m\u001b[1;33m\u001b[0m\u001b[1;33m\u001b[0m\u001b[0m\n\u001b[0m",
      "\u001b[1;32mC:\\Python\\lib\\site-packages\\sentinelsat\\sentinel.py\u001b[0m in \u001b[0;36mdownload\u001b[1;34m(self, id, directory_path, checksum)\u001b[0m\n\u001b[0;32m    507\u001b[0m                 \u001b[1;34m'Product %s is not online. Triggering retrieval from long term archive.'\u001b[0m\u001b[1;33m,\u001b[0m\u001b[1;33m\u001b[0m\u001b[1;33m\u001b[0m\u001b[0m\n\u001b[0;32m    508\u001b[0m                 product_info['id'])\n\u001b[1;32m--> 509\u001b[1;33m             \u001b[0mself\u001b[0m\u001b[1;33m.\u001b[0m\u001b[0m_trigger_offline_retrieval\u001b[0m\u001b[1;33m(\u001b[0m\u001b[0mproduct_info\u001b[0m\u001b[1;33m[\u001b[0m\u001b[1;34m'url'\u001b[0m\u001b[1;33m]\u001b[0m\u001b[1;33m)\u001b[0m\u001b[1;33m\u001b[0m\u001b[1;33m\u001b[0m\u001b[0m\n\u001b[0m\u001b[0;32m    510\u001b[0m             \u001b[1;32mreturn\u001b[0m \u001b[0mproduct_info\u001b[0m\u001b[1;33m\u001b[0m\u001b[1;33m\u001b[0m\u001b[0m\n\u001b[0;32m    511\u001b[0m \u001b[1;33m\u001b[0m\u001b[0m\n",
      "\u001b[1;32mC:\\Python\\lib\\site-packages\\sentinelsat\\sentinel.py\u001b[0m in \u001b[0;36m_trigger_offline_retrieval\u001b[1;34m(self, url)\u001b[0m\n\u001b[0;32m    458\u001b[0m                 \u001b[1;31m# should not happen\u001b[0m\u001b[1;33m\u001b[0m\u001b[1;33m\u001b[0m\u001b[1;33m\u001b[0m\u001b[0m\n\u001b[0;32m    459\u001b[0m                 \u001b[0mself\u001b[0m\u001b[1;33m.\u001b[0m\u001b[0mlogger\u001b[0m\u001b[1;33m.\u001b[0m\u001b[0merror\u001b[0m\u001b[1;33m(\u001b[0m\u001b[1;34m\"Trying to download an offline product\"\u001b[0m\u001b[1;33m)\u001b[0m\u001b[1;33m\u001b[0m\u001b[1;33m\u001b[0m\u001b[0m\n\u001b[1;32m--> 460\u001b[1;33m                 \u001b[1;32mraise\u001b[0m \u001b[0mSentinelAPILTAError\u001b[0m\u001b[1;33m(\u001b[0m\u001b[1;34m'Trying to download an offline product'\u001b[0m\u001b[1;33m,\u001b[0m \u001b[0mr\u001b[0m\u001b[1;33m)\u001b[0m\u001b[1;33m\u001b[0m\u001b[1;33m\u001b[0m\u001b[0m\n\u001b[0m\u001b[0;32m    461\u001b[0m             \u001b[1;32mreturn\u001b[0m \u001b[0mr\u001b[0m\u001b[1;33m.\u001b[0m\u001b[0mstatus_code\u001b[0m\u001b[1;33m\u001b[0m\u001b[1;33m\u001b[0m\u001b[0m\n\u001b[0;32m    462\u001b[0m \u001b[1;33m\u001b[0m\u001b[0m\n",
      "\u001b[1;31mSentinelAPILTAError\u001b[0m: HTTP status 500 Internal Server Error: Trying to download an offline product"
     ]
    }
   ],
   "source": [
    "api.download('16db11f9-964d-4505-9de4-75b37c571a8d')#april product*needs to download"
   ]
  },
  {
   "cell_type": "code",
   "execution_count": 115,
   "metadata": {},
   "outputs": [
    {
     "name": "stdout",
     "output_type": "stream",
     "text": [
      "13\n"
     ]
    }
   ],
   "source": []
  },
  {
   "cell_type": "code",
   "execution_count": 24,
   "metadata": {},
   "outputs": [],
   "source": []
  },
  {
   "cell_type": "code",
   "execution_count": null,
   "metadata": {},
   "outputs": [],
   "source": []
  }
 ],
 "metadata": {
  "kernelspec": {
   "display_name": "Python 3",
   "language": "python",
   "name": "python3"
  },
  "language_info": {
   "codemirror_mode": {
    "name": "ipython",
    "version": 3
   },
   "file_extension": ".py",
   "mimetype": "text/x-python",
   "name": "python",
   "nbconvert_exporter": "python",
   "pygments_lexer": "ipython3",
   "version": "3.7.4"
  }
 },
 "nbformat": 4,
 "nbformat_minor": 2
}
